{
 "cells": [
  {
   "cell_type": "markdown",
   "metadata": {},
   "source": [
    "# Processing the Indian Universe File "
   ]
  },
  {
   "cell_type": "code",
   "execution_count": 1,
   "metadata": {},
   "outputs": [],
   "source": [
    "import pandas as pd\n",
    "import numpy as np\n",
    "import math\n",
    "from datetime import datetime\n",
    "from scipy import stats"
   ]
  },
  {
   "cell_type": "code",
   "execution_count": null,
   "metadata": {},
   "outputs": [],
   "source": []
  },
  {
   "cell_type": "code",
   "execution_count": 2,
   "metadata": {},
   "outputs": [],
   "source": [
    "# Helper Functions\n",
    "def coalesce(x, y=0):\n",
    "    return np.where(pd.isna(x), y, x)\n",
    "\n",
    "def select_stocks(data, rank_column, n_stocks=30):\n",
    "    \n",
    "    unique_dates = data['date'].unique()\n",
    "    portfolio_data = pd.DataFrame()\n",
    "\n",
    "    for month_date in unique_dates:\n",
    "        month_data = data[data['date'] == month_date]\n",
    "        ordered_data = month_data.sort_values(by=rank_column)\n",
    "\n",
    "        selected_stocks = pd.DataFrame()\n",
    "        sector_count = pd.DataFrame(columns=['Sector', 'Count'])\n",
    "        mcap_count = pd.DataFrame({'Category': ['Large', 'Mid', 'Small'],\n",
    "                                   'Count': [0, 0, 0],\n",
    "                                   'Max_Count': [16, 14, 12]})\n",
    "\n",
    "        for _, stock in ordered_data.iterrows():\n",
    "            sector = stock['TRBC.Economic.Sector.Name']\n",
    "            category = stock['mcap_cat']\n",
    "\n",
    "            if sector not in sector_count['Sector'].values:\n",
    "                sector_count = pd.concat([sector_count, pd.DataFrame([[sector, 0]], columns=['Sector', 'Count'])], ignore_index=True)\n",
    "                #print(sector_count)\n",
    "                \n",
    "            if (sector_count.loc[sector_count['Sector'] == sector, 'Count'].values[0] < 12 and\n",
    "                mcap_count.loc[mcap_count['Category'] == category, 'Count'].values[0] < mcap_count.loc[mcap_count['Category'] == category, 'Max_Count'].values[0]):\n",
    "                \n",
    "                selected_stocks = pd.concat([selected_stocks, stock.to_frame().T])\n",
    "                #print(stock)\n",
    "                \n",
    "                sector_count.loc[sector_count['Sector'] == sector, 'Count'] += 1\n",
    "                mcap_count.loc[mcap_count['Category'] == category, 'Count'] += 1\n",
    "\n",
    "            if len(selected_stocks) == n_stocks:\n",
    "                break\n",
    "\n",
    "        portfolio_data = pd.concat([portfolio_data, selected_stocks])\n",
    "        \n",
    "\n",
    "    return portfolio_data"
   ]
  },
  {
   "cell_type": "code",
   "execution_count": null,
   "metadata": {},
   "outputs": [],
   "source": []
  },
  {
   "cell_type": "code",
   "execution_count": 3,
   "metadata": {},
   "outputs": [
    {
     "name": "stderr",
     "output_type": "stream",
     "text": [
      "C:\\Users\\Vedant Wanchoo\\anaconda3\\lib\\site-packages\\IPython\\core\\interactiveshell.py:3444: DtypeWarning: Columns (139,164,165,289,309,339,404,432,670,671,672,674,681,685,694,696,698,703,706,708,988) have mixed types.Specify dtype option on import or set low_memory=False.\n",
      "  exec(code_obj, self.user_global_ns, self.user_ns)\n"
     ]
    }
   ],
   "source": [
    "## Load the CSV file\n",
    "\n",
    "filepath = \"C:/Users/Vedant Wanchoo/Desktop/CGS 2020/India Fund/India Proposal/Portfolio Assembly India/scores_liqIBUniverse_India_2025-02-07.csv\"\n",
    "scores = pd.read_csv(filepath)\n",
    "\n",
    "# Filtering the scores file for pick_toScore == True\n",
    "scores = scores[scores['pick_toScore'] == True]\n",
    "\n",
    "# Selecting the required columns\n",
    "cols_select = [\"RIC\", \"date\", \"MVC\", \"TRBC.Economic.Sector.Name\", \"avgDailyUSDollarVolume\", \"last_ClosePrice\", \"score_total_ind\"]\n",
    "\n",
    "## Adding the date column and calculating the score_total_ind\n",
    "scores['date'] = pd.to_datetime(\"2025-02-07\")\n",
    "scores['score_total_ind'] = (coalesce(scores['score_momentum']) +\n",
    "                             coalesce(scores['score_profitability']) +\n",
    "                             coalesce(scores['score_value_adj']) +\n",
    "                             coalesce(scores['score_vol']) +\n",
    "                             coalesce(scores['score_st_combined']) +\n",
    "                             coalesce(scores['score_liqShock']))"
   ]
  },
  {
   "cell_type": "code",
   "execution_count": null,
   "metadata": {},
   "outputs": [],
   "source": []
  },
  {
   "cell_type": "code",
   "execution_count": 4,
   "metadata": {},
   "outputs": [],
   "source": [
    "# Filtering and creating variables to filter based on market cap\n",
    "scores_filtered = scores[cols_select].copy()\n",
    "scores_filtered['mcap_check'] = np.where(scores_filtered['MVC'] > scores_filtered['MVC'].quantile(0.60), 1, 0)\n",
    "scores_filtered['mcap_rank'] = scores_filtered['MVC'].rank(ascending=False)\n",
    "scores_filtered['mcap_cat'] = np.where(scores_filtered['mcap_rank'] <= 100, 'Large',\n",
    "                                       np.where(scores_filtered['mcap_rank'] <= 250, 'Mid', 'Small'))\n",
    "\n",
    "# Creating the liquidity and price limits\n",
    "scores_filtered['liquidity_min'] = 4000000\n",
    "scores_filtered['price_min'] = 200000 / 30\n",
    "\n",
    "# Applying liquidity and price checks\n",
    "scores_filtered['liquidity_check'] = np.where(scores_filtered['avgDailyUSDollarVolume'] >= scores_filtered['liquidity_min'], 1, 0)\n",
    "scores_filtered['price_check'] = np.where(scores_filtered['last_ClosePrice'] <= scores_filtered['price_min'], 1, 0)\n",
    "\n",
    "# Filtering and ranking the data\n",
    "scores_filtered = scores_filtered[(scores_filtered['mcap_rank'] <= 500) &\n",
    "                                  (scores_filtered['liquidity_check'] == 1) &\n",
    "                                  (scores_filtered['price_check'] == 1)]\n",
    "\n",
    "scores_filtered['mcap_rank_ST'] = scores_filtered.groupby('score_total_ind')['MVC'].rank(ascending=True) / 100\n",
    "scores_filtered['score_total_new'] = scores_filtered['score_total_ind'] + scores_filtered['mcap_rank_ST']\n",
    "scores_filtered['rank_total'] = scores_filtered['score_total_new'].rank(ascending=False)\n"
   ]
  },
  {
   "cell_type": "code",
   "execution_count": null,
   "metadata": {},
   "outputs": [],
   "source": []
  },
  {
   "cell_type": "code",
   "execution_count": 5,
   "metadata": {},
   "outputs": [],
   "source": [
    "# Portfolio creation\n",
    "portfolio = select_stocks(data=scores_filtered, rank_column='rank_total')\n",
    "portfolio['picked'] = True"
   ]
  },
  {
   "cell_type": "code",
   "execution_count": 6,
   "metadata": {},
   "outputs": [],
   "source": [
    "# Merging with the original scores file\n",
    "output = pd.merge(scores, portfolio[['RIC', 'picked']], on='RIC', how='left')"
   ]
  },
  {
   "cell_type": "code",
   "execution_count": 7,
   "metadata": {},
   "outputs": [
    {
     "data": {
      "text/html": [
       "<div>\n",
       "<style scoped>\n",
       "    .dataframe tbody tr th:only-of-type {\n",
       "        vertical-align: middle;\n",
       "    }\n",
       "\n",
       "    .dataframe tbody tr th {\n",
       "        vertical-align: top;\n",
       "    }\n",
       "\n",
       "    .dataframe thead th {\n",
       "        text-align: right;\n",
       "    }\n",
       "</style>\n",
       "<table border=\"1\" class=\"dataframe\">\n",
       "  <thead>\n",
       "    <tr style=\"text-align: right;\">\n",
       "      <th></th>\n",
       "      <th>RIC</th>\n",
       "      <th>Market_adj</th>\n",
       "      <th>ISIN</th>\n",
       "      <th>Currency.abb</th>\n",
       "      <th>score_liqShock</th>\n",
       "      <th>score_liqShock_detailed</th>\n",
       "      <th>Market</th>\n",
       "      <th>Full.Name</th>\n",
       "      <th>Business.Description</th>\n",
       "      <th>Country.of.Headquarters</th>\n",
       "      <th>...</th>\n",
       "      <th>score_short_for_percentile</th>\n",
       "      <th>score_short_max_market</th>\n",
       "      <th>score_short_percentile</th>\n",
       "      <th>score_short_percentile_adj</th>\n",
       "      <th>score_total_max_industry</th>\n",
       "      <th>score_total_percentile_industry</th>\n",
       "      <th>score_total_percentile_industry_adj</th>\n",
       "      <th>score_total_hypothetical_percentile</th>\n",
       "      <th>score_total_ind</th>\n",
       "      <th>picked</th>\n",
       "    </tr>\n",
       "  </thead>\n",
       "  <tbody>\n",
       "    <tr>\n",
       "      <th>0</th>\n",
       "      <td>63MO.NS</td>\n",
       "      <td>India</td>\n",
       "      <td>INE111B01023</td>\n",
       "      <td>INR</td>\n",
       "      <td>5.0</td>\n",
       "      <td>86.0</td>\n",
       "      <td>India</td>\n",
       "      <td>63 Moons Technologies</td>\n",
       "      <td>63 Moons Technologies Limited is an India-base...</td>\n",
       "      <td>India</td>\n",
       "      <td>...</td>\n",
       "      <td>-14.0</td>\n",
       "      <td>100.0</td>\n",
       "      <td>26.0</td>\n",
       "      <td>26.0</td>\n",
       "      <td>16.0</td>\n",
       "      <td>14.0</td>\n",
       "      <td>87.500000</td>\n",
       "      <td>96.0</td>\n",
       "      <td>30.0</td>\n",
       "      <td>NaN</td>\n",
       "    </tr>\n",
       "    <tr>\n",
       "      <th>1</th>\n",
       "      <td>AARP.NS</td>\n",
       "      <td>India</td>\n",
       "      <td>INE0LRU01027</td>\n",
       "      <td>INR</td>\n",
       "      <td>5.0</td>\n",
       "      <td>83.0</td>\n",
       "      <td>India</td>\n",
       "      <td>Aarti Pharmalabs</td>\n",
       "      <td>Aarti Pharmalabs Limited is a manufacturer of ...</td>\n",
       "      <td>India</td>\n",
       "      <td>...</td>\n",
       "      <td>-12.0</td>\n",
       "      <td>100.0</td>\n",
       "      <td>14.0</td>\n",
       "      <td>14.0</td>\n",
       "      <td>56.0</td>\n",
       "      <td>52.0</td>\n",
       "      <td>92.857143</td>\n",
       "      <td>100.0</td>\n",
       "      <td>39.0</td>\n",
       "      <td>NaN</td>\n",
       "    </tr>\n",
       "    <tr>\n",
       "      <th>2</th>\n",
       "      <td>ABB.NS</td>\n",
       "      <td>India</td>\n",
       "      <td>INE117A01022</td>\n",
       "      <td>INR</td>\n",
       "      <td>0.0</td>\n",
       "      <td>67.0</td>\n",
       "      <td>India</td>\n",
       "      <td>ABB India</td>\n",
       "      <td>ABB India Limited is an India-based technology...</td>\n",
       "      <td>India</td>\n",
       "      <td>...</td>\n",
       "      <td>-17.0</td>\n",
       "      <td>100.0</td>\n",
       "      <td>54.0</td>\n",
       "      <td>54.0</td>\n",
       "      <td>37.0</td>\n",
       "      <td>18.0</td>\n",
       "      <td>48.648649</td>\n",
       "      <td>84.0</td>\n",
       "      <td>28.0</td>\n",
       "      <td>NaN</td>\n",
       "    </tr>\n",
       "    <tr>\n",
       "      <th>3</th>\n",
       "      <td>ABDL.NS</td>\n",
       "      <td>India</td>\n",
       "      <td>INE442H01029</td>\n",
       "      <td>INR</td>\n",
       "      <td>0.0</td>\n",
       "      <td>76.0</td>\n",
       "      <td>India</td>\n",
       "      <td>Ashoka Buildcon</td>\n",
       "      <td>Ashoka Buildcon Limited is an India-based high...</td>\n",
       "      <td>India</td>\n",
       "      <td>...</td>\n",
       "      <td>-14.0</td>\n",
       "      <td>100.0</td>\n",
       "      <td>26.0</td>\n",
       "      <td>26.0</td>\n",
       "      <td>43.0</td>\n",
       "      <td>30.0</td>\n",
       "      <td>69.767442</td>\n",
       "      <td>96.0</td>\n",
       "      <td>31.0</td>\n",
       "      <td>NaN</td>\n",
       "    </tr>\n",
       "    <tr>\n",
       "      <th>4</th>\n",
       "      <td>ABOT.NS</td>\n",
       "      <td>India</td>\n",
       "      <td>INE358A01014</td>\n",
       "      <td>INR</td>\n",
       "      <td>0.0</td>\n",
       "      <td>NaN</td>\n",
       "      <td>India</td>\n",
       "      <td>Abbott India</td>\n",
       "      <td>Abbott India Limited is an India-based company...</td>\n",
       "      <td>India</td>\n",
       "      <td>...</td>\n",
       "      <td>-10.0</td>\n",
       "      <td>100.0</td>\n",
       "      <td>4.0</td>\n",
       "      <td>4.0</td>\n",
       "      <td>56.0</td>\n",
       "      <td>48.0</td>\n",
       "      <td>85.714286</td>\n",
       "      <td>100.0</td>\n",
       "      <td>40.0</td>\n",
       "      <td>NaN</td>\n",
       "    </tr>\n",
       "  </tbody>\n",
       "</table>\n",
       "<p>5 rows × 1028 columns</p>\n",
       "</div>"
      ],
      "text/plain": [
       "       RIC Market_adj          ISIN Currency.abb  score_liqShock  \\\n",
       "0  63MO.NS      India  INE111B01023          INR             5.0   \n",
       "1  AARP.NS      India  INE0LRU01027          INR             5.0   \n",
       "2   ABB.NS      India  INE117A01022          INR             0.0   \n",
       "3  ABDL.NS      India  INE442H01029          INR             0.0   \n",
       "4  ABOT.NS      India  INE358A01014          INR             0.0   \n",
       "\n",
       "   score_liqShock_detailed Market              Full.Name  \\\n",
       "0                     86.0  India  63 Moons Technologies   \n",
       "1                     83.0  India       Aarti Pharmalabs   \n",
       "2                     67.0  India              ABB India   \n",
       "3                     76.0  India        Ashoka Buildcon   \n",
       "4                      NaN  India           Abbott India   \n",
       "\n",
       "                                Business.Description Country.of.Headquarters  \\\n",
       "0  63 Moons Technologies Limited is an India-base...                   India   \n",
       "1  Aarti Pharmalabs Limited is a manufacturer of ...                   India   \n",
       "2  ABB India Limited is an India-based technology...                   India   \n",
       "3  Ashoka Buildcon Limited is an India-based high...                   India   \n",
       "4  Abbott India Limited is an India-based company...                   India   \n",
       "\n",
       "   ...  score_short_for_percentile score_short_max_market  \\\n",
       "0  ...                       -14.0                  100.0   \n",
       "1  ...                       -12.0                  100.0   \n",
       "2  ...                       -17.0                  100.0   \n",
       "3  ...                       -14.0                  100.0   \n",
       "4  ...                       -10.0                  100.0   \n",
       "\n",
       "  score_short_percentile score_short_percentile_adj score_total_max_industry  \\\n",
       "0                   26.0                       26.0                     16.0   \n",
       "1                   14.0                       14.0                     56.0   \n",
       "2                   54.0                       54.0                     37.0   \n",
       "3                   26.0                       26.0                     43.0   \n",
       "4                    4.0                        4.0                     56.0   \n",
       "\n",
       "  score_total_percentile_industry score_total_percentile_industry_adj  \\\n",
       "0                            14.0                           87.500000   \n",
       "1                            52.0                           92.857143   \n",
       "2                            18.0                           48.648649   \n",
       "3                            30.0                           69.767442   \n",
       "4                            48.0                           85.714286   \n",
       "\n",
       "  score_total_hypothetical_percentile score_total_ind picked  \n",
       "0                                96.0            30.0    NaN  \n",
       "1                               100.0            39.0    NaN  \n",
       "2                                84.0            28.0    NaN  \n",
       "3                                96.0            31.0    NaN  \n",
       "4                               100.0            40.0    NaN  \n",
       "\n",
       "[5 rows x 1028 columns]"
      ]
     },
     "execution_count": 7,
     "metadata": {},
     "output_type": "execute_result"
    }
   ],
   "source": [
    "output.head()"
   ]
  },
  {
   "cell_type": "code",
   "execution_count": null,
   "metadata": {},
   "outputs": [],
   "source": []
  },
  {
   "cell_type": "code",
   "execution_count": 8,
   "metadata": {},
   "outputs": [],
   "source": [
    "##\n",
    "\n",
    "# Writing the output to a CSV file\n",
    "output.to_csv(\"C:/Users/Vedant Wanchoo/Desktop/CGS 2020/India Fund/India Proposal/Portfolio Assembly India/scores-processed_smallcase_2025-02-07.csv\", index=False)"
   ]
  },
  {
   "cell_type": "code",
   "execution_count": null,
   "metadata": {},
   "outputs": [],
   "source": []
  },
  {
   "cell_type": "code",
   "execution_count": 9,
   "metadata": {},
   "outputs": [
    {
     "data": {
      "text/plain": [
       "(958, 1028)"
      ]
     },
     "execution_count": 9,
     "metadata": {},
     "output_type": "execute_result"
    }
   ],
   "source": [
    "output.shape"
   ]
  },
  {
   "cell_type": "code",
   "execution_count": null,
   "metadata": {},
   "outputs": [],
   "source": []
  },
  {
   "cell_type": "code",
   "execution_count": 10,
   "metadata": {},
   "outputs": [],
   "source": [
    "import pandas as pd\n",
    "import numpy as np\n",
    "from datetime import datetime\n",
    "from scipy import stats\n",
    "\n",
    "# Load required libraries\n",
    "import pandas as pd\n",
    "import numpy as np\n",
    "from datetime import datetime\n",
    "\n",
    "import math"
   ]
  },
  {
   "cell_type": "code",
   "execution_count": null,
   "metadata": {},
   "outputs": [],
   "source": []
  },
  {
   "cell_type": "code",
   "execution_count": 11,
   "metadata": {},
   "outputs": [],
   "source": [
    "##\n",
    "\n",
    "data = output.copy()\n",
    "#data=pd.read_csv(r'C:\\Users\\Vedant Wanchoo\\Desktop\\CGS 2020\\India Fund\\India Proposal\\Portfolio Assembly India\\scores-processed_smallcase_2024-12-08.csv',encoding= 'unicode_escape')\n",
    "\n",
    "#Input Prof Ben's CSV file here"
   ]
  },
  {
   "cell_type": "code",
   "execution_count": null,
   "metadata": {},
   "outputs": [],
   "source": []
  },
  {
   "cell_type": "code",
   "execution_count": 12,
   "metadata": {},
   "outputs": [
    {
     "data": {
      "text/plain": [
       "(958, 1028)"
      ]
     },
     "execution_count": 12,
     "metadata": {},
     "output_type": "execute_result"
    }
   ],
   "source": [
    "data.shape"
   ]
  },
  {
   "cell_type": "code",
   "execution_count": null,
   "metadata": {},
   "outputs": [],
   "source": []
  },
  {
   "cell_type": "code",
   "execution_count": 13,
   "metadata": {},
   "outputs": [],
   "source": [
    "data = data[data['Market'] == 'India']"
   ]
  },
  {
   "cell_type": "code",
   "execution_count": 14,
   "metadata": {},
   "outputs": [],
   "source": [
    "#data.loc[data['ticker'] == 'F&N', ['ticker']] = 'F N'"
   ]
  },
  {
   "cell_type": "code",
   "execution_count": 15,
   "metadata": {},
   "outputs": [
    {
     "data": {
      "text/plain": [
       "(958, 1028)"
      ]
     },
     "execution_count": 15,
     "metadata": {},
     "output_type": "execute_result"
    }
   ],
   "source": [
    "data.shape"
   ]
  },
  {
   "cell_type": "code",
   "execution_count": null,
   "metadata": {},
   "outputs": [],
   "source": []
  },
  {
   "cell_type": "code",
   "execution_count": 16,
   "metadata": {},
   "outputs": [],
   "source": [
    "dd=pd.DataFrame()"
   ]
  },
  {
   "cell_type": "code",
   "execution_count": null,
   "metadata": {},
   "outputs": [],
   "source": []
  },
  {
   "cell_type": "code",
   "execution_count": 17,
   "metadata": {},
   "outputs": [],
   "source": [
    "#dd['IB Ticker']=data['ib_symbol']\n",
    "dd['IB Ticker']=data['ticker']\n",
    "dd['Company Name']=data['Full.Name']\n",
    "dd['Industry']=data['GICS.Industry.Name']\n",
    "dd['GICS Sector']=data['GICS.Sector.Name']\n",
    "dd['Business Description']=data['Business.Description']\n",
    "#dd['Adj Total Score']=data['score_total_percentile_adj']\n",
    "#dd['score_total_percentile_industry_adj']=data['score_total_percentile_industry_adj']\n",
    "#dd['Hypothetical TS Rank']=data['score_total_hypothetical_percentile']\n",
    "\n",
    "dd['Mkt Cap mn USD']=data['MVC']/(1000000*85) #'MVC_USD'Company.Market.Cap_USD\n",
    "dd['Stock Price']=data['last_ClosePrice']#last_ClosePrice #P_latest\n",
    "\n",
    "dd['Market']=data['Market']\n",
    "dd['Currency']=data['CF.CURR']\n",
    "dd['fx']=data['fx']\n",
    "\n",
    "\n",
    "dd['Total Score']=data['score_total_ind']\n",
    "dd['Total Score']=dd['Total Score'].fillna(0)\n",
    "\n",
    "dd['Value']=data['score_value_adj']\n",
    "dd['Momentum']=data['score_momentum']\n",
    "dd['Quality']=data['score_profitability']\n",
    "dd['Volatility']=data['score_vol']\n",
    "dd['Proprietary']= data['score_st_combined'] + data['score_liqShock']\n",
    "\n",
    "dd['ESG Score']=data['ESG.Score']\n",
    "dd['ESG Combined Score']=data['ESG.Combined.Score']\n",
    "\n",
    "#dd['Liquidity']=data['score_liqShock']\n",
    "#dd['Investment']=data['score_investment']\n",
    "#dd['Ivol (CAPM)']=data['ivol_CAPM']\n",
    "#dd['Adjusted Value']=data['score_value_adj']\n",
    "#dd['Liquidity Score']=data['score_liqShock_detailed']\n",
    "#dd['Short Score']=data['score_short']\n",
    "#dd['Adj Short Score']=data['score_short_percentile_adj']\n",
    "\n",
    "#dd['Bombora Boost Score']=data['score_boost_bombora']\n",
    "\n",
    "dd['P / S']=data['P_S']\n",
    "dd['P / BV']=data['P_BV']\n",
    "dd['P / E']=data['P_E']\n",
    "dd['P / CF']=data['P_CF']\n",
    "dd['ROE']=data['ROE']/100\n",
    "dd['ROA']=data['ROA']/100\n",
    "dd['DE']=data['DE']/100\n",
    "dd['DA']=data['DA']/100\n",
    "dd['Dividend Yield']=data['DividendYield']/100\n",
    "dd['FCF per Share']=data['FCF_perShare']\n",
    "\n",
    "\n",
    "dd['Islam Flag']=data['Shariah.Compliant.Flag']\n",
    "dd['kill size']=data['kill_size']\n",
    "dd['kill liquidity']=data['kill_liquidity']\n",
    "dd['kill extr Value1']=data['kill_extremeValue1']\n",
    "dd['kill extr Value2']=data['kill_extremeValue2']\n",
    "\n",
    "\n",
    "dd['RIC']=data['RIC']\n",
    "dd['ISIN']=data['ISIN.Code']\n",
    "dd['Ticker']=data['ticker']\n",
    "dd['Ticker Symbol']=data['Ticker.Symbol']\n",
    "dd['Exchange Ticker']=data['Exchange.Ticker']\n",
    "\n",
    "dd['Country of HQ']=data['Country.of.Headquarters']\n",
    "dd['Market adj']=data['Market_adj']\n",
    "dd['Sector Name']=data['NAICS.Sector.Name']\n",
    "dd['Subsector Name']=data['NAICS.Subsector.Name']\n",
    "dd['Sub Industry']=data['NAICS.International.Industry.Name']\n",
    "\n",
    "dd['Dividend Ex Date']=data['Dividend.Ex.Date_Live']\n",
    "#dd['Dividend Yield (Est.)']=data['approx_div_yield_Live'] #lastmonth_Dividend.yield\n",
    "\n",
    "dd['Avg_Volume_Daily_USD']=data['avgDailyUSDollarVolume']/1000000\n",
    "\n",
    "#dd['20 Day Avg Volume (Mn USD)']=data['Average.Daily.Value.Traded...20.Days_USD']\n",
    "\n",
    "dd.insert(0,'Tick | Curr',dd['IB Ticker'] + \" | \" + dd['Currency'])\n",
    "\n",
    "dd['Ideal Portfolio']=data['picked']\n",
    "dd['Ideal Portfolio'].fillna(False, inplace=True)\n",
    "dd.loc[dd['Ideal Portfolio'], 'Ideal Portfolio'] = 1/30\n",
    "dd['Ideal Portfolio'].replace(False, np.nan, inplace=True)\n",
    "\n",
    "#dd['Dividend Yield1']=data['Dividend.yield']\n",
    "#dd['Mkt Cap mn USD']=data['Company.Market.Cap_USD']#'Company.Market.Cap_USD'\n",
    "#dd['Stock Price']=data['P_latest']\n",
    "#dd['ACWI weight']=data['weight_msci_acwi']\n",
    "#dd['score total esg']=data['score_total_esg']\n",
    "#dd['score total threshold']=data['score_total_threshold']\n",
    "#dd['inTop18']=data['inTop18']\n",
    "#dd['Islamic weight']=data['weight_msci_islamic']\n",
    "#dd['Dividend_NextMonth']=data.iloc[:,402] #dividend_nextMonth"
   ]
  },
  {
   "cell_type": "code",
   "execution_count": 18,
   "metadata": {},
   "outputs": [
    {
     "data": {
      "text/plain": [
       "(958, 47)"
      ]
     },
     "execution_count": 18,
     "metadata": {},
     "output_type": "execute_result"
    }
   ],
   "source": [
    "dd.shape"
   ]
  },
  {
   "cell_type": "code",
   "execution_count": 19,
   "metadata": {},
   "outputs": [],
   "source": [
    "dd=dd.sort_values('Mkt Cap mn USD',ascending=False)\n",
    "\n",
    "dd.reset_index(drop=True,inplace=True)"
   ]
  },
  {
   "cell_type": "code",
   "execution_count": 20,
   "metadata": {},
   "outputs": [
    {
     "data": {
      "text/plain": [
       "(958, 47)"
      ]
     },
     "execution_count": 20,
     "metadata": {},
     "output_type": "execute_result"
    }
   ],
   "source": [
    "dd.shape"
   ]
  },
  {
   "cell_type": "code",
   "execution_count": 21,
   "metadata": {},
   "outputs": [
    {
     "data": {
      "text/html": [
       "<div>\n",
       "<style scoped>\n",
       "    .dataframe tbody tr th:only-of-type {\n",
       "        vertical-align: middle;\n",
       "    }\n",
       "\n",
       "    .dataframe tbody tr th {\n",
       "        vertical-align: top;\n",
       "    }\n",
       "\n",
       "    .dataframe thead th {\n",
       "        text-align: right;\n",
       "    }\n",
       "</style>\n",
       "<table border=\"1\" class=\"dataframe\">\n",
       "  <thead>\n",
       "    <tr style=\"text-align: right;\">\n",
       "      <th></th>\n",
       "      <th>Tick | Curr</th>\n",
       "      <th>IB Ticker</th>\n",
       "      <th>Company Name</th>\n",
       "      <th>Industry</th>\n",
       "      <th>GICS Sector</th>\n",
       "      <th>Business Description</th>\n",
       "      <th>Mkt Cap mn USD</th>\n",
       "      <th>Stock Price</th>\n",
       "      <th>Market</th>\n",
       "      <th>Currency</th>\n",
       "      <th>...</th>\n",
       "      <th>Ticker Symbol</th>\n",
       "      <th>Exchange Ticker</th>\n",
       "      <th>Country of HQ</th>\n",
       "      <th>Market adj</th>\n",
       "      <th>Sector Name</th>\n",
       "      <th>Subsector Name</th>\n",
       "      <th>Sub Industry</th>\n",
       "      <th>Dividend Ex Date</th>\n",
       "      <th>Avg_Volume_Daily_USD</th>\n",
       "      <th>Ideal Portfolio</th>\n",
       "    </tr>\n",
       "  </thead>\n",
       "  <tbody>\n",
       "    <tr>\n",
       "      <th>0</th>\n",
       "      <td>RELIANCE | INR</td>\n",
       "      <td>RELIANCE</td>\n",
       "      <td>Reliance Industries</td>\n",
       "      <td>Oil, Gas &amp; Consumable Fuels</td>\n",
       "      <td>Energy</td>\n",
       "      <td>Reliance Industries Limited is engaged in the ...</td>\n",
       "      <td>201388.525036</td>\n",
       "      <td>1265.10</td>\n",
       "      <td>India</td>\n",
       "      <td>INR</td>\n",
       "      <td>...</td>\n",
       "      <td>RELIANCE</td>\n",
       "      <td>RELIANCE</td>\n",
       "      <td>India</td>\n",
       "      <td>India</td>\n",
       "      <td>Manufacturing</td>\n",
       "      <td>Petroleum and Coal Products Manufacturing</td>\n",
       "      <td>Petroleum Refineries</td>\n",
       "      <td>NaN</td>\n",
       "      <td>184.308959</td>\n",
       "      <td>NaN</td>\n",
       "    </tr>\n",
       "    <tr>\n",
       "      <th>1</th>\n",
       "      <td>TCS | INR</td>\n",
       "      <td>TCS</td>\n",
       "      <td>Tata Consultancy Services</td>\n",
       "      <td>IT Services</td>\n",
       "      <td>Information Technology</td>\n",
       "      <td>Tata Consultancy Services Limited (TCS) is an ...</td>\n",
       "      <td>175029.127147</td>\n",
       "      <td>4112.40</td>\n",
       "      <td>India</td>\n",
       "      <td>INR</td>\n",
       "      <td>...</td>\n",
       "      <td>TCS</td>\n",
       "      <td>TCS</td>\n",
       "      <td>India</td>\n",
       "      <td>India</td>\n",
       "      <td>Professional, Scientific, and Technical Services</td>\n",
       "      <td>Professional, Scientific, and Technical Services</td>\n",
       "      <td>Computer Systems Design and Related Services</td>\n",
       "      <td>NaN</td>\n",
       "      <td>110.555549</td>\n",
       "      <td>NaN</td>\n",
       "    </tr>\n",
       "    <tr>\n",
       "      <th>2</th>\n",
       "      <td>HDFCBANK | INR</td>\n",
       "      <td>HDFCBANK</td>\n",
       "      <td>HDFC Bank</td>\n",
       "      <td>Banks</td>\n",
       "      <td>Financials</td>\n",
       "      <td>HDFC Bank Limited (the Bank) is a private bank...</td>\n",
       "      <td>152875.191446</td>\n",
       "      <td>1698.75</td>\n",
       "      <td>India</td>\n",
       "      <td>INR</td>\n",
       "      <td>...</td>\n",
       "      <td>HDFCBANK</td>\n",
       "      <td>HDFCBANK</td>\n",
       "      <td>India</td>\n",
       "      <td>India</td>\n",
       "      <td>Finance and Insurance</td>\n",
       "      <td>Credit Intermediation and Related Activities</td>\n",
       "      <td>Commercial Banking</td>\n",
       "      <td>NaN</td>\n",
       "      <td>218.227445</td>\n",
       "      <td>NaN</td>\n",
       "    </tr>\n",
       "    <tr>\n",
       "      <th>3</th>\n",
       "      <td>BHARTIARTL | INR</td>\n",
       "      <td>BHARTIARTL</td>\n",
       "      <td>Bharti Airtel</td>\n",
       "      <td>Wireless Telecommunication Services</td>\n",
       "      <td>Communication Services</td>\n",
       "      <td>Bharti Airtel Limited is a telecommunication c...</td>\n",
       "      <td>114481.325850</td>\n",
       "      <td>1626.30</td>\n",
       "      <td>India</td>\n",
       "      <td>INR</td>\n",
       "      <td>...</td>\n",
       "      <td>BHARTIARTL</td>\n",
       "      <td>BHARTIARTL</td>\n",
       "      <td>India</td>\n",
       "      <td>India</td>\n",
       "      <td>Information</td>\n",
       "      <td>Telecommunications</td>\n",
       "      <td>Wired and Wireless Telecommunications Carriers...</td>\n",
       "      <td>NaN</td>\n",
       "      <td>78.857452</td>\n",
       "      <td>0.033333</td>\n",
       "    </tr>\n",
       "    <tr>\n",
       "      <th>4</th>\n",
       "      <td>ICICIBANK | INR</td>\n",
       "      <td>ICICIBANK</td>\n",
       "      <td>Icici Bank</td>\n",
       "      <td>Banks</td>\n",
       "      <td>Financials</td>\n",
       "      <td>ICICI Bank Limited (the Bank) is an India-base...</td>\n",
       "      <td>104063.527329</td>\n",
       "      <td>1252.80</td>\n",
       "      <td>India</td>\n",
       "      <td>INR</td>\n",
       "      <td>...</td>\n",
       "      <td>ICICIBANK</td>\n",
       "      <td>ICICIBANK</td>\n",
       "      <td>India</td>\n",
       "      <td>India</td>\n",
       "      <td>Finance and Insurance</td>\n",
       "      <td>Credit Intermediation and Related Activities</td>\n",
       "      <td>Commercial Banking</td>\n",
       "      <td>NaN</td>\n",
       "      <td>143.172378</td>\n",
       "      <td>NaN</td>\n",
       "    </tr>\n",
       "  </tbody>\n",
       "</table>\n",
       "<p>5 rows × 47 columns</p>\n",
       "</div>"
      ],
      "text/plain": [
       "        Tick | Curr   IB Ticker               Company Name  \\\n",
       "0    RELIANCE | INR    RELIANCE        Reliance Industries   \n",
       "1         TCS | INR         TCS  Tata Consultancy Services   \n",
       "2    HDFCBANK | INR    HDFCBANK                  HDFC Bank   \n",
       "3  BHARTIARTL | INR  BHARTIARTL              Bharti Airtel   \n",
       "4   ICICIBANK | INR   ICICIBANK                 Icici Bank   \n",
       "\n",
       "                              Industry             GICS Sector  \\\n",
       "0          Oil, Gas & Consumable Fuels                  Energy   \n",
       "1                          IT Services  Information Technology   \n",
       "2                                Banks              Financials   \n",
       "3  Wireless Telecommunication Services  Communication Services   \n",
       "4                                Banks              Financials   \n",
       "\n",
       "                                Business Description  Mkt Cap mn USD  \\\n",
       "0  Reliance Industries Limited is engaged in the ...   201388.525036   \n",
       "1  Tata Consultancy Services Limited (TCS) is an ...   175029.127147   \n",
       "2  HDFC Bank Limited (the Bank) is a private bank...   152875.191446   \n",
       "3  Bharti Airtel Limited is a telecommunication c...   114481.325850   \n",
       "4  ICICI Bank Limited (the Bank) is an India-base...   104063.527329   \n",
       "\n",
       "   Stock Price Market Currency  ...  Ticker Symbol  Exchange Ticker  \\\n",
       "0      1265.10  India      INR  ...       RELIANCE         RELIANCE   \n",
       "1      4112.40  India      INR  ...            TCS              TCS   \n",
       "2      1698.75  India      INR  ...       HDFCBANK         HDFCBANK   \n",
       "3      1626.30  India      INR  ...     BHARTIARTL       BHARTIARTL   \n",
       "4      1252.80  India      INR  ...      ICICIBANK        ICICIBANK   \n",
       "\n",
       "   Country of HQ  Market adj  \\\n",
       "0          India       India   \n",
       "1          India       India   \n",
       "2          India       India   \n",
       "3          India       India   \n",
       "4          India       India   \n",
       "\n",
       "                                        Sector Name  \\\n",
       "0                                     Manufacturing   \n",
       "1  Professional, Scientific, and Technical Services   \n",
       "2                             Finance and Insurance   \n",
       "3                                       Information   \n",
       "4                             Finance and Insurance   \n",
       "\n",
       "                                     Subsector Name  \\\n",
       "0         Petroleum and Coal Products Manufacturing   \n",
       "1  Professional, Scientific, and Technical Services   \n",
       "2      Credit Intermediation and Related Activities   \n",
       "3                                Telecommunications   \n",
       "4      Credit Intermediation and Related Activities   \n",
       "\n",
       "                                        Sub Industry  Dividend Ex Date  \\\n",
       "0                               Petroleum Refineries               NaN   \n",
       "1       Computer Systems Design and Related Services               NaN   \n",
       "2                                 Commercial Banking               NaN   \n",
       "3  Wired and Wireless Telecommunications Carriers...               NaN   \n",
       "4                                 Commercial Banking               NaN   \n",
       "\n",
       "   Avg_Volume_Daily_USD  Ideal Portfolio  \n",
       "0            184.308959              NaN  \n",
       "1            110.555549              NaN  \n",
       "2            218.227445              NaN  \n",
       "3             78.857452         0.033333  \n",
       "4            143.172378              NaN  \n",
       "\n",
       "[5 rows x 47 columns]"
      ]
     },
     "execution_count": 21,
     "metadata": {},
     "output_type": "execute_result"
    }
   ],
   "source": [
    "dd.head()"
   ]
  },
  {
   "cell_type": "code",
   "execution_count": null,
   "metadata": {},
   "outputs": [],
   "source": []
  },
  {
   "cell_type": "code",
   "execution_count": 22,
   "metadata": {},
   "outputs": [],
   "source": [
    "dd['Cap_Weighting']=0"
   ]
  },
  {
   "cell_type": "code",
   "execution_count": 23,
   "metadata": {},
   "outputs": [
    {
     "name": "stderr",
     "output_type": "stream",
     "text": [
      "C:\\Users\\Vedant Wanchoo\\anaconda3\\lib\\site-packages\\pandas\\core\\indexing.py:1732: SettingWithCopyWarning: \n",
      "A value is trying to be set on a copy of a slice from a DataFrame\n",
      "\n",
      "See the caveats in the documentation: https://pandas.pydata.org/pandas-docs/stable/user_guide/indexing.html#returning-a-view-versus-a-copy\n",
      "  self._setitem_single_block(indexer, value, name)\n"
     ]
    }
   ],
   "source": [
    "for i in range (0,len(dd)):\n",
    "    \n",
    "    if dd['Mkt Cap mn USD'].iloc[i] >= dd['Mkt Cap mn USD'].iloc[99]:\n",
    "        \n",
    "        dd['Cap_Weighting'].iloc[i] = 'Large Cap'\n",
    "        \n",
    "    elif dd['Mkt Cap mn USD'].iloc[i] >= dd['Mkt Cap mn USD'].iloc[249]:\n",
    "        \n",
    "        dd['Cap_Weighting'].iloc[i] = 'Mid Cap'\n",
    "        \n",
    "    elif dd['Mkt Cap mn USD'].iloc[i] >= dd['Mkt Cap mn USD'].iloc[499]:\n",
    "        \n",
    "        dd['Cap_Weighting'].iloc[i] = 'Small Cap'\n",
    "        \n",
    "    else:\n",
    "        \n",
    "        dd['Cap_Weighting'].iloc[i] = 'Micro Cap'\n",
    "    "
   ]
  },
  {
   "cell_type": "code",
   "execution_count": 24,
   "metadata": {},
   "outputs": [
    {
     "data": {
      "text/plain": [
       "(958, 48)"
      ]
     },
     "execution_count": 24,
     "metadata": {},
     "output_type": "execute_result"
    }
   ],
   "source": [
    "dd.shape"
   ]
  },
  {
   "cell_type": "code",
   "execution_count": 25,
   "metadata": {},
   "outputs": [
    {
     "data": {
      "text/html": [
       "<div>\n",
       "<style scoped>\n",
       "    .dataframe tbody tr th:only-of-type {\n",
       "        vertical-align: middle;\n",
       "    }\n",
       "\n",
       "    .dataframe tbody tr th {\n",
       "        vertical-align: top;\n",
       "    }\n",
       "\n",
       "    .dataframe thead th {\n",
       "        text-align: right;\n",
       "    }\n",
       "</style>\n",
       "<table border=\"1\" class=\"dataframe\">\n",
       "  <thead>\n",
       "    <tr style=\"text-align: right;\">\n",
       "      <th></th>\n",
       "      <th>Tick | Curr</th>\n",
       "      <th>IB Ticker</th>\n",
       "      <th>Company Name</th>\n",
       "      <th>Industry</th>\n",
       "      <th>GICS Sector</th>\n",
       "      <th>Business Description</th>\n",
       "      <th>Mkt Cap mn USD</th>\n",
       "      <th>Stock Price</th>\n",
       "      <th>Market</th>\n",
       "      <th>Currency</th>\n",
       "      <th>...</th>\n",
       "      <th>Exchange Ticker</th>\n",
       "      <th>Country of HQ</th>\n",
       "      <th>Market adj</th>\n",
       "      <th>Sector Name</th>\n",
       "      <th>Subsector Name</th>\n",
       "      <th>Sub Industry</th>\n",
       "      <th>Dividend Ex Date</th>\n",
       "      <th>Avg_Volume_Daily_USD</th>\n",
       "      <th>Ideal Portfolio</th>\n",
       "      <th>Cap_Weighting</th>\n",
       "    </tr>\n",
       "  </thead>\n",
       "  <tbody>\n",
       "    <tr>\n",
       "      <th>0</th>\n",
       "      <td>RELIANCE | INR</td>\n",
       "      <td>RELIANCE</td>\n",
       "      <td>Reliance Industries</td>\n",
       "      <td>Oil, Gas &amp; Consumable Fuels</td>\n",
       "      <td>Energy</td>\n",
       "      <td>Reliance Industries Limited is engaged in the ...</td>\n",
       "      <td>201388.525036</td>\n",
       "      <td>1265.10</td>\n",
       "      <td>India</td>\n",
       "      <td>INR</td>\n",
       "      <td>...</td>\n",
       "      <td>RELIANCE</td>\n",
       "      <td>India</td>\n",
       "      <td>India</td>\n",
       "      <td>Manufacturing</td>\n",
       "      <td>Petroleum and Coal Products Manufacturing</td>\n",
       "      <td>Petroleum Refineries</td>\n",
       "      <td>NaN</td>\n",
       "      <td>184.308959</td>\n",
       "      <td>NaN</td>\n",
       "      <td>Large Cap</td>\n",
       "    </tr>\n",
       "    <tr>\n",
       "      <th>1</th>\n",
       "      <td>TCS | INR</td>\n",
       "      <td>TCS</td>\n",
       "      <td>Tata Consultancy Services</td>\n",
       "      <td>IT Services</td>\n",
       "      <td>Information Technology</td>\n",
       "      <td>Tata Consultancy Services Limited (TCS) is an ...</td>\n",
       "      <td>175029.127147</td>\n",
       "      <td>4112.40</td>\n",
       "      <td>India</td>\n",
       "      <td>INR</td>\n",
       "      <td>...</td>\n",
       "      <td>TCS</td>\n",
       "      <td>India</td>\n",
       "      <td>India</td>\n",
       "      <td>Professional, Scientific, and Technical Services</td>\n",
       "      <td>Professional, Scientific, and Technical Services</td>\n",
       "      <td>Computer Systems Design and Related Services</td>\n",
       "      <td>NaN</td>\n",
       "      <td>110.555549</td>\n",
       "      <td>NaN</td>\n",
       "      <td>Large Cap</td>\n",
       "    </tr>\n",
       "    <tr>\n",
       "      <th>2</th>\n",
       "      <td>HDFCBANK | INR</td>\n",
       "      <td>HDFCBANK</td>\n",
       "      <td>HDFC Bank</td>\n",
       "      <td>Banks</td>\n",
       "      <td>Financials</td>\n",
       "      <td>HDFC Bank Limited (the Bank) is a private bank...</td>\n",
       "      <td>152875.191446</td>\n",
       "      <td>1698.75</td>\n",
       "      <td>India</td>\n",
       "      <td>INR</td>\n",
       "      <td>...</td>\n",
       "      <td>HDFCBANK</td>\n",
       "      <td>India</td>\n",
       "      <td>India</td>\n",
       "      <td>Finance and Insurance</td>\n",
       "      <td>Credit Intermediation and Related Activities</td>\n",
       "      <td>Commercial Banking</td>\n",
       "      <td>NaN</td>\n",
       "      <td>218.227445</td>\n",
       "      <td>NaN</td>\n",
       "      <td>Large Cap</td>\n",
       "    </tr>\n",
       "    <tr>\n",
       "      <th>3</th>\n",
       "      <td>BHARTIARTL | INR</td>\n",
       "      <td>BHARTIARTL</td>\n",
       "      <td>Bharti Airtel</td>\n",
       "      <td>Wireless Telecommunication Services</td>\n",
       "      <td>Communication Services</td>\n",
       "      <td>Bharti Airtel Limited is a telecommunication c...</td>\n",
       "      <td>114481.325850</td>\n",
       "      <td>1626.30</td>\n",
       "      <td>India</td>\n",
       "      <td>INR</td>\n",
       "      <td>...</td>\n",
       "      <td>BHARTIARTL</td>\n",
       "      <td>India</td>\n",
       "      <td>India</td>\n",
       "      <td>Information</td>\n",
       "      <td>Telecommunications</td>\n",
       "      <td>Wired and Wireless Telecommunications Carriers...</td>\n",
       "      <td>NaN</td>\n",
       "      <td>78.857452</td>\n",
       "      <td>0.033333</td>\n",
       "      <td>Large Cap</td>\n",
       "    </tr>\n",
       "    <tr>\n",
       "      <th>4</th>\n",
       "      <td>ICICIBANK | INR</td>\n",
       "      <td>ICICIBANK</td>\n",
       "      <td>Icici Bank</td>\n",
       "      <td>Banks</td>\n",
       "      <td>Financials</td>\n",
       "      <td>ICICI Bank Limited (the Bank) is an India-base...</td>\n",
       "      <td>104063.527329</td>\n",
       "      <td>1252.80</td>\n",
       "      <td>India</td>\n",
       "      <td>INR</td>\n",
       "      <td>...</td>\n",
       "      <td>ICICIBANK</td>\n",
       "      <td>India</td>\n",
       "      <td>India</td>\n",
       "      <td>Finance and Insurance</td>\n",
       "      <td>Credit Intermediation and Related Activities</td>\n",
       "      <td>Commercial Banking</td>\n",
       "      <td>NaN</td>\n",
       "      <td>143.172378</td>\n",
       "      <td>NaN</td>\n",
       "      <td>Large Cap</td>\n",
       "    </tr>\n",
       "  </tbody>\n",
       "</table>\n",
       "<p>5 rows × 48 columns</p>\n",
       "</div>"
      ],
      "text/plain": [
       "        Tick | Curr   IB Ticker               Company Name  \\\n",
       "0    RELIANCE | INR    RELIANCE        Reliance Industries   \n",
       "1         TCS | INR         TCS  Tata Consultancy Services   \n",
       "2    HDFCBANK | INR    HDFCBANK                  HDFC Bank   \n",
       "3  BHARTIARTL | INR  BHARTIARTL              Bharti Airtel   \n",
       "4   ICICIBANK | INR   ICICIBANK                 Icici Bank   \n",
       "\n",
       "                              Industry             GICS Sector  \\\n",
       "0          Oil, Gas & Consumable Fuels                  Energy   \n",
       "1                          IT Services  Information Technology   \n",
       "2                                Banks              Financials   \n",
       "3  Wireless Telecommunication Services  Communication Services   \n",
       "4                                Banks              Financials   \n",
       "\n",
       "                                Business Description  Mkt Cap mn USD  \\\n",
       "0  Reliance Industries Limited is engaged in the ...   201388.525036   \n",
       "1  Tata Consultancy Services Limited (TCS) is an ...   175029.127147   \n",
       "2  HDFC Bank Limited (the Bank) is a private bank...   152875.191446   \n",
       "3  Bharti Airtel Limited is a telecommunication c...   114481.325850   \n",
       "4  ICICI Bank Limited (the Bank) is an India-base...   104063.527329   \n",
       "\n",
       "   Stock Price Market Currency  ...  Exchange Ticker  Country of HQ  \\\n",
       "0      1265.10  India      INR  ...         RELIANCE          India   \n",
       "1      4112.40  India      INR  ...              TCS          India   \n",
       "2      1698.75  India      INR  ...         HDFCBANK          India   \n",
       "3      1626.30  India      INR  ...       BHARTIARTL          India   \n",
       "4      1252.80  India      INR  ...        ICICIBANK          India   \n",
       "\n",
       "   Market adj                                       Sector Name  \\\n",
       "0       India                                     Manufacturing   \n",
       "1       India  Professional, Scientific, and Technical Services   \n",
       "2       India                             Finance and Insurance   \n",
       "3       India                                       Information   \n",
       "4       India                             Finance and Insurance   \n",
       "\n",
       "                                     Subsector Name  \\\n",
       "0         Petroleum and Coal Products Manufacturing   \n",
       "1  Professional, Scientific, and Technical Services   \n",
       "2      Credit Intermediation and Related Activities   \n",
       "3                                Telecommunications   \n",
       "4      Credit Intermediation and Related Activities   \n",
       "\n",
       "                                        Sub Industry  Dividend Ex Date  \\\n",
       "0                               Petroleum Refineries               NaN   \n",
       "1       Computer Systems Design and Related Services               NaN   \n",
       "2                                 Commercial Banking               NaN   \n",
       "3  Wired and Wireless Telecommunications Carriers...               NaN   \n",
       "4                                 Commercial Banking               NaN   \n",
       "\n",
       "   Avg_Volume_Daily_USD  Ideal Portfolio  Cap_Weighting  \n",
       "0            184.308959              NaN      Large Cap  \n",
       "1            110.555549              NaN      Large Cap  \n",
       "2            218.227445              NaN      Large Cap  \n",
       "3             78.857452         0.033333      Large Cap  \n",
       "4            143.172378              NaN      Large Cap  \n",
       "\n",
       "[5 rows x 48 columns]"
      ]
     },
     "execution_count": 25,
     "metadata": {},
     "output_type": "execute_result"
    }
   ],
   "source": [
    "dd.head()"
   ]
  },
  {
   "cell_type": "code",
   "execution_count": null,
   "metadata": {},
   "outputs": [],
   "source": []
  },
  {
   "cell_type": "code",
   "execution_count": null,
   "metadata": {},
   "outputs": [],
   "source": []
  },
  {
   "cell_type": "code",
   "execution_count": 26,
   "metadata": {},
   "outputs": [
    {
     "data": {
      "text/plain": [
       "(958, 48)"
      ]
     },
     "execution_count": 26,
     "metadata": {},
     "output_type": "execute_result"
    }
   ],
   "source": [
    "#checking if NAs are getting identified\n",
    "\n",
    "dd111=dd.dropna(subset=['IB Ticker'])\n",
    "dd111.shape"
   ]
  },
  {
   "cell_type": "code",
   "execution_count": 27,
   "metadata": {},
   "outputs": [
    {
     "data": {
      "text/plain": [
       "0"
      ]
     },
     "execution_count": 27,
     "metadata": {},
     "output_type": "execute_result"
    }
   ],
   "source": [
    "#checking if NAs are getting identified\n",
    "\n",
    "l=0\n",
    "a=np.nan\n",
    "for i in range (0,len(dd)):\n",
    "    if dd['IB Ticker'].iloc[i] is a:\n",
    "        l=l+1\n",
    "l"
   ]
  },
  {
   "cell_type": "code",
   "execution_count": 28,
   "metadata": {},
   "outputs": [
    {
     "data": {
      "text/plain": [
       "True"
      ]
     },
     "execution_count": 28,
     "metadata": {},
     "output_type": "execute_result"
    }
   ],
   "source": [
    "l+len(dd111)==len(dd)"
   ]
  },
  {
   "cell_type": "code",
   "execution_count": null,
   "metadata": {},
   "outputs": [],
   "source": []
  },
  {
   "cell_type": "code",
   "execution_count": 29,
   "metadata": {},
   "outputs": [],
   "source": [
    "l=0\n",
    "a=np.nan\n",
    "for i in range (0,len(dd)):\n",
    "    if dd['IB Ticker'].iloc[i] is a:\n",
    "        l=l+1"
   ]
  },
  {
   "cell_type": "code",
   "execution_count": 30,
   "metadata": {},
   "outputs": [
    {
     "data": {
      "text/plain": [
       "0"
      ]
     },
     "execution_count": 30,
     "metadata": {},
     "output_type": "execute_result"
    }
   ],
   "source": [
    "l"
   ]
  },
  {
   "cell_type": "code",
   "execution_count": null,
   "metadata": {},
   "outputs": [],
   "source": []
  },
  {
   "cell_type": "code",
   "execution_count": 31,
   "metadata": {},
   "outputs": [],
   "source": [
    "a= np.nan\n",
    "for i in range(0,len(dd)):\n",
    "    if dd['IB Ticker'].iloc[i] is a:\n",
    "        dd['IB Ticker'].iloc[i]=dd['Exchange Ticker'].iloc[i]\n"
   ]
  },
  {
   "cell_type": "code",
   "execution_count": 32,
   "metadata": {},
   "outputs": [],
   "source": [
    "a= np.nan\n",
    "for i in range(0,len(dd)):\n",
    "    if dd['IB Ticker'].iloc[i] is a:\n",
    "        dd['IB Ticker'].iloc[i]=dd['Ticker'].iloc[i]"
   ]
  },
  {
   "cell_type": "code",
   "execution_count": 33,
   "metadata": {},
   "outputs": [],
   "source": [
    "a= np.nan\n",
    "for i in range(0,len(dd)):\n",
    "    if dd['IB Ticker'].iloc[i] is a:\n",
    "        dd['IB Ticker'].iloc[i]=dd['Ticker Symbol'].iloc[i]"
   ]
  },
  {
   "cell_type": "code",
   "execution_count": 34,
   "metadata": {},
   "outputs": [],
   "source": [
    "a= np.nan\n",
    "for i in range(0,len(dd)):\n",
    "    if dd['IB Ticker'].iloc[i] is a:\n",
    "        dd['IB Ticker'].iloc[i]=dd['RIC'].iloc[i].split('.')[0]"
   ]
  },
  {
   "cell_type": "code",
   "execution_count": null,
   "metadata": {},
   "outputs": [],
   "source": []
  },
  {
   "cell_type": "code",
   "execution_count": 35,
   "metadata": {},
   "outputs": [
    {
     "data": {
      "text/plain": [
       "0"
      ]
     },
     "execution_count": 35,
     "metadata": {},
     "output_type": "execute_result"
    }
   ],
   "source": [
    "l=0\n",
    "a=np.nan\n",
    "for i in range (0,len(dd)):\n",
    "    if dd['IB Ticker'].iloc[i] is a:\n",
    "        l=l+1\n",
    "l"
   ]
  },
  {
   "cell_type": "code",
   "execution_count": 36,
   "metadata": {},
   "outputs": [
    {
     "data": {
      "text/plain": [
       "(958, 48)"
      ]
     },
     "execution_count": 36,
     "metadata": {},
     "output_type": "execute_result"
    }
   ],
   "source": [
    "dd.shape"
   ]
  },
  {
   "cell_type": "code",
   "execution_count": null,
   "metadata": {},
   "outputs": [],
   "source": []
  },
  {
   "cell_type": "code",
   "execution_count": 37,
   "metadata": {},
   "outputs": [
    {
     "data": {
      "text/html": [
       "<div>\n",
       "<style scoped>\n",
       "    .dataframe tbody tr th:only-of-type {\n",
       "        vertical-align: middle;\n",
       "    }\n",
       "\n",
       "    .dataframe tbody tr th {\n",
       "        vertical-align: top;\n",
       "    }\n",
       "\n",
       "    .dataframe thead th {\n",
       "        text-align: right;\n",
       "    }\n",
       "</style>\n",
       "<table border=\"1\" class=\"dataframe\">\n",
       "  <thead>\n",
       "    <tr style=\"text-align: right;\">\n",
       "      <th></th>\n",
       "      <th>Tick | Curr</th>\n",
       "      <th>IB Ticker</th>\n",
       "      <th>Company Name</th>\n",
       "      <th>Industry</th>\n",
       "      <th>GICS Sector</th>\n",
       "      <th>Business Description</th>\n",
       "      <th>Mkt Cap mn USD</th>\n",
       "      <th>Stock Price</th>\n",
       "      <th>Market</th>\n",
       "      <th>Currency</th>\n",
       "      <th>...</th>\n",
       "      <th>Exchange Ticker</th>\n",
       "      <th>Country of HQ</th>\n",
       "      <th>Market adj</th>\n",
       "      <th>Sector Name</th>\n",
       "      <th>Subsector Name</th>\n",
       "      <th>Sub Industry</th>\n",
       "      <th>Dividend Ex Date</th>\n",
       "      <th>Avg_Volume_Daily_USD</th>\n",
       "      <th>Ideal Portfolio</th>\n",
       "      <th>Cap_Weighting</th>\n",
       "    </tr>\n",
       "  </thead>\n",
       "  <tbody>\n",
       "    <tr>\n",
       "      <th>0</th>\n",
       "      <td>RELIANCE | INR</td>\n",
       "      <td>RELIANCE</td>\n",
       "      <td>Reliance Industries</td>\n",
       "      <td>Oil, Gas &amp; Consumable Fuels</td>\n",
       "      <td>Energy</td>\n",
       "      <td>Reliance Industries Limited is engaged in the ...</td>\n",
       "      <td>201388.525036</td>\n",
       "      <td>1265.10</td>\n",
       "      <td>India</td>\n",
       "      <td>INR</td>\n",
       "      <td>...</td>\n",
       "      <td>RELIANCE</td>\n",
       "      <td>India</td>\n",
       "      <td>India</td>\n",
       "      <td>Manufacturing</td>\n",
       "      <td>Petroleum and Coal Products Manufacturing</td>\n",
       "      <td>Petroleum Refineries</td>\n",
       "      <td>NaN</td>\n",
       "      <td>184.308959</td>\n",
       "      <td>NaN</td>\n",
       "      <td>Large Cap</td>\n",
       "    </tr>\n",
       "    <tr>\n",
       "      <th>1</th>\n",
       "      <td>TCS | INR</td>\n",
       "      <td>TCS</td>\n",
       "      <td>Tata Consultancy Services</td>\n",
       "      <td>IT Services</td>\n",
       "      <td>Information Technology</td>\n",
       "      <td>Tata Consultancy Services Limited (TCS) is an ...</td>\n",
       "      <td>175029.127147</td>\n",
       "      <td>4112.40</td>\n",
       "      <td>India</td>\n",
       "      <td>INR</td>\n",
       "      <td>...</td>\n",
       "      <td>TCS</td>\n",
       "      <td>India</td>\n",
       "      <td>India</td>\n",
       "      <td>Professional, Scientific, and Technical Services</td>\n",
       "      <td>Professional, Scientific, and Technical Services</td>\n",
       "      <td>Computer Systems Design and Related Services</td>\n",
       "      <td>NaN</td>\n",
       "      <td>110.555549</td>\n",
       "      <td>NaN</td>\n",
       "      <td>Large Cap</td>\n",
       "    </tr>\n",
       "    <tr>\n",
       "      <th>2</th>\n",
       "      <td>HDFCBANK | INR</td>\n",
       "      <td>HDFCBANK</td>\n",
       "      <td>HDFC Bank</td>\n",
       "      <td>Banks</td>\n",
       "      <td>Financials</td>\n",
       "      <td>HDFC Bank Limited (the Bank) is a private bank...</td>\n",
       "      <td>152875.191446</td>\n",
       "      <td>1698.75</td>\n",
       "      <td>India</td>\n",
       "      <td>INR</td>\n",
       "      <td>...</td>\n",
       "      <td>HDFCBANK</td>\n",
       "      <td>India</td>\n",
       "      <td>India</td>\n",
       "      <td>Finance and Insurance</td>\n",
       "      <td>Credit Intermediation and Related Activities</td>\n",
       "      <td>Commercial Banking</td>\n",
       "      <td>NaN</td>\n",
       "      <td>218.227445</td>\n",
       "      <td>NaN</td>\n",
       "      <td>Large Cap</td>\n",
       "    </tr>\n",
       "    <tr>\n",
       "      <th>3</th>\n",
       "      <td>BHARTIARTL | INR</td>\n",
       "      <td>BHARTIARTL</td>\n",
       "      <td>Bharti Airtel</td>\n",
       "      <td>Wireless Telecommunication Services</td>\n",
       "      <td>Communication Services</td>\n",
       "      <td>Bharti Airtel Limited is a telecommunication c...</td>\n",
       "      <td>114481.325850</td>\n",
       "      <td>1626.30</td>\n",
       "      <td>India</td>\n",
       "      <td>INR</td>\n",
       "      <td>...</td>\n",
       "      <td>BHARTIARTL</td>\n",
       "      <td>India</td>\n",
       "      <td>India</td>\n",
       "      <td>Information</td>\n",
       "      <td>Telecommunications</td>\n",
       "      <td>Wired and Wireless Telecommunications Carriers...</td>\n",
       "      <td>NaN</td>\n",
       "      <td>78.857452</td>\n",
       "      <td>0.033333</td>\n",
       "      <td>Large Cap</td>\n",
       "    </tr>\n",
       "    <tr>\n",
       "      <th>4</th>\n",
       "      <td>ICICIBANK | INR</td>\n",
       "      <td>ICICIBANK</td>\n",
       "      <td>Icici Bank</td>\n",
       "      <td>Banks</td>\n",
       "      <td>Financials</td>\n",
       "      <td>ICICI Bank Limited (the Bank) is an India-base...</td>\n",
       "      <td>104063.527329</td>\n",
       "      <td>1252.80</td>\n",
       "      <td>India</td>\n",
       "      <td>INR</td>\n",
       "      <td>...</td>\n",
       "      <td>ICICIBANK</td>\n",
       "      <td>India</td>\n",
       "      <td>India</td>\n",
       "      <td>Finance and Insurance</td>\n",
       "      <td>Credit Intermediation and Related Activities</td>\n",
       "      <td>Commercial Banking</td>\n",
       "      <td>NaN</td>\n",
       "      <td>143.172378</td>\n",
       "      <td>NaN</td>\n",
       "      <td>Large Cap</td>\n",
       "    </tr>\n",
       "  </tbody>\n",
       "</table>\n",
       "<p>5 rows × 48 columns</p>\n",
       "</div>"
      ],
      "text/plain": [
       "        Tick | Curr   IB Ticker               Company Name  \\\n",
       "0    RELIANCE | INR    RELIANCE        Reliance Industries   \n",
       "1         TCS | INR         TCS  Tata Consultancy Services   \n",
       "2    HDFCBANK | INR    HDFCBANK                  HDFC Bank   \n",
       "3  BHARTIARTL | INR  BHARTIARTL              Bharti Airtel   \n",
       "4   ICICIBANK | INR   ICICIBANK                 Icici Bank   \n",
       "\n",
       "                              Industry             GICS Sector  \\\n",
       "0          Oil, Gas & Consumable Fuels                  Energy   \n",
       "1                          IT Services  Information Technology   \n",
       "2                                Banks              Financials   \n",
       "3  Wireless Telecommunication Services  Communication Services   \n",
       "4                                Banks              Financials   \n",
       "\n",
       "                                Business Description  Mkt Cap mn USD  \\\n",
       "0  Reliance Industries Limited is engaged in the ...   201388.525036   \n",
       "1  Tata Consultancy Services Limited (TCS) is an ...   175029.127147   \n",
       "2  HDFC Bank Limited (the Bank) is a private bank...   152875.191446   \n",
       "3  Bharti Airtel Limited is a telecommunication c...   114481.325850   \n",
       "4  ICICI Bank Limited (the Bank) is an India-base...   104063.527329   \n",
       "\n",
       "   Stock Price Market Currency  ...  Exchange Ticker  Country of HQ  \\\n",
       "0      1265.10  India      INR  ...         RELIANCE          India   \n",
       "1      4112.40  India      INR  ...              TCS          India   \n",
       "2      1698.75  India      INR  ...         HDFCBANK          India   \n",
       "3      1626.30  India      INR  ...       BHARTIARTL          India   \n",
       "4      1252.80  India      INR  ...        ICICIBANK          India   \n",
       "\n",
       "   Market adj                                       Sector Name  \\\n",
       "0       India                                     Manufacturing   \n",
       "1       India  Professional, Scientific, and Technical Services   \n",
       "2       India                             Finance and Insurance   \n",
       "3       India                                       Information   \n",
       "4       India                             Finance and Insurance   \n",
       "\n",
       "                                     Subsector Name  \\\n",
       "0         Petroleum and Coal Products Manufacturing   \n",
       "1  Professional, Scientific, and Technical Services   \n",
       "2      Credit Intermediation and Related Activities   \n",
       "3                                Telecommunications   \n",
       "4      Credit Intermediation and Related Activities   \n",
       "\n",
       "                                        Sub Industry  Dividend Ex Date  \\\n",
       "0                               Petroleum Refineries               NaN   \n",
       "1       Computer Systems Design and Related Services               NaN   \n",
       "2                                 Commercial Banking               NaN   \n",
       "3  Wired and Wireless Telecommunications Carriers...               NaN   \n",
       "4                                 Commercial Banking               NaN   \n",
       "\n",
       "   Avg_Volume_Daily_USD  Ideal Portfolio  Cap_Weighting  \n",
       "0            184.308959              NaN      Large Cap  \n",
       "1            110.555549              NaN      Large Cap  \n",
       "2            218.227445              NaN      Large Cap  \n",
       "3             78.857452         0.033333      Large Cap  \n",
       "4            143.172378              NaN      Large Cap  \n",
       "\n",
       "[5 rows x 48 columns]"
      ]
     },
     "execution_count": 37,
     "metadata": {},
     "output_type": "execute_result"
    }
   ],
   "source": [
    "dd.head()"
   ]
  },
  {
   "cell_type": "code",
   "execution_count": 38,
   "metadata": {},
   "outputs": [],
   "source": [
    "dd2=dd"
   ]
  },
  {
   "cell_type": "code",
   "execution_count": 39,
   "metadata": {},
   "outputs": [
    {
     "name": "stdout",
     "output_type": "stream",
     "text": [
      "(0, 48)\n",
      "(0, 48)\n",
      "(0, 48)\n"
     ]
    }
   ],
   "source": [
    "check=dd2[dd2['kill size']==1]\n",
    "print(check.shape)\n",
    "\n",
    "check=dd2[dd2['kill liquidity']==1]\n",
    "print(check.shape)\n",
    "\n",
    "check=dd2[(dd2['kill liquidity']==1)+(dd2['kill size']==1)]\n",
    "print(check.shape)"
   ]
  },
  {
   "cell_type": "code",
   "execution_count": 40,
   "metadata": {},
   "outputs": [
    {
     "data": {
      "text/html": [
       "<div>\n",
       "<style scoped>\n",
       "    .dataframe tbody tr th:only-of-type {\n",
       "        vertical-align: middle;\n",
       "    }\n",
       "\n",
       "    .dataframe tbody tr th {\n",
       "        vertical-align: top;\n",
       "    }\n",
       "\n",
       "    .dataframe thead th {\n",
       "        text-align: right;\n",
       "    }\n",
       "</style>\n",
       "<table border=\"1\" class=\"dataframe\">\n",
       "  <thead>\n",
       "    <tr style=\"text-align: right;\">\n",
       "      <th></th>\n",
       "      <th>Tick | Curr</th>\n",
       "      <th>IB Ticker</th>\n",
       "      <th>Company Name</th>\n",
       "      <th>Industry</th>\n",
       "      <th>GICS Sector</th>\n",
       "      <th>Business Description</th>\n",
       "      <th>Mkt Cap mn USD</th>\n",
       "      <th>Stock Price</th>\n",
       "      <th>Market</th>\n",
       "      <th>Currency</th>\n",
       "      <th>...</th>\n",
       "      <th>Exchange Ticker</th>\n",
       "      <th>Country of HQ</th>\n",
       "      <th>Market adj</th>\n",
       "      <th>Sector Name</th>\n",
       "      <th>Subsector Name</th>\n",
       "      <th>Sub Industry</th>\n",
       "      <th>Dividend Ex Date</th>\n",
       "      <th>Avg_Volume_Daily_USD</th>\n",
       "      <th>Ideal Portfolio</th>\n",
       "      <th>Cap_Weighting</th>\n",
       "    </tr>\n",
       "  </thead>\n",
       "  <tbody>\n",
       "  </tbody>\n",
       "</table>\n",
       "<p>0 rows × 48 columns</p>\n",
       "</div>"
      ],
      "text/plain": [
       "Empty DataFrame\n",
       "Columns: [Tick | Curr, IB Ticker, Company Name, Industry, GICS Sector, Business Description, Mkt Cap mn USD, Stock Price, Market, Currency, fx, Total Score, Value, Momentum, Quality, Volatility, Proprietary, ESG Score, ESG Combined Score, P / S, P / BV, P / E, P / CF, ROE, ROA, DE, DA, Dividend Yield, FCF per Share, Islam Flag, kill size, kill liquidity, kill extr Value1, kill extr Value2, RIC, ISIN, Ticker, Ticker Symbol, Exchange Ticker, Country of HQ, Market adj, Sector Name, Subsector Name, Sub Industry, Dividend Ex Date, Avg_Volume_Daily_USD, Ideal Portfolio, Cap_Weighting]\n",
       "Index: []\n",
       "\n",
       "[0 rows x 48 columns]"
      ]
     },
     "execution_count": 40,
     "metadata": {},
     "output_type": "execute_result"
    }
   ],
   "source": [
    "check.head()"
   ]
  },
  {
   "cell_type": "code",
   "execution_count": 41,
   "metadata": {},
   "outputs": [],
   "source": [
    "NAs=dd2[dd2['Business Description'].isnull()]"
   ]
  },
  {
   "cell_type": "code",
   "execution_count": 42,
   "metadata": {},
   "outputs": [
    {
     "data": {
      "text/plain": [
       "(0, 48)"
      ]
     },
     "execution_count": 42,
     "metadata": {},
     "output_type": "execute_result"
    }
   ],
   "source": [
    "NAs.shape"
   ]
  },
  {
   "cell_type": "code",
   "execution_count": 43,
   "metadata": {},
   "outputs": [
    {
     "data": {
      "text/plain": [
       "(958, 48)"
      ]
     },
     "execution_count": 43,
     "metadata": {},
     "output_type": "execute_result"
    }
   ],
   "source": [
    "dd2.shape"
   ]
  },
  {
   "cell_type": "code",
   "execution_count": null,
   "metadata": {},
   "outputs": [],
   "source": []
  },
  {
   "cell_type": "code",
   "execution_count": 44,
   "metadata": {},
   "outputs": [],
   "source": [
    "a=dd2.dropna(subset=['Business Description'])"
   ]
  },
  {
   "cell_type": "code",
   "execution_count": 45,
   "metadata": {},
   "outputs": [
    {
     "data": {
      "text/plain": [
       "(958, 48)"
      ]
     },
     "execution_count": 45,
     "metadata": {},
     "output_type": "execute_result"
    }
   ],
   "source": [
    "a.shape"
   ]
  },
  {
   "cell_type": "code",
   "execution_count": 46,
   "metadata": {},
   "outputs": [],
   "source": [
    "b=a.sort_values(by=['Total Score','Mkt Cap mn USD'],ascending=False)#Total Score"
   ]
  },
  {
   "cell_type": "code",
   "execution_count": 47,
   "metadata": {},
   "outputs": [
    {
     "data": {
      "text/html": [
       "<div>\n",
       "<style scoped>\n",
       "    .dataframe tbody tr th:only-of-type {\n",
       "        vertical-align: middle;\n",
       "    }\n",
       "\n",
       "    .dataframe tbody tr th {\n",
       "        vertical-align: top;\n",
       "    }\n",
       "\n",
       "    .dataframe thead th {\n",
       "        text-align: right;\n",
       "    }\n",
       "</style>\n",
       "<table border=\"1\" class=\"dataframe\">\n",
       "  <thead>\n",
       "    <tr style=\"text-align: right;\">\n",
       "      <th></th>\n",
       "      <th>Tick | Curr</th>\n",
       "      <th>IB Ticker</th>\n",
       "      <th>Company Name</th>\n",
       "      <th>Industry</th>\n",
       "      <th>GICS Sector</th>\n",
       "      <th>Business Description</th>\n",
       "      <th>Mkt Cap mn USD</th>\n",
       "      <th>Stock Price</th>\n",
       "      <th>Market</th>\n",
       "      <th>Currency</th>\n",
       "      <th>...</th>\n",
       "      <th>Exchange Ticker</th>\n",
       "      <th>Country of HQ</th>\n",
       "      <th>Market adj</th>\n",
       "      <th>Sector Name</th>\n",
       "      <th>Subsector Name</th>\n",
       "      <th>Sub Industry</th>\n",
       "      <th>Dividend Ex Date</th>\n",
       "      <th>Avg_Volume_Daily_USD</th>\n",
       "      <th>Ideal Portfolio</th>\n",
       "      <th>Cap_Weighting</th>\n",
       "    </tr>\n",
       "  </thead>\n",
       "  <tbody>\n",
       "    <tr>\n",
       "      <th>12</th>\n",
       "      <td>HCLTECH | INR</td>\n",
       "      <td>HCLTECH</td>\n",
       "      <td>HCL Technologies</td>\n",
       "      <td>IT Services</td>\n",
       "      <td>Information Technology</td>\n",
       "      <td>HCL Technologies Limited is a technology compa...</td>\n",
       "      <td>55011.151374</td>\n",
       "      <td>1725.45</td>\n",
       "      <td>India</td>\n",
       "      <td>INR</td>\n",
       "      <td>...</td>\n",
       "      <td>HCLTECH</td>\n",
       "      <td>India</td>\n",
       "      <td>India</td>\n",
       "      <td>Professional, Scientific, and Technical Services</td>\n",
       "      <td>Professional, Scientific, and Technical Services</td>\n",
       "      <td>Computer Systems Design and Related Services</td>\n",
       "      <td>NaN</td>\n",
       "      <td>83.743463</td>\n",
       "      <td>0.033333</td>\n",
       "      <td>Large Cap</td>\n",
       "    </tr>\n",
       "    <tr>\n",
       "      <th>828</th>\n",
       "      <td>KCP | INR</td>\n",
       "      <td>KCP</td>\n",
       "      <td>KCP</td>\n",
       "      <td>Construction Materials</td>\n",
       "      <td>Materials</td>\n",
       "      <td>The KCP Limited is an India-based company that...</td>\n",
       "      <td>317.583207</td>\n",
       "      <td>209.41</td>\n",
       "      <td>India</td>\n",
       "      <td>INR</td>\n",
       "      <td>...</td>\n",
       "      <td>KCP</td>\n",
       "      <td>India</td>\n",
       "      <td>India</td>\n",
       "      <td>Manufacturing</td>\n",
       "      <td>Nonmetallic Mineral Product Manufacturing</td>\n",
       "      <td>Cement Manufacturing</td>\n",
       "      <td>NaN</td>\n",
       "      <td>0.688903</td>\n",
       "      <td>NaN</td>\n",
       "      <td>Micro Cap</td>\n",
       "    </tr>\n",
       "    <tr>\n",
       "      <th>196</th>\n",
       "      <td>GLENMARK | INR</td>\n",
       "      <td>GLENMARK</td>\n",
       "      <td>Glenmark Pharmaceuticals</td>\n",
       "      <td>Pharmaceuticals</td>\n",
       "      <td>Health Care</td>\n",
       "      <td>Glenmark Pharmaceuticals Limited is an India-b...</td>\n",
       "      <td>4823.919807</td>\n",
       "      <td>1453.20</td>\n",
       "      <td>India</td>\n",
       "      <td>INR</td>\n",
       "      <td>...</td>\n",
       "      <td>GLENMARK</td>\n",
       "      <td>India</td>\n",
       "      <td>India</td>\n",
       "      <td>Manufacturing</td>\n",
       "      <td>Chemical Manufacturing</td>\n",
       "      <td>Pharmaceutical and Medicine Manufacturing</td>\n",
       "      <td>NaN</td>\n",
       "      <td>6.229570</td>\n",
       "      <td>0.033333</td>\n",
       "      <td>Mid Cap</td>\n",
       "    </tr>\n",
       "    <tr>\n",
       "      <th>312</th>\n",
       "      <td>NATCOPHARM | INR</td>\n",
       "      <td>NATCOPHARM</td>\n",
       "      <td>Natco Pharma</td>\n",
       "      <td>Pharmaceuticals</td>\n",
       "      <td>Health Care</td>\n",
       "      <td>Natco Pharma Limited is an India-based vertica...</td>\n",
       "      <td>2473.250079</td>\n",
       "      <td>1173.85</td>\n",
       "      <td>India</td>\n",
       "      <td>INR</td>\n",
       "      <td>...</td>\n",
       "      <td>NATCOPHARM</td>\n",
       "      <td>India</td>\n",
       "      <td>India</td>\n",
       "      <td>Manufacturing</td>\n",
       "      <td>Chemical Manufacturing</td>\n",
       "      <td>Pharmaceutical and Medicine Manufacturing</td>\n",
       "      <td>NaN</td>\n",
       "      <td>6.321135</td>\n",
       "      <td>0.033333</td>\n",
       "      <td>Small Cap</td>\n",
       "    </tr>\n",
       "    <tr>\n",
       "      <th>627</th>\n",
       "      <td>STAR | INR</td>\n",
       "      <td>STAR</td>\n",
       "      <td>Strides Pharma Science</td>\n",
       "      <td>Pharmaceuticals</td>\n",
       "      <td>Health Care</td>\n",
       "      <td>Strides Pharma Science Limited is an India-bas...</td>\n",
       "      <td>743.187888</td>\n",
       "      <td>685.50</td>\n",
       "      <td>India</td>\n",
       "      <td>INR</td>\n",
       "      <td>...</td>\n",
       "      <td>STAR</td>\n",
       "      <td>India</td>\n",
       "      <td>India</td>\n",
       "      <td>Manufacturing</td>\n",
       "      <td>Chemical Manufacturing</td>\n",
       "      <td>Pharmaceutical and Medicine Manufacturing</td>\n",
       "      <td>NaN</td>\n",
       "      <td>7.741922</td>\n",
       "      <td>NaN</td>\n",
       "      <td>Micro Cap</td>\n",
       "    </tr>\n",
       "  </tbody>\n",
       "</table>\n",
       "<p>5 rows × 48 columns</p>\n",
       "</div>"
      ],
      "text/plain": [
       "          Tick | Curr   IB Ticker              Company Name  \\\n",
       "12      HCLTECH | INR     HCLTECH          HCL Technologies   \n",
       "828         KCP | INR         KCP                       KCP   \n",
       "196    GLENMARK | INR    GLENMARK  Glenmark Pharmaceuticals   \n",
       "312  NATCOPHARM | INR  NATCOPHARM              Natco Pharma   \n",
       "627        STAR | INR        STAR    Strides Pharma Science   \n",
       "\n",
       "                   Industry             GICS Sector  \\\n",
       "12              IT Services  Information Technology   \n",
       "828  Construction Materials               Materials   \n",
       "196         Pharmaceuticals             Health Care   \n",
       "312         Pharmaceuticals             Health Care   \n",
       "627         Pharmaceuticals             Health Care   \n",
       "\n",
       "                                  Business Description  Mkt Cap mn USD  \\\n",
       "12   HCL Technologies Limited is a technology compa...    55011.151374   \n",
       "828  The KCP Limited is an India-based company that...      317.583207   \n",
       "196  Glenmark Pharmaceuticals Limited is an India-b...     4823.919807   \n",
       "312  Natco Pharma Limited is an India-based vertica...     2473.250079   \n",
       "627  Strides Pharma Science Limited is an India-bas...      743.187888   \n",
       "\n",
       "     Stock Price Market Currency  ...  Exchange Ticker  Country of HQ  \\\n",
       "12       1725.45  India      INR  ...          HCLTECH          India   \n",
       "828       209.41  India      INR  ...              KCP          India   \n",
       "196      1453.20  India      INR  ...         GLENMARK          India   \n",
       "312      1173.85  India      INR  ...       NATCOPHARM          India   \n",
       "627       685.50  India      INR  ...             STAR          India   \n",
       "\n",
       "     Market adj                                       Sector Name  \\\n",
       "12        India  Professional, Scientific, and Technical Services   \n",
       "828       India                                     Manufacturing   \n",
       "196       India                                     Manufacturing   \n",
       "312       India                                     Manufacturing   \n",
       "627       India                                     Manufacturing   \n",
       "\n",
       "                                       Subsector Name  \\\n",
       "12   Professional, Scientific, and Technical Services   \n",
       "828         Nonmetallic Mineral Product Manufacturing   \n",
       "196                            Chemical Manufacturing   \n",
       "312                            Chemical Manufacturing   \n",
       "627                            Chemical Manufacturing   \n",
       "\n",
       "                                     Sub Industry  Dividend Ex Date  \\\n",
       "12   Computer Systems Design and Related Services               NaN   \n",
       "828                          Cement Manufacturing               NaN   \n",
       "196     Pharmaceutical and Medicine Manufacturing               NaN   \n",
       "312     Pharmaceutical and Medicine Manufacturing               NaN   \n",
       "627     Pharmaceutical and Medicine Manufacturing               NaN   \n",
       "\n",
       "     Avg_Volume_Daily_USD  Ideal Portfolio  Cap_Weighting  \n",
       "12              83.743463         0.033333      Large Cap  \n",
       "828              0.688903              NaN      Micro Cap  \n",
       "196              6.229570         0.033333        Mid Cap  \n",
       "312              6.321135         0.033333      Small Cap  \n",
       "627              7.741922              NaN      Micro Cap  \n",
       "\n",
       "[5 rows x 48 columns]"
      ]
     },
     "execution_count": 47,
     "metadata": {},
     "output_type": "execute_result"
    }
   ],
   "source": [
    "b.head()"
   ]
  },
  {
   "cell_type": "code",
   "execution_count": 48,
   "metadata": {},
   "outputs": [
    {
     "data": {
      "text/plain": [
       "(958, 48)"
      ]
     },
     "execution_count": 48,
     "metadata": {},
     "output_type": "execute_result"
    }
   ],
   "source": [
    "b.shape"
   ]
  },
  {
   "cell_type": "code",
   "execution_count": 49,
   "metadata": {},
   "outputs": [],
   "source": [
    "#b.to_csv('b.csv')"
   ]
  },
  {
   "cell_type": "code",
   "execution_count": 50,
   "metadata": {},
   "outputs": [],
   "source": [
    "c=b.drop_duplicates(subset=['Business Description'],keep='last')"
   ]
  },
  {
   "cell_type": "code",
   "execution_count": 51,
   "metadata": {},
   "outputs": [
    {
     "data": {
      "text/plain": [
       "(958, 48)"
      ]
     },
     "execution_count": 51,
     "metadata": {},
     "output_type": "execute_result"
    }
   ],
   "source": [
    "c.shape"
   ]
  },
  {
   "cell_type": "code",
   "execution_count": 52,
   "metadata": {},
   "outputs": [
    {
     "data": {
      "text/plain": [
       "0"
      ]
     },
     "execution_count": 52,
     "metadata": {},
     "output_type": "execute_result"
    }
   ],
   "source": [
    "#b[b['Business Description'].duplicated() == True]\n",
    "\n",
    "len(b[b.duplicated(['Business Description'], keep=False)])"
   ]
  },
  {
   "cell_type": "code",
   "execution_count": 53,
   "metadata": {},
   "outputs": [],
   "source": [
    "c.reset_index(drop=True,inplace=True)"
   ]
  },
  {
   "cell_type": "code",
   "execution_count": 54,
   "metadata": {},
   "outputs": [
    {
     "data": {
      "text/plain": [
       "(958, 48)"
      ]
     },
     "execution_count": 54,
     "metadata": {},
     "output_type": "execute_result"
    }
   ],
   "source": [
    "c.shape"
   ]
  },
  {
   "cell_type": "code",
   "execution_count": 55,
   "metadata": {},
   "outputs": [
    {
     "data": {
      "text/plain": [
       "(0, 48)"
      ]
     },
     "execution_count": 55,
     "metadata": {},
     "output_type": "execute_result"
    }
   ],
   "source": [
    "NAs.shape"
   ]
  },
  {
   "cell_type": "code",
   "execution_count": 56,
   "metadata": {},
   "outputs": [],
   "source": [
    "join=pd.concat([c,NAs])"
   ]
  },
  {
   "cell_type": "code",
   "execution_count": 57,
   "metadata": {},
   "outputs": [
    {
     "data": {
      "text/plain": [
       "(958, 48)"
      ]
     },
     "execution_count": 57,
     "metadata": {},
     "output_type": "execute_result"
    }
   ],
   "source": [
    "join.shape"
   ]
  },
  {
   "cell_type": "code",
   "execution_count": 58,
   "metadata": {},
   "outputs": [
    {
     "data": {
      "text/plain": [
       "(958, 48)"
      ]
     },
     "execution_count": 58,
     "metadata": {},
     "output_type": "execute_result"
    }
   ],
   "source": [
    "dd2.shape"
   ]
  },
  {
   "cell_type": "code",
   "execution_count": 59,
   "metadata": {},
   "outputs": [],
   "source": [
    "dd2=join"
   ]
  },
  {
   "cell_type": "code",
   "execution_count": 60,
   "metadata": {},
   "outputs": [
    {
     "data": {
      "text/plain": [
       "(958, 48)"
      ]
     },
     "execution_count": 60,
     "metadata": {},
     "output_type": "execute_result"
    }
   ],
   "source": [
    "dd2.shape"
   ]
  },
  {
   "cell_type": "code",
   "execution_count": 61,
   "metadata": {},
   "outputs": [
    {
     "data": {
      "text/html": [
       "<div>\n",
       "<style scoped>\n",
       "    .dataframe tbody tr th:only-of-type {\n",
       "        vertical-align: middle;\n",
       "    }\n",
       "\n",
       "    .dataframe tbody tr th {\n",
       "        vertical-align: top;\n",
       "    }\n",
       "\n",
       "    .dataframe thead th {\n",
       "        text-align: right;\n",
       "    }\n",
       "</style>\n",
       "<table border=\"1\" class=\"dataframe\">\n",
       "  <thead>\n",
       "    <tr style=\"text-align: right;\">\n",
       "      <th></th>\n",
       "      <th>Tick | Curr</th>\n",
       "      <th>IB Ticker</th>\n",
       "      <th>Company Name</th>\n",
       "      <th>Industry</th>\n",
       "      <th>GICS Sector</th>\n",
       "      <th>Business Description</th>\n",
       "      <th>Mkt Cap mn USD</th>\n",
       "      <th>Stock Price</th>\n",
       "      <th>Market</th>\n",
       "      <th>Currency</th>\n",
       "      <th>...</th>\n",
       "      <th>Exchange Ticker</th>\n",
       "      <th>Country of HQ</th>\n",
       "      <th>Market adj</th>\n",
       "      <th>Sector Name</th>\n",
       "      <th>Subsector Name</th>\n",
       "      <th>Sub Industry</th>\n",
       "      <th>Dividend Ex Date</th>\n",
       "      <th>Avg_Volume_Daily_USD</th>\n",
       "      <th>Ideal Portfolio</th>\n",
       "      <th>Cap_Weighting</th>\n",
       "    </tr>\n",
       "  </thead>\n",
       "  <tbody>\n",
       "    <tr>\n",
       "      <th>0</th>\n",
       "      <td>HCLTECH | INR</td>\n",
       "      <td>HCLTECH</td>\n",
       "      <td>HCL Technologies</td>\n",
       "      <td>IT Services</td>\n",
       "      <td>Information Technology</td>\n",
       "      <td>HCL Technologies Limited is a technology compa...</td>\n",
       "      <td>55011.151374</td>\n",
       "      <td>1725.45</td>\n",
       "      <td>India</td>\n",
       "      <td>INR</td>\n",
       "      <td>...</td>\n",
       "      <td>HCLTECH</td>\n",
       "      <td>India</td>\n",
       "      <td>India</td>\n",
       "      <td>Professional, Scientific, and Technical Services</td>\n",
       "      <td>Professional, Scientific, and Technical Services</td>\n",
       "      <td>Computer Systems Design and Related Services</td>\n",
       "      <td>NaN</td>\n",
       "      <td>83.743463</td>\n",
       "      <td>0.033333</td>\n",
       "      <td>Large Cap</td>\n",
       "    </tr>\n",
       "    <tr>\n",
       "      <th>1</th>\n",
       "      <td>KCP | INR</td>\n",
       "      <td>KCP</td>\n",
       "      <td>KCP</td>\n",
       "      <td>Construction Materials</td>\n",
       "      <td>Materials</td>\n",
       "      <td>The KCP Limited is an India-based company that...</td>\n",
       "      <td>317.583207</td>\n",
       "      <td>209.41</td>\n",
       "      <td>India</td>\n",
       "      <td>INR</td>\n",
       "      <td>...</td>\n",
       "      <td>KCP</td>\n",
       "      <td>India</td>\n",
       "      <td>India</td>\n",
       "      <td>Manufacturing</td>\n",
       "      <td>Nonmetallic Mineral Product Manufacturing</td>\n",
       "      <td>Cement Manufacturing</td>\n",
       "      <td>NaN</td>\n",
       "      <td>0.688903</td>\n",
       "      <td>NaN</td>\n",
       "      <td>Micro Cap</td>\n",
       "    </tr>\n",
       "    <tr>\n",
       "      <th>2</th>\n",
       "      <td>GLENMARK | INR</td>\n",
       "      <td>GLENMARK</td>\n",
       "      <td>Glenmark Pharmaceuticals</td>\n",
       "      <td>Pharmaceuticals</td>\n",
       "      <td>Health Care</td>\n",
       "      <td>Glenmark Pharmaceuticals Limited is an India-b...</td>\n",
       "      <td>4823.919807</td>\n",
       "      <td>1453.20</td>\n",
       "      <td>India</td>\n",
       "      <td>INR</td>\n",
       "      <td>...</td>\n",
       "      <td>GLENMARK</td>\n",
       "      <td>India</td>\n",
       "      <td>India</td>\n",
       "      <td>Manufacturing</td>\n",
       "      <td>Chemical Manufacturing</td>\n",
       "      <td>Pharmaceutical and Medicine Manufacturing</td>\n",
       "      <td>NaN</td>\n",
       "      <td>6.229570</td>\n",
       "      <td>0.033333</td>\n",
       "      <td>Mid Cap</td>\n",
       "    </tr>\n",
       "    <tr>\n",
       "      <th>3</th>\n",
       "      <td>NATCOPHARM | INR</td>\n",
       "      <td>NATCOPHARM</td>\n",
       "      <td>Natco Pharma</td>\n",
       "      <td>Pharmaceuticals</td>\n",
       "      <td>Health Care</td>\n",
       "      <td>Natco Pharma Limited is an India-based vertica...</td>\n",
       "      <td>2473.250079</td>\n",
       "      <td>1173.85</td>\n",
       "      <td>India</td>\n",
       "      <td>INR</td>\n",
       "      <td>...</td>\n",
       "      <td>NATCOPHARM</td>\n",
       "      <td>India</td>\n",
       "      <td>India</td>\n",
       "      <td>Manufacturing</td>\n",
       "      <td>Chemical Manufacturing</td>\n",
       "      <td>Pharmaceutical and Medicine Manufacturing</td>\n",
       "      <td>NaN</td>\n",
       "      <td>6.321135</td>\n",
       "      <td>0.033333</td>\n",
       "      <td>Small Cap</td>\n",
       "    </tr>\n",
       "    <tr>\n",
       "      <th>4</th>\n",
       "      <td>STAR | INR</td>\n",
       "      <td>STAR</td>\n",
       "      <td>Strides Pharma Science</td>\n",
       "      <td>Pharmaceuticals</td>\n",
       "      <td>Health Care</td>\n",
       "      <td>Strides Pharma Science Limited is an India-bas...</td>\n",
       "      <td>743.187888</td>\n",
       "      <td>685.50</td>\n",
       "      <td>India</td>\n",
       "      <td>INR</td>\n",
       "      <td>...</td>\n",
       "      <td>STAR</td>\n",
       "      <td>India</td>\n",
       "      <td>India</td>\n",
       "      <td>Manufacturing</td>\n",
       "      <td>Chemical Manufacturing</td>\n",
       "      <td>Pharmaceutical and Medicine Manufacturing</td>\n",
       "      <td>NaN</td>\n",
       "      <td>7.741922</td>\n",
       "      <td>NaN</td>\n",
       "      <td>Micro Cap</td>\n",
       "    </tr>\n",
       "  </tbody>\n",
       "</table>\n",
       "<p>5 rows × 48 columns</p>\n",
       "</div>"
      ],
      "text/plain": [
       "        Tick | Curr   IB Ticker              Company Name  \\\n",
       "0     HCLTECH | INR     HCLTECH          HCL Technologies   \n",
       "1         KCP | INR         KCP                       KCP   \n",
       "2    GLENMARK | INR    GLENMARK  Glenmark Pharmaceuticals   \n",
       "3  NATCOPHARM | INR  NATCOPHARM              Natco Pharma   \n",
       "4        STAR | INR        STAR    Strides Pharma Science   \n",
       "\n",
       "                 Industry             GICS Sector  \\\n",
       "0             IT Services  Information Technology   \n",
       "1  Construction Materials               Materials   \n",
       "2         Pharmaceuticals             Health Care   \n",
       "3         Pharmaceuticals             Health Care   \n",
       "4         Pharmaceuticals             Health Care   \n",
       "\n",
       "                                Business Description  Mkt Cap mn USD  \\\n",
       "0  HCL Technologies Limited is a technology compa...    55011.151374   \n",
       "1  The KCP Limited is an India-based company that...      317.583207   \n",
       "2  Glenmark Pharmaceuticals Limited is an India-b...     4823.919807   \n",
       "3  Natco Pharma Limited is an India-based vertica...     2473.250079   \n",
       "4  Strides Pharma Science Limited is an India-bas...      743.187888   \n",
       "\n",
       "   Stock Price Market Currency  ...  Exchange Ticker  Country of HQ  \\\n",
       "0      1725.45  India      INR  ...          HCLTECH          India   \n",
       "1       209.41  India      INR  ...              KCP          India   \n",
       "2      1453.20  India      INR  ...         GLENMARK          India   \n",
       "3      1173.85  India      INR  ...       NATCOPHARM          India   \n",
       "4       685.50  India      INR  ...             STAR          India   \n",
       "\n",
       "   Market adj                                       Sector Name  \\\n",
       "0       India  Professional, Scientific, and Technical Services   \n",
       "1       India                                     Manufacturing   \n",
       "2       India                                     Manufacturing   \n",
       "3       India                                     Manufacturing   \n",
       "4       India                                     Manufacturing   \n",
       "\n",
       "                                     Subsector Name  \\\n",
       "0  Professional, Scientific, and Technical Services   \n",
       "1         Nonmetallic Mineral Product Manufacturing   \n",
       "2                            Chemical Manufacturing   \n",
       "3                            Chemical Manufacturing   \n",
       "4                            Chemical Manufacturing   \n",
       "\n",
       "                                   Sub Industry  Dividend Ex Date  \\\n",
       "0  Computer Systems Design and Related Services               NaN   \n",
       "1                          Cement Manufacturing               NaN   \n",
       "2     Pharmaceutical and Medicine Manufacturing               NaN   \n",
       "3     Pharmaceutical and Medicine Manufacturing               NaN   \n",
       "4     Pharmaceutical and Medicine Manufacturing               NaN   \n",
       "\n",
       "   Avg_Volume_Daily_USD  Ideal Portfolio  Cap_Weighting  \n",
       "0             83.743463         0.033333      Large Cap  \n",
       "1              0.688903              NaN      Micro Cap  \n",
       "2              6.229570         0.033333        Mid Cap  \n",
       "3              6.321135         0.033333      Small Cap  \n",
       "4              7.741922              NaN      Micro Cap  \n",
       "\n",
       "[5 rows x 48 columns]"
      ]
     },
     "execution_count": 61,
     "metadata": {},
     "output_type": "execute_result"
    }
   ],
   "source": [
    "dd2.head()"
   ]
  },
  {
   "cell_type": "code",
   "execution_count": null,
   "metadata": {},
   "outputs": [],
   "source": []
  },
  {
   "cell_type": "code",
   "execution_count": 62,
   "metadata": {},
   "outputs": [],
   "source": [
    "#Parentheses Removal\n",
    "\n",
    "\n",
    "dd2['Company Name']=dd2['Company Name'].str.replace(\"(Holdings)\",\"\",regex=False)\n",
    "dd2['Company Name']=dd2['Company Name'].str.replace(\"(Holding)\",\"\",regex=False)\n",
    "dd2['Company Name']=dd2['Company Name'].str.replace(\"(International)\",\"\",regex=False)\n",
    "dd2['Company Name']=dd2['Company Name'].str.replace(\"(Group)\",\"\",regex=False)\n",
    "dd2['Company Name']=dd2['Company Name'].str.replace(\"(Industrial)\",\"\",regex=False)\n",
    "dd2['Company Name']=dd2['Company Name'].str.replace(\"(Registered Share)\",\"\",regex=False)\n",
    "dd2['Company Name']=dd2['Company Name'].str.replace(\"(Depository Interest)\",\"\",regex=False)\n",
    "dd2['Company Name']=dd2['Company Name'].str.replace(\"(HKSE Connect Equity)\",\"\",regex=False)\n",
    "dd2['Company Name']=dd2['Company Name'].str.replace(\"Nil Paid\",\"\",regex=False)\n",
    "dd2['Company Name']=dd2['Company Name'].str.replace(\"Bonus Rights\",\"\",regex=False)\n",
    "\n",
    "\n",
    "dd2['Company Name']=dd2['Company Name'].str.replace(\"'A'\",\"\",regex=False)\n",
    "dd2['Company Name']=dd2['Company Name'].str.replace(\"'B'\",\"\",regex=False)\n",
    "dd2['Company Name']=dd2['Company Name'].str.replace(\"'D'\",\"\",regex=False)\n",
    "dd2['Company Name']=dd2['Company Name'].str.replace(\"'E'\",\"\",regex=False)\n",
    "dd2['Company Name']=dd2['Company Name'].str.replace(\"'H'\",\"\",regex=False)\n",
    "dd2['Company Name']=dd2['Company Name'].str.replace(\"'I'\",\"\",regex=False)\n",
    "dd2['Company Name']=dd2['Company Name'].str.replace(\"'L'\",\"\",regex=False)\n",
    "dd2['Company Name']=dd2['Company Name'].str.replace(\"'N'\",\"\",regex=False)\n",
    "dd2['Company Name']=dd2['Company Name'].str.replace(\"'O'\",\"\",regex=False)\n",
    "dd2['Company Name']=dd2['Company Name'].str.replace(\"'P'\",\"\",regex=False)\n",
    "dd2['Company Name']=dd2['Company Name'].str.replace(\"'R'\",\"\",regex=False)\n",
    "dd2['Company Name']=dd2['Company Name'].str.replace(\"'V'\",\"\",regex=False)\n",
    "\n",
    "dd2['Business Description']=dd2['Business Description'].str.replace(\"Ã¢â‚¬â„¢\",\"'\",regex=False)\n",
    "dd2['Business Description']=dd2['Business Description'].str.replace(\"Ã¢Â€Â™\",\"'\",regex=False)\n",
    "dd2['Business Description']=dd2['Business Description'].str.replace(\"Ã¢Â€Â¯\",\"'\",regex=False)\n",
    "dd2['Business Description']=dd2['Business Description'].str.replace(\"dÃ¢Â€ÂdÃ¢Â€Â\",\"'\",regex=False)"
   ]
  },
  {
   "cell_type": "code",
   "execution_count": 63,
   "metadata": {},
   "outputs": [
    {
     "data": {
      "text/plain": [
       "'\\'\\n#Ticker Cleaning\\n\\n#dd2.loc[dd2[\\'Company Name\\'] == \\'Sonova N \\', [\\'IB Ticker\\']] = \"SOON\"\\n#dd2.loc[(dd2[\\'Company Name\\'] == \\'Sonova N \\') & (dd2[\\'Industry\\']==\\'Health Care Equipment & Supplies\\'), [\\'IB Ticker\\']] = \"SOON\"\\n\\ndd2.loc[dd2[\\'Company Name\\'] == \\'Sonova N \\', [\\'IB Ticker\\']] = \\'SOON\\'\\ndd2.loc[dd2[\\'Company Name\\'] == \\'Frasers Group\\', [\\'IB Ticker\\']] = \\'FRAS\\'\\n\\ndd2.loc[dd2[\\'Company Name\\'] == \\'Sonova N \\', [\\'Currency\\']] = \\'CHF\\'\\ndd2.loc[dd2[\\'Company Name\\'] == \\'Bayer \\', [\\'Currency\\']] = \\'EUR\\'\\n\\ndd2.loc[dd2[\\'IB Ticker\\'] == \\'RDSB\\', [\\'IB Ticker\\']] = \\'SHEL\\'\\ndd2.loc[dd2[\\'IB Ticker\\'] == \\'RDSA\\', [\\'IB Ticker\\']] = \\'SHEL\\'\\n\\ndd2.loc[dd2[\\'IB Ticker\\'] == \\'ASSA.B\\', [\\'Currency\\']] = \\'SEK\\'\\ndd2.loc[dd2[\\'IB Ticker\\'] == \\'MBG\\', [\\'Currency\\']] = \\'EUR\\'\\n\\ndd2.loc[(dd2[\\'IB Ticker\\'] == \\'SAP\\') & (dd2[\\'Currency\\']==\\'CHF\\'), [\\'Currency\\']] = \\'EUR\\'\\n'"
      ]
     },
     "execution_count": 63,
     "metadata": {},
     "output_type": "execute_result"
    }
   ],
   "source": [
    "\n",
    "#dd2.loc[dd2['IB Ticker'] == 'AMARAJABAT', ['IB Ticker']] = 'ARE&M'\n",
    "\n",
    "''''\n",
    "#Ticker Cleaning\n",
    "\n",
    "#dd2.loc[dd2['Company Name'] == 'Sonova N ', ['IB Ticker']] = \"SOON\"\n",
    "#dd2.loc[(dd2['Company Name'] == 'Sonova N ') & (dd2['Industry']=='Health Care Equipment & Supplies'), ['IB Ticker']] = \"SOON\"\n",
    "\n",
    "dd2.loc[dd2['Company Name'] == 'Sonova N ', ['IB Ticker']] = 'SOON'\n",
    "dd2.loc[dd2['Company Name'] == 'Frasers Group', ['IB Ticker']] = 'FRAS'\n",
    "\n",
    "dd2.loc[dd2['Company Name'] == 'Sonova N ', ['Currency']] = 'CHF'\n",
    "dd2.loc[dd2['Company Name'] == 'Bayer ', ['Currency']] = 'EUR'\n",
    "\n",
    "dd2.loc[dd2['IB Ticker'] == 'RDSB', ['IB Ticker']] = 'SHEL'\n",
    "dd2.loc[dd2['IB Ticker'] == 'RDSA', ['IB Ticker']] = 'SHEL'\n",
    "\n",
    "dd2.loc[dd2['IB Ticker'] == 'ASSA.B', ['Currency']] = 'SEK'\n",
    "dd2.loc[dd2['IB Ticker'] == 'MBG', ['Currency']] = 'EUR'\n",
    "\n",
    "dd2.loc[(dd2['IB Ticker'] == 'SAP') & (dd2['Currency']=='CHF'), ['Currency']] = 'EUR'\n",
    "'''\n",
    "\n",
    "#dd2.loc[dd2['IB Ticker'] == 'F&N', ['IB Ticker']] = 'F N'"
   ]
  },
  {
   "cell_type": "code",
   "execution_count": 64,
   "metadata": {},
   "outputs": [
    {
     "data": {
      "text/plain": [
       "(958, 48)"
      ]
     },
     "execution_count": 64,
     "metadata": {},
     "output_type": "execute_result"
    }
   ],
   "source": [
    "dd2.shape"
   ]
  },
  {
   "cell_type": "code",
   "execution_count": 65,
   "metadata": {},
   "outputs": [],
   "source": [
    "#dd2=dd2[~dd2['Company Name'].str.contains('Nil Paid')]\n",
    "#dd2=dd2[~dd2['Company Name'].str.contains('Bonus Rights')]"
   ]
  },
  {
   "cell_type": "code",
   "execution_count": 66,
   "metadata": {},
   "outputs": [
    {
     "data": {
      "text/plain": [
       "(958, 48)"
      ]
     },
     "execution_count": 66,
     "metadata": {},
     "output_type": "execute_result"
    }
   ],
   "source": [
    "dd2.shape"
   ]
  },
  {
   "cell_type": "code",
   "execution_count": 67,
   "metadata": {},
   "outputs": [],
   "source": [
    "dd2=dd2.sort_values(by=['Total Score','Mkt Cap mn USD'],ascending=False)"
   ]
  },
  {
   "cell_type": "code",
   "execution_count": 68,
   "metadata": {},
   "outputs": [],
   "source": [
    "dd2.reset_index(drop=True,inplace=True)"
   ]
  },
  {
   "cell_type": "code",
   "execution_count": 69,
   "metadata": {},
   "outputs": [
    {
     "data": {
      "text/html": [
       "<div>\n",
       "<style scoped>\n",
       "    .dataframe tbody tr th:only-of-type {\n",
       "        vertical-align: middle;\n",
       "    }\n",
       "\n",
       "    .dataframe tbody tr th {\n",
       "        vertical-align: top;\n",
       "    }\n",
       "\n",
       "    .dataframe thead th {\n",
       "        text-align: right;\n",
       "    }\n",
       "</style>\n",
       "<table border=\"1\" class=\"dataframe\">\n",
       "  <thead>\n",
       "    <tr style=\"text-align: right;\">\n",
       "      <th></th>\n",
       "      <th>Tick | Curr</th>\n",
       "      <th>IB Ticker</th>\n",
       "      <th>Company Name</th>\n",
       "      <th>Industry</th>\n",
       "      <th>GICS Sector</th>\n",
       "      <th>Business Description</th>\n",
       "      <th>Mkt Cap mn USD</th>\n",
       "      <th>Stock Price</th>\n",
       "      <th>Market</th>\n",
       "      <th>Currency</th>\n",
       "      <th>...</th>\n",
       "      <th>Exchange Ticker</th>\n",
       "      <th>Country of HQ</th>\n",
       "      <th>Market adj</th>\n",
       "      <th>Sector Name</th>\n",
       "      <th>Subsector Name</th>\n",
       "      <th>Sub Industry</th>\n",
       "      <th>Dividend Ex Date</th>\n",
       "      <th>Avg_Volume_Daily_USD</th>\n",
       "      <th>Ideal Portfolio</th>\n",
       "      <th>Cap_Weighting</th>\n",
       "    </tr>\n",
       "  </thead>\n",
       "  <tbody>\n",
       "    <tr>\n",
       "      <th>0</th>\n",
       "      <td>HCLTECH | INR</td>\n",
       "      <td>HCLTECH</td>\n",
       "      <td>HCL Technologies</td>\n",
       "      <td>IT Services</td>\n",
       "      <td>Information Technology</td>\n",
       "      <td>HCL Technologies Limited is a technology compa...</td>\n",
       "      <td>55011.151374</td>\n",
       "      <td>1725.45</td>\n",
       "      <td>India</td>\n",
       "      <td>INR</td>\n",
       "      <td>...</td>\n",
       "      <td>HCLTECH</td>\n",
       "      <td>India</td>\n",
       "      <td>India</td>\n",
       "      <td>Professional, Scientific, and Technical Services</td>\n",
       "      <td>Professional, Scientific, and Technical Services</td>\n",
       "      <td>Computer Systems Design and Related Services</td>\n",
       "      <td>NaN</td>\n",
       "      <td>83.743463</td>\n",
       "      <td>0.033333</td>\n",
       "      <td>Large Cap</td>\n",
       "    </tr>\n",
       "    <tr>\n",
       "      <th>1</th>\n",
       "      <td>KCP | INR</td>\n",
       "      <td>KCP</td>\n",
       "      <td>KCP</td>\n",
       "      <td>Construction Materials</td>\n",
       "      <td>Materials</td>\n",
       "      <td>The KCP Limited is an India-based company that...</td>\n",
       "      <td>317.583207</td>\n",
       "      <td>209.41</td>\n",
       "      <td>India</td>\n",
       "      <td>INR</td>\n",
       "      <td>...</td>\n",
       "      <td>KCP</td>\n",
       "      <td>India</td>\n",
       "      <td>India</td>\n",
       "      <td>Manufacturing</td>\n",
       "      <td>Nonmetallic Mineral Product Manufacturing</td>\n",
       "      <td>Cement Manufacturing</td>\n",
       "      <td>NaN</td>\n",
       "      <td>0.688903</td>\n",
       "      <td>NaN</td>\n",
       "      <td>Micro Cap</td>\n",
       "    </tr>\n",
       "    <tr>\n",
       "      <th>2</th>\n",
       "      <td>GLENMARK | INR</td>\n",
       "      <td>GLENMARK</td>\n",
       "      <td>Glenmark Pharmaceuticals</td>\n",
       "      <td>Pharmaceuticals</td>\n",
       "      <td>Health Care</td>\n",
       "      <td>Glenmark Pharmaceuticals Limited is an India-b...</td>\n",
       "      <td>4823.919807</td>\n",
       "      <td>1453.20</td>\n",
       "      <td>India</td>\n",
       "      <td>INR</td>\n",
       "      <td>...</td>\n",
       "      <td>GLENMARK</td>\n",
       "      <td>India</td>\n",
       "      <td>India</td>\n",
       "      <td>Manufacturing</td>\n",
       "      <td>Chemical Manufacturing</td>\n",
       "      <td>Pharmaceutical and Medicine Manufacturing</td>\n",
       "      <td>NaN</td>\n",
       "      <td>6.229570</td>\n",
       "      <td>0.033333</td>\n",
       "      <td>Mid Cap</td>\n",
       "    </tr>\n",
       "    <tr>\n",
       "      <th>3</th>\n",
       "      <td>NATCOPHARM | INR</td>\n",
       "      <td>NATCOPHARM</td>\n",
       "      <td>Natco Pharma</td>\n",
       "      <td>Pharmaceuticals</td>\n",
       "      <td>Health Care</td>\n",
       "      <td>Natco Pharma Limited is an India-based vertica...</td>\n",
       "      <td>2473.250079</td>\n",
       "      <td>1173.85</td>\n",
       "      <td>India</td>\n",
       "      <td>INR</td>\n",
       "      <td>...</td>\n",
       "      <td>NATCOPHARM</td>\n",
       "      <td>India</td>\n",
       "      <td>India</td>\n",
       "      <td>Manufacturing</td>\n",
       "      <td>Chemical Manufacturing</td>\n",
       "      <td>Pharmaceutical and Medicine Manufacturing</td>\n",
       "      <td>NaN</td>\n",
       "      <td>6.321135</td>\n",
       "      <td>0.033333</td>\n",
       "      <td>Small Cap</td>\n",
       "    </tr>\n",
       "    <tr>\n",
       "      <th>4</th>\n",
       "      <td>STAR | INR</td>\n",
       "      <td>STAR</td>\n",
       "      <td>Strides Pharma Science</td>\n",
       "      <td>Pharmaceuticals</td>\n",
       "      <td>Health Care</td>\n",
       "      <td>Strides Pharma Science Limited is an India-bas...</td>\n",
       "      <td>743.187888</td>\n",
       "      <td>685.50</td>\n",
       "      <td>India</td>\n",
       "      <td>INR</td>\n",
       "      <td>...</td>\n",
       "      <td>STAR</td>\n",
       "      <td>India</td>\n",
       "      <td>India</td>\n",
       "      <td>Manufacturing</td>\n",
       "      <td>Chemical Manufacturing</td>\n",
       "      <td>Pharmaceutical and Medicine Manufacturing</td>\n",
       "      <td>NaN</td>\n",
       "      <td>7.741922</td>\n",
       "      <td>NaN</td>\n",
       "      <td>Micro Cap</td>\n",
       "    </tr>\n",
       "  </tbody>\n",
       "</table>\n",
       "<p>5 rows × 48 columns</p>\n",
       "</div>"
      ],
      "text/plain": [
       "        Tick | Curr   IB Ticker              Company Name  \\\n",
       "0     HCLTECH | INR     HCLTECH          HCL Technologies   \n",
       "1         KCP | INR         KCP                       KCP   \n",
       "2    GLENMARK | INR    GLENMARK  Glenmark Pharmaceuticals   \n",
       "3  NATCOPHARM | INR  NATCOPHARM              Natco Pharma   \n",
       "4        STAR | INR        STAR    Strides Pharma Science   \n",
       "\n",
       "                 Industry             GICS Sector  \\\n",
       "0             IT Services  Information Technology   \n",
       "1  Construction Materials               Materials   \n",
       "2         Pharmaceuticals             Health Care   \n",
       "3         Pharmaceuticals             Health Care   \n",
       "4         Pharmaceuticals             Health Care   \n",
       "\n",
       "                                Business Description  Mkt Cap mn USD  \\\n",
       "0  HCL Technologies Limited is a technology compa...    55011.151374   \n",
       "1  The KCP Limited is an India-based company that...      317.583207   \n",
       "2  Glenmark Pharmaceuticals Limited is an India-b...     4823.919807   \n",
       "3  Natco Pharma Limited is an India-based vertica...     2473.250079   \n",
       "4  Strides Pharma Science Limited is an India-bas...      743.187888   \n",
       "\n",
       "   Stock Price Market Currency  ...  Exchange Ticker  Country of HQ  \\\n",
       "0      1725.45  India      INR  ...          HCLTECH          India   \n",
       "1       209.41  India      INR  ...              KCP          India   \n",
       "2      1453.20  India      INR  ...         GLENMARK          India   \n",
       "3      1173.85  India      INR  ...       NATCOPHARM          India   \n",
       "4       685.50  India      INR  ...             STAR          India   \n",
       "\n",
       "   Market adj                                       Sector Name  \\\n",
       "0       India  Professional, Scientific, and Technical Services   \n",
       "1       India                                     Manufacturing   \n",
       "2       India                                     Manufacturing   \n",
       "3       India                                     Manufacturing   \n",
       "4       India                                     Manufacturing   \n",
       "\n",
       "                                     Subsector Name  \\\n",
       "0  Professional, Scientific, and Technical Services   \n",
       "1         Nonmetallic Mineral Product Manufacturing   \n",
       "2                            Chemical Manufacturing   \n",
       "3                            Chemical Manufacturing   \n",
       "4                            Chemical Manufacturing   \n",
       "\n",
       "                                   Sub Industry  Dividend Ex Date  \\\n",
       "0  Computer Systems Design and Related Services               NaN   \n",
       "1                          Cement Manufacturing               NaN   \n",
       "2     Pharmaceutical and Medicine Manufacturing               NaN   \n",
       "3     Pharmaceutical and Medicine Manufacturing               NaN   \n",
       "4     Pharmaceutical and Medicine Manufacturing               NaN   \n",
       "\n",
       "   Avg_Volume_Daily_USD  Ideal Portfolio  Cap_Weighting  \n",
       "0             83.743463         0.033333      Large Cap  \n",
       "1              0.688903              NaN      Micro Cap  \n",
       "2              6.229570         0.033333        Mid Cap  \n",
       "3              6.321135         0.033333      Small Cap  \n",
       "4              7.741922              NaN      Micro Cap  \n",
       "\n",
       "[5 rows x 48 columns]"
      ]
     },
     "execution_count": 69,
     "metadata": {},
     "output_type": "execute_result"
    }
   ],
   "source": [
    "dd2.head()"
   ]
  },
  {
   "cell_type": "code",
   "execution_count": 70,
   "metadata": {},
   "outputs": [
    {
     "data": {
      "text/plain": [
       "(958, 48)"
      ]
     },
     "execution_count": 70,
     "metadata": {},
     "output_type": "execute_result"
    }
   ],
   "source": [
    "dd2.shape"
   ]
  },
  {
   "cell_type": "code",
   "execution_count": null,
   "metadata": {},
   "outputs": [],
   "source": []
  },
  {
   "cell_type": "code",
   "execution_count": 71,
   "metadata": {},
   "outputs": [],
   "source": [
    "dd3 = dd2[dd2['Total Score'] !=0] #if you do not want to drop stocks that have a total score = 0 than put a # in the start of this row"
   ]
  },
  {
   "cell_type": "code",
   "execution_count": 72,
   "metadata": {},
   "outputs": [
    {
     "data": {
      "text/plain": [
       "(958, 48)"
      ]
     },
     "execution_count": 72,
     "metadata": {},
     "output_type": "execute_result"
    }
   ],
   "source": [
    "dd3.shape"
   ]
  },
  {
   "cell_type": "code",
   "execution_count": 73,
   "metadata": {},
   "outputs": [],
   "source": [
    "dd4 = dd3[dd3['Mkt Cap mn USD'] >= 100]"
   ]
  },
  {
   "cell_type": "code",
   "execution_count": 74,
   "metadata": {},
   "outputs": [],
   "source": [
    "dd4.reset_index(drop=True,inplace=True)"
   ]
  },
  {
   "cell_type": "code",
   "execution_count": 75,
   "metadata": {},
   "outputs": [
    {
     "data": {
      "text/plain": [
       "(958, 48)"
      ]
     },
     "execution_count": 75,
     "metadata": {},
     "output_type": "execute_result"
    }
   ],
   "source": [
    "dd4.shape"
   ]
  },
  {
   "cell_type": "code",
   "execution_count": 76,
   "metadata": {},
   "outputs": [
    {
     "data": {
      "text/html": [
       "<div>\n",
       "<style scoped>\n",
       "    .dataframe tbody tr th:only-of-type {\n",
       "        vertical-align: middle;\n",
       "    }\n",
       "\n",
       "    .dataframe tbody tr th {\n",
       "        vertical-align: top;\n",
       "    }\n",
       "\n",
       "    .dataframe thead th {\n",
       "        text-align: right;\n",
       "    }\n",
       "</style>\n",
       "<table border=\"1\" class=\"dataframe\">\n",
       "  <thead>\n",
       "    <tr style=\"text-align: right;\">\n",
       "      <th></th>\n",
       "      <th>Tick | Curr</th>\n",
       "      <th>IB Ticker</th>\n",
       "      <th>Company Name</th>\n",
       "      <th>Industry</th>\n",
       "      <th>GICS Sector</th>\n",
       "      <th>Business Description</th>\n",
       "      <th>Mkt Cap mn USD</th>\n",
       "      <th>Stock Price</th>\n",
       "      <th>Market</th>\n",
       "      <th>Currency</th>\n",
       "      <th>...</th>\n",
       "      <th>Exchange Ticker</th>\n",
       "      <th>Country of HQ</th>\n",
       "      <th>Market adj</th>\n",
       "      <th>Sector Name</th>\n",
       "      <th>Subsector Name</th>\n",
       "      <th>Sub Industry</th>\n",
       "      <th>Dividend Ex Date</th>\n",
       "      <th>Avg_Volume_Daily_USD</th>\n",
       "      <th>Ideal Portfolio</th>\n",
       "      <th>Cap_Weighting</th>\n",
       "    </tr>\n",
       "  </thead>\n",
       "  <tbody>\n",
       "    <tr>\n",
       "      <th>0</th>\n",
       "      <td>HCLTECH | INR</td>\n",
       "      <td>HCLTECH</td>\n",
       "      <td>HCL Technologies</td>\n",
       "      <td>IT Services</td>\n",
       "      <td>Information Technology</td>\n",
       "      <td>HCL Technologies Limited is a technology compa...</td>\n",
       "      <td>55011.151374</td>\n",
       "      <td>1725.45</td>\n",
       "      <td>India</td>\n",
       "      <td>INR</td>\n",
       "      <td>...</td>\n",
       "      <td>HCLTECH</td>\n",
       "      <td>India</td>\n",
       "      <td>India</td>\n",
       "      <td>Professional, Scientific, and Technical Services</td>\n",
       "      <td>Professional, Scientific, and Technical Services</td>\n",
       "      <td>Computer Systems Design and Related Services</td>\n",
       "      <td>NaN</td>\n",
       "      <td>83.743463</td>\n",
       "      <td>0.033333</td>\n",
       "      <td>Large Cap</td>\n",
       "    </tr>\n",
       "    <tr>\n",
       "      <th>1</th>\n",
       "      <td>KCP | INR</td>\n",
       "      <td>KCP</td>\n",
       "      <td>KCP</td>\n",
       "      <td>Construction Materials</td>\n",
       "      <td>Materials</td>\n",
       "      <td>The KCP Limited is an India-based company that...</td>\n",
       "      <td>317.583207</td>\n",
       "      <td>209.41</td>\n",
       "      <td>India</td>\n",
       "      <td>INR</td>\n",
       "      <td>...</td>\n",
       "      <td>KCP</td>\n",
       "      <td>India</td>\n",
       "      <td>India</td>\n",
       "      <td>Manufacturing</td>\n",
       "      <td>Nonmetallic Mineral Product Manufacturing</td>\n",
       "      <td>Cement Manufacturing</td>\n",
       "      <td>NaN</td>\n",
       "      <td>0.688903</td>\n",
       "      <td>NaN</td>\n",
       "      <td>Micro Cap</td>\n",
       "    </tr>\n",
       "    <tr>\n",
       "      <th>2</th>\n",
       "      <td>GLENMARK | INR</td>\n",
       "      <td>GLENMARK</td>\n",
       "      <td>Glenmark Pharmaceuticals</td>\n",
       "      <td>Pharmaceuticals</td>\n",
       "      <td>Health Care</td>\n",
       "      <td>Glenmark Pharmaceuticals Limited is an India-b...</td>\n",
       "      <td>4823.919807</td>\n",
       "      <td>1453.20</td>\n",
       "      <td>India</td>\n",
       "      <td>INR</td>\n",
       "      <td>...</td>\n",
       "      <td>GLENMARK</td>\n",
       "      <td>India</td>\n",
       "      <td>India</td>\n",
       "      <td>Manufacturing</td>\n",
       "      <td>Chemical Manufacturing</td>\n",
       "      <td>Pharmaceutical and Medicine Manufacturing</td>\n",
       "      <td>NaN</td>\n",
       "      <td>6.229570</td>\n",
       "      <td>0.033333</td>\n",
       "      <td>Mid Cap</td>\n",
       "    </tr>\n",
       "    <tr>\n",
       "      <th>3</th>\n",
       "      <td>NATCOPHARM | INR</td>\n",
       "      <td>NATCOPHARM</td>\n",
       "      <td>Natco Pharma</td>\n",
       "      <td>Pharmaceuticals</td>\n",
       "      <td>Health Care</td>\n",
       "      <td>Natco Pharma Limited is an India-based vertica...</td>\n",
       "      <td>2473.250079</td>\n",
       "      <td>1173.85</td>\n",
       "      <td>India</td>\n",
       "      <td>INR</td>\n",
       "      <td>...</td>\n",
       "      <td>NATCOPHARM</td>\n",
       "      <td>India</td>\n",
       "      <td>India</td>\n",
       "      <td>Manufacturing</td>\n",
       "      <td>Chemical Manufacturing</td>\n",
       "      <td>Pharmaceutical and Medicine Manufacturing</td>\n",
       "      <td>NaN</td>\n",
       "      <td>6.321135</td>\n",
       "      <td>0.033333</td>\n",
       "      <td>Small Cap</td>\n",
       "    </tr>\n",
       "    <tr>\n",
       "      <th>4</th>\n",
       "      <td>STAR | INR</td>\n",
       "      <td>STAR</td>\n",
       "      <td>Strides Pharma Science</td>\n",
       "      <td>Pharmaceuticals</td>\n",
       "      <td>Health Care</td>\n",
       "      <td>Strides Pharma Science Limited is an India-bas...</td>\n",
       "      <td>743.187888</td>\n",
       "      <td>685.50</td>\n",
       "      <td>India</td>\n",
       "      <td>INR</td>\n",
       "      <td>...</td>\n",
       "      <td>STAR</td>\n",
       "      <td>India</td>\n",
       "      <td>India</td>\n",
       "      <td>Manufacturing</td>\n",
       "      <td>Chemical Manufacturing</td>\n",
       "      <td>Pharmaceutical and Medicine Manufacturing</td>\n",
       "      <td>NaN</td>\n",
       "      <td>7.741922</td>\n",
       "      <td>NaN</td>\n",
       "      <td>Micro Cap</td>\n",
       "    </tr>\n",
       "  </tbody>\n",
       "</table>\n",
       "<p>5 rows × 48 columns</p>\n",
       "</div>"
      ],
      "text/plain": [
       "        Tick | Curr   IB Ticker              Company Name  \\\n",
       "0     HCLTECH | INR     HCLTECH          HCL Technologies   \n",
       "1         KCP | INR         KCP                       KCP   \n",
       "2    GLENMARK | INR    GLENMARK  Glenmark Pharmaceuticals   \n",
       "3  NATCOPHARM | INR  NATCOPHARM              Natco Pharma   \n",
       "4        STAR | INR        STAR    Strides Pharma Science   \n",
       "\n",
       "                 Industry             GICS Sector  \\\n",
       "0             IT Services  Information Technology   \n",
       "1  Construction Materials               Materials   \n",
       "2         Pharmaceuticals             Health Care   \n",
       "3         Pharmaceuticals             Health Care   \n",
       "4         Pharmaceuticals             Health Care   \n",
       "\n",
       "                                Business Description  Mkt Cap mn USD  \\\n",
       "0  HCL Technologies Limited is a technology compa...    55011.151374   \n",
       "1  The KCP Limited is an India-based company that...      317.583207   \n",
       "2  Glenmark Pharmaceuticals Limited is an India-b...     4823.919807   \n",
       "3  Natco Pharma Limited is an India-based vertica...     2473.250079   \n",
       "4  Strides Pharma Science Limited is an India-bas...      743.187888   \n",
       "\n",
       "   Stock Price Market Currency  ...  Exchange Ticker  Country of HQ  \\\n",
       "0      1725.45  India      INR  ...          HCLTECH          India   \n",
       "1       209.41  India      INR  ...              KCP          India   \n",
       "2      1453.20  India      INR  ...         GLENMARK          India   \n",
       "3      1173.85  India      INR  ...       NATCOPHARM          India   \n",
       "4       685.50  India      INR  ...             STAR          India   \n",
       "\n",
       "   Market adj                                       Sector Name  \\\n",
       "0       India  Professional, Scientific, and Technical Services   \n",
       "1       India                                     Manufacturing   \n",
       "2       India                                     Manufacturing   \n",
       "3       India                                     Manufacturing   \n",
       "4       India                                     Manufacturing   \n",
       "\n",
       "                                     Subsector Name  \\\n",
       "0  Professional, Scientific, and Technical Services   \n",
       "1         Nonmetallic Mineral Product Manufacturing   \n",
       "2                            Chemical Manufacturing   \n",
       "3                            Chemical Manufacturing   \n",
       "4                            Chemical Manufacturing   \n",
       "\n",
       "                                   Sub Industry  Dividend Ex Date  \\\n",
       "0  Computer Systems Design and Related Services               NaN   \n",
       "1                          Cement Manufacturing               NaN   \n",
       "2     Pharmaceutical and Medicine Manufacturing               NaN   \n",
       "3     Pharmaceutical and Medicine Manufacturing               NaN   \n",
       "4     Pharmaceutical and Medicine Manufacturing               NaN   \n",
       "\n",
       "   Avg_Volume_Daily_USD  Ideal Portfolio  Cap_Weighting  \n",
       "0             83.743463         0.033333      Large Cap  \n",
       "1              0.688903              NaN      Micro Cap  \n",
       "2              6.229570         0.033333        Mid Cap  \n",
       "3              6.321135         0.033333      Small Cap  \n",
       "4              7.741922              NaN      Micro Cap  \n",
       "\n",
       "[5 rows x 48 columns]"
      ]
     },
     "execution_count": 76,
     "metadata": {},
     "output_type": "execute_result"
    }
   ],
   "source": [
    "dd4.head()"
   ]
  },
  {
   "cell_type": "code",
   "execution_count": 77,
   "metadata": {},
   "outputs": [],
   "source": [
    "dd5 =dd3[dd3['Total Score'] >0]"
   ]
  },
  {
   "cell_type": "code",
   "execution_count": 78,
   "metadata": {},
   "outputs": [
    {
     "data": {
      "text/plain": [
       "(958, 48)"
      ]
     },
     "execution_count": 78,
     "metadata": {},
     "output_type": "execute_result"
    }
   ],
   "source": [
    "dd5.shape"
   ]
  },
  {
   "cell_type": "code",
   "execution_count": null,
   "metadata": {},
   "outputs": [],
   "source": []
  },
  {
   "cell_type": "code",
   "execution_count": 79,
   "metadata": {},
   "outputs": [],
   "source": [
    "#dd2 = dd2[dd2['Cap_Weighting'] != 'Micro Cap']"
   ]
  },
  {
   "cell_type": "code",
   "execution_count": 80,
   "metadata": {},
   "outputs": [],
   "source": [
    "#dd2.shape"
   ]
  },
  {
   "cell_type": "code",
   "execution_count": 81,
   "metadata": {},
   "outputs": [],
   "source": [
    "dd2.reset_index(drop=True,inplace=True)"
   ]
  },
  {
   "cell_type": "code",
   "execution_count": 82,
   "metadata": {},
   "outputs": [],
   "source": [
    "#\n",
    "\n",
    "#dd2.to_csv('India_Initial_Universe_2024-06-02.csv')"
   ]
  },
  {
   "cell_type": "code",
   "execution_count": null,
   "metadata": {},
   "outputs": [],
   "source": []
  },
  {
   "cell_type": "code",
   "execution_count": 83,
   "metadata": {},
   "outputs": [],
   "source": [
    "##\n",
    "\n",
    "cgsi=pd.read_csv(r'C:\\Users\\Vedant Wanchoo\\Desktop\\CGS 2020\\India Fund\\India Proposal\\Portfolio Assembly India\\CG_India_Multi_Factor_7_2_2025.csv',skiprows=9)"
   ]
  },
  {
   "cell_type": "code",
   "execution_count": 84,
   "metadata": {},
   "outputs": [
    {
     "data": {
      "text/plain": [
       "(30, 7)"
      ]
     },
     "execution_count": 84,
     "metadata": {},
     "output_type": "execute_result"
    }
   ],
   "source": [
    "cgsi.shape"
   ]
  },
  {
   "cell_type": "code",
   "execution_count": 85,
   "metadata": {},
   "outputs": [
    {
     "data": {
      "text/html": [
       "<div>\n",
       "<style scoped>\n",
       "    .dataframe tbody tr th:only-of-type {\n",
       "        vertical-align: middle;\n",
       "    }\n",
       "\n",
       "    .dataframe tbody tr th {\n",
       "        vertical-align: top;\n",
       "    }\n",
       "\n",
       "    .dataframe thead th {\n",
       "        text-align: right;\n",
       "    }\n",
       "</style>\n",
       "<table border=\"1\" class=\"dataframe\">\n",
       "  <thead>\n",
       "    <tr style=\"text-align: right;\">\n",
       "      <th></th>\n",
       "      <th>Name</th>\n",
       "      <th>Ticker</th>\n",
       "      <th>Current Price (Rs.)</th>\n",
       "      <th>Avg Buy Price (Rs.)</th>\n",
       "      <th>Returns (%)</th>\n",
       "      <th>Weightage</th>\n",
       "      <th>Shares</th>\n",
       "    </tr>\n",
       "  </thead>\n",
       "  <tbody>\n",
       "    <tr>\n",
       "      <th>0</th>\n",
       "      <td>Lupin Ltd</td>\n",
       "      <td>LUPIN</td>\n",
       "      <td>2204.60</td>\n",
       "      <td>1809.28</td>\n",
       "      <td>21.84</td>\n",
       "      <td>5.54</td>\n",
       "      <td>4</td>\n",
       "    </tr>\n",
       "    <tr>\n",
       "      <th>1</th>\n",
       "      <td>Natco Pharma Ltd</td>\n",
       "      <td>NATCOPHARM</td>\n",
       "      <td>1321.60</td>\n",
       "      <td>981.90</td>\n",
       "      <td>34.59</td>\n",
       "      <td>3.32</td>\n",
       "      <td>4</td>\n",
       "    </tr>\n",
       "    <tr>\n",
       "      <th>2</th>\n",
       "      <td>Torrent Pharmaceuticals Ltd</td>\n",
       "      <td>TORNTPHARM</td>\n",
       "      <td>3261.45</td>\n",
       "      <td>3181.95</td>\n",
       "      <td>2.49</td>\n",
       "      <td>4.10</td>\n",
       "      <td>2</td>\n",
       "    </tr>\n",
       "    <tr>\n",
       "      <th>3</th>\n",
       "      <td>Aditya Birla Sun Life AMC Ltd</td>\n",
       "      <td>ABSLAMC</td>\n",
       "      <td>702.50</td>\n",
       "      <td>744.75</td>\n",
       "      <td>-5.67</td>\n",
       "      <td>3.53</td>\n",
       "      <td>8</td>\n",
       "    </tr>\n",
       "    <tr>\n",
       "      <th>4</th>\n",
       "      <td>HDFC Asset Management Company Ltd</td>\n",
       "      <td>HDFCAMC</td>\n",
       "      <td>3933.35</td>\n",
       "      <td>4322.50</td>\n",
       "      <td>-9.00</td>\n",
       "      <td>2.47</td>\n",
       "      <td>1</td>\n",
       "    </tr>\n",
       "  </tbody>\n",
       "</table>\n",
       "</div>"
      ],
      "text/plain": [
       "                                Name      Ticker  Current Price (Rs.)  \\\n",
       "0                          Lupin Ltd       LUPIN              2204.60   \n",
       "1                   Natco Pharma Ltd  NATCOPHARM              1321.60   \n",
       "2        Torrent Pharmaceuticals Ltd  TORNTPHARM              3261.45   \n",
       "3      Aditya Birla Sun Life AMC Ltd     ABSLAMC               702.50   \n",
       "4  HDFC Asset Management Company Ltd     HDFCAMC              3933.35   \n",
       "\n",
       "   Avg Buy Price (Rs.)  Returns (%)  Weightage  Shares  \n",
       "0              1809.28        21.84       5.54       4  \n",
       "1               981.90        34.59       3.32       4  \n",
       "2              3181.95         2.49       4.10       2  \n",
       "3               744.75        -5.67       3.53       8  \n",
       "4              4322.50        -9.00       2.47       1  "
      ]
     },
     "execution_count": 85,
     "metadata": {},
     "output_type": "execute_result"
    }
   ],
   "source": [
    "cgsi.head()"
   ]
  },
  {
   "cell_type": "code",
   "execution_count": 86,
   "metadata": {},
   "outputs": [
    {
     "data": {
      "text/html": [
       "<div>\n",
       "<style scoped>\n",
       "    .dataframe tbody tr th:only-of-type {\n",
       "        vertical-align: middle;\n",
       "    }\n",
       "\n",
       "    .dataframe tbody tr th {\n",
       "        vertical-align: top;\n",
       "    }\n",
       "\n",
       "    .dataframe thead th {\n",
       "        text-align: right;\n",
       "    }\n",
       "</style>\n",
       "<table border=\"1\" class=\"dataframe\">\n",
       "  <thead>\n",
       "    <tr style=\"text-align: right;\">\n",
       "      <th></th>\n",
       "      <th>Name</th>\n",
       "      <th>Ticker</th>\n",
       "      <th>Current Price (Rs.)</th>\n",
       "      <th>Avg Buy Price (Rs.)</th>\n",
       "      <th>Returns (%)</th>\n",
       "      <th>Weightage</th>\n",
       "      <th>Shares</th>\n",
       "    </tr>\n",
       "  </thead>\n",
       "  <tbody>\n",
       "    <tr>\n",
       "      <th>25</th>\n",
       "      <td>Alkem Laboratories Ltd</td>\n",
       "      <td>ALKEM</td>\n",
       "      <td>5284.35</td>\n",
       "      <td>5651.80</td>\n",
       "      <td>-6.50</td>\n",
       "      <td>3.32</td>\n",
       "      <td>1</td>\n",
       "    </tr>\n",
       "    <tr>\n",
       "      <th>26</th>\n",
       "      <td>Persistent Systems Ltd</td>\n",
       "      <td>PERSISTENT</td>\n",
       "      <td>6225.55</td>\n",
       "      <td>6389.00</td>\n",
       "      <td>-2.55</td>\n",
       "      <td>3.91</td>\n",
       "      <td>1</td>\n",
       "    </tr>\n",
       "    <tr>\n",
       "      <th>27</th>\n",
       "      <td>eClerx Services Limited</td>\n",
       "      <td>ECLERX</td>\n",
       "      <td>3203.00</td>\n",
       "      <td>3363.05</td>\n",
       "      <td>-4.75</td>\n",
       "      <td>4.02</td>\n",
       "      <td>2</td>\n",
       "    </tr>\n",
       "    <tr>\n",
       "      <th>28</th>\n",
       "      <td>Computer Age Management Services Ltd</td>\n",
       "      <td>CAMS</td>\n",
       "      <td>3669.85</td>\n",
       "      <td>4881.30</td>\n",
       "      <td>-24.81</td>\n",
       "      <td>2.30</td>\n",
       "      <td>1</td>\n",
       "    </tr>\n",
       "    <tr>\n",
       "      <th>29</th>\n",
       "      <td>Crompton Greaves Consumer Electricals Ltd</td>\n",
       "      <td>CROMPTON</td>\n",
       "      <td>365.00</td>\n",
       "      <td>365.40</td>\n",
       "      <td>-0.10</td>\n",
       "      <td>3.21</td>\n",
       "      <td>14</td>\n",
       "    </tr>\n",
       "  </tbody>\n",
       "</table>\n",
       "</div>"
      ],
      "text/plain": [
       "                                         Name      Ticker  \\\n",
       "25                     Alkem Laboratories Ltd       ALKEM   \n",
       "26                     Persistent Systems Ltd  PERSISTENT   \n",
       "27                    eClerx Services Limited      ECLERX   \n",
       "28       Computer Age Management Services Ltd        CAMS   \n",
       "29  Crompton Greaves Consumer Electricals Ltd    CROMPTON   \n",
       "\n",
       "    Current Price (Rs.)  Avg Buy Price (Rs.)  Returns (%)  Weightage  Shares  \n",
       "25              5284.35              5651.80        -6.50       3.32       1  \n",
       "26              6225.55              6389.00        -2.55       3.91       1  \n",
       "27              3203.00              3363.05        -4.75       4.02       2  \n",
       "28              3669.85              4881.30       -24.81       2.30       1  \n",
       "29               365.00               365.40        -0.10       3.21      14  "
      ]
     },
     "execution_count": 86,
     "metadata": {},
     "output_type": "execute_result"
    }
   ],
   "source": [
    "cgsi.tail()"
   ]
  },
  {
   "cell_type": "code",
   "execution_count": 87,
   "metadata": {},
   "outputs": [],
   "source": [
    "cgsi=cgsi[['Ticker','Weightage']]"
   ]
  },
  {
   "cell_type": "code",
   "execution_count": 88,
   "metadata": {},
   "outputs": [
    {
     "data": {
      "text/plain": [
       "(30, 2)"
      ]
     },
     "execution_count": 88,
     "metadata": {},
     "output_type": "execute_result"
    }
   ],
   "source": [
    "cgsi.shape"
   ]
  },
  {
   "cell_type": "code",
   "execution_count": 89,
   "metadata": {},
   "outputs": [],
   "source": [
    "cgsi['Weightage'] = cgsi['Weightage']/100"
   ]
  },
  {
   "cell_type": "code",
   "execution_count": 90,
   "metadata": {},
   "outputs": [
    {
     "data": {
      "text/plain": [
       "(30, 2)"
      ]
     },
     "execution_count": 90,
     "metadata": {},
     "output_type": "execute_result"
    }
   ],
   "source": [
    "cgsi.shape"
   ]
  },
  {
   "cell_type": "code",
   "execution_count": 91,
   "metadata": {},
   "outputs": [],
   "source": [
    "cgsi.columns=['IB Ticker','Weight']"
   ]
  },
  {
   "cell_type": "code",
   "execution_count": 92,
   "metadata": {},
   "outputs": [],
   "source": [
    "cgsi.reset_index(drop=True,inplace=True)"
   ]
  },
  {
   "cell_type": "code",
   "execution_count": 93,
   "metadata": {},
   "outputs": [
    {
     "data": {
      "text/plain": [
       "(30, 2)"
      ]
     },
     "execution_count": 93,
     "metadata": {},
     "output_type": "execute_result"
    }
   ],
   "source": [
    "cgsi.shape"
   ]
  },
  {
   "cell_type": "code",
   "execution_count": 94,
   "metadata": {
    "scrolled": true
   },
   "outputs": [
    {
     "data": {
      "text/html": [
       "<div>\n",
       "<style scoped>\n",
       "    .dataframe tbody tr th:only-of-type {\n",
       "        vertical-align: middle;\n",
       "    }\n",
       "\n",
       "    .dataframe tbody tr th {\n",
       "        vertical-align: top;\n",
       "    }\n",
       "\n",
       "    .dataframe thead th {\n",
       "        text-align: right;\n",
       "    }\n",
       "</style>\n",
       "<table border=\"1\" class=\"dataframe\">\n",
       "  <thead>\n",
       "    <tr style=\"text-align: right;\">\n",
       "      <th></th>\n",
       "      <th>IB Ticker</th>\n",
       "      <th>Weight</th>\n",
       "    </tr>\n",
       "  </thead>\n",
       "  <tbody>\n",
       "    <tr>\n",
       "      <th>0</th>\n",
       "      <td>LUPIN</td>\n",
       "      <td>0.0554</td>\n",
       "    </tr>\n",
       "    <tr>\n",
       "      <th>1</th>\n",
       "      <td>NATCOPHARM</td>\n",
       "      <td>0.0332</td>\n",
       "    </tr>\n",
       "    <tr>\n",
       "      <th>2</th>\n",
       "      <td>TORNTPHARM</td>\n",
       "      <td>0.0410</td>\n",
       "    </tr>\n",
       "    <tr>\n",
       "      <th>3</th>\n",
       "      <td>ABSLAMC</td>\n",
       "      <td>0.0353</td>\n",
       "    </tr>\n",
       "    <tr>\n",
       "      <th>4</th>\n",
       "      <td>HDFCAMC</td>\n",
       "      <td>0.0247</td>\n",
       "    </tr>\n",
       "  </tbody>\n",
       "</table>\n",
       "</div>"
      ],
      "text/plain": [
       "    IB Ticker  Weight\n",
       "0       LUPIN  0.0554\n",
       "1  NATCOPHARM  0.0332\n",
       "2  TORNTPHARM  0.0410\n",
       "3     ABSLAMC  0.0353\n",
       "4     HDFCAMC  0.0247"
      ]
     },
     "execution_count": 94,
     "metadata": {},
     "output_type": "execute_result"
    }
   ],
   "source": [
    "cgsi.head()"
   ]
  },
  {
   "cell_type": "code",
   "execution_count": 95,
   "metadata": {},
   "outputs": [
    {
     "data": {
      "text/plain": [
       "(958, 48)"
      ]
     },
     "execution_count": 95,
     "metadata": {},
     "output_type": "execute_result"
    }
   ],
   "source": [
    "dd2.shape"
   ]
  },
  {
   "cell_type": "code",
   "execution_count": 96,
   "metadata": {},
   "outputs": [
    {
     "data": {
      "text/html": [
       "<div>\n",
       "<style scoped>\n",
       "    .dataframe tbody tr th:only-of-type {\n",
       "        vertical-align: middle;\n",
       "    }\n",
       "\n",
       "    .dataframe tbody tr th {\n",
       "        vertical-align: top;\n",
       "    }\n",
       "\n",
       "    .dataframe thead th {\n",
       "        text-align: right;\n",
       "    }\n",
       "</style>\n",
       "<table border=\"1\" class=\"dataframe\">\n",
       "  <thead>\n",
       "    <tr style=\"text-align: right;\">\n",
       "      <th></th>\n",
       "      <th>Tick | Curr</th>\n",
       "      <th>IB Ticker</th>\n",
       "      <th>Company Name</th>\n",
       "      <th>Industry</th>\n",
       "      <th>GICS Sector</th>\n",
       "      <th>Business Description</th>\n",
       "      <th>Mkt Cap mn USD</th>\n",
       "      <th>Stock Price</th>\n",
       "      <th>Market</th>\n",
       "      <th>Currency</th>\n",
       "      <th>...</th>\n",
       "      <th>Exchange Ticker</th>\n",
       "      <th>Country of HQ</th>\n",
       "      <th>Market adj</th>\n",
       "      <th>Sector Name</th>\n",
       "      <th>Subsector Name</th>\n",
       "      <th>Sub Industry</th>\n",
       "      <th>Dividend Ex Date</th>\n",
       "      <th>Avg_Volume_Daily_USD</th>\n",
       "      <th>Ideal Portfolio</th>\n",
       "      <th>Cap_Weighting</th>\n",
       "    </tr>\n",
       "  </thead>\n",
       "  <tbody>\n",
       "    <tr>\n",
       "      <th>0</th>\n",
       "      <td>HCLTECH | INR</td>\n",
       "      <td>HCLTECH</td>\n",
       "      <td>HCL Technologies</td>\n",
       "      <td>IT Services</td>\n",
       "      <td>Information Technology</td>\n",
       "      <td>HCL Technologies Limited is a technology compa...</td>\n",
       "      <td>55011.151374</td>\n",
       "      <td>1725.45</td>\n",
       "      <td>India</td>\n",
       "      <td>INR</td>\n",
       "      <td>...</td>\n",
       "      <td>HCLTECH</td>\n",
       "      <td>India</td>\n",
       "      <td>India</td>\n",
       "      <td>Professional, Scientific, and Technical Services</td>\n",
       "      <td>Professional, Scientific, and Technical Services</td>\n",
       "      <td>Computer Systems Design and Related Services</td>\n",
       "      <td>NaN</td>\n",
       "      <td>83.743463</td>\n",
       "      <td>0.033333</td>\n",
       "      <td>Large Cap</td>\n",
       "    </tr>\n",
       "    <tr>\n",
       "      <th>1</th>\n",
       "      <td>KCP | INR</td>\n",
       "      <td>KCP</td>\n",
       "      <td>KCP</td>\n",
       "      <td>Construction Materials</td>\n",
       "      <td>Materials</td>\n",
       "      <td>The KCP Limited is an India-based company that...</td>\n",
       "      <td>317.583207</td>\n",
       "      <td>209.41</td>\n",
       "      <td>India</td>\n",
       "      <td>INR</td>\n",
       "      <td>...</td>\n",
       "      <td>KCP</td>\n",
       "      <td>India</td>\n",
       "      <td>India</td>\n",
       "      <td>Manufacturing</td>\n",
       "      <td>Nonmetallic Mineral Product Manufacturing</td>\n",
       "      <td>Cement Manufacturing</td>\n",
       "      <td>NaN</td>\n",
       "      <td>0.688903</td>\n",
       "      <td>NaN</td>\n",
       "      <td>Micro Cap</td>\n",
       "    </tr>\n",
       "    <tr>\n",
       "      <th>2</th>\n",
       "      <td>GLENMARK | INR</td>\n",
       "      <td>GLENMARK</td>\n",
       "      <td>Glenmark Pharmaceuticals</td>\n",
       "      <td>Pharmaceuticals</td>\n",
       "      <td>Health Care</td>\n",
       "      <td>Glenmark Pharmaceuticals Limited is an India-b...</td>\n",
       "      <td>4823.919807</td>\n",
       "      <td>1453.20</td>\n",
       "      <td>India</td>\n",
       "      <td>INR</td>\n",
       "      <td>...</td>\n",
       "      <td>GLENMARK</td>\n",
       "      <td>India</td>\n",
       "      <td>India</td>\n",
       "      <td>Manufacturing</td>\n",
       "      <td>Chemical Manufacturing</td>\n",
       "      <td>Pharmaceutical and Medicine Manufacturing</td>\n",
       "      <td>NaN</td>\n",
       "      <td>6.229570</td>\n",
       "      <td>0.033333</td>\n",
       "      <td>Mid Cap</td>\n",
       "    </tr>\n",
       "    <tr>\n",
       "      <th>3</th>\n",
       "      <td>NATCOPHARM | INR</td>\n",
       "      <td>NATCOPHARM</td>\n",
       "      <td>Natco Pharma</td>\n",
       "      <td>Pharmaceuticals</td>\n",
       "      <td>Health Care</td>\n",
       "      <td>Natco Pharma Limited is an India-based vertica...</td>\n",
       "      <td>2473.250079</td>\n",
       "      <td>1173.85</td>\n",
       "      <td>India</td>\n",
       "      <td>INR</td>\n",
       "      <td>...</td>\n",
       "      <td>NATCOPHARM</td>\n",
       "      <td>India</td>\n",
       "      <td>India</td>\n",
       "      <td>Manufacturing</td>\n",
       "      <td>Chemical Manufacturing</td>\n",
       "      <td>Pharmaceutical and Medicine Manufacturing</td>\n",
       "      <td>NaN</td>\n",
       "      <td>6.321135</td>\n",
       "      <td>0.033333</td>\n",
       "      <td>Small Cap</td>\n",
       "    </tr>\n",
       "    <tr>\n",
       "      <th>4</th>\n",
       "      <td>STAR | INR</td>\n",
       "      <td>STAR</td>\n",
       "      <td>Strides Pharma Science</td>\n",
       "      <td>Pharmaceuticals</td>\n",
       "      <td>Health Care</td>\n",
       "      <td>Strides Pharma Science Limited is an India-bas...</td>\n",
       "      <td>743.187888</td>\n",
       "      <td>685.50</td>\n",
       "      <td>India</td>\n",
       "      <td>INR</td>\n",
       "      <td>...</td>\n",
       "      <td>STAR</td>\n",
       "      <td>India</td>\n",
       "      <td>India</td>\n",
       "      <td>Manufacturing</td>\n",
       "      <td>Chemical Manufacturing</td>\n",
       "      <td>Pharmaceutical and Medicine Manufacturing</td>\n",
       "      <td>NaN</td>\n",
       "      <td>7.741922</td>\n",
       "      <td>NaN</td>\n",
       "      <td>Micro Cap</td>\n",
       "    </tr>\n",
       "  </tbody>\n",
       "</table>\n",
       "<p>5 rows × 48 columns</p>\n",
       "</div>"
      ],
      "text/plain": [
       "        Tick | Curr   IB Ticker              Company Name  \\\n",
       "0     HCLTECH | INR     HCLTECH          HCL Technologies   \n",
       "1         KCP | INR         KCP                       KCP   \n",
       "2    GLENMARK | INR    GLENMARK  Glenmark Pharmaceuticals   \n",
       "3  NATCOPHARM | INR  NATCOPHARM              Natco Pharma   \n",
       "4        STAR | INR        STAR    Strides Pharma Science   \n",
       "\n",
       "                 Industry             GICS Sector  \\\n",
       "0             IT Services  Information Technology   \n",
       "1  Construction Materials               Materials   \n",
       "2         Pharmaceuticals             Health Care   \n",
       "3         Pharmaceuticals             Health Care   \n",
       "4         Pharmaceuticals             Health Care   \n",
       "\n",
       "                                Business Description  Mkt Cap mn USD  \\\n",
       "0  HCL Technologies Limited is a technology compa...    55011.151374   \n",
       "1  The KCP Limited is an India-based company that...      317.583207   \n",
       "2  Glenmark Pharmaceuticals Limited is an India-b...     4823.919807   \n",
       "3  Natco Pharma Limited is an India-based vertica...     2473.250079   \n",
       "4  Strides Pharma Science Limited is an India-bas...      743.187888   \n",
       "\n",
       "   Stock Price Market Currency  ...  Exchange Ticker  Country of HQ  \\\n",
       "0      1725.45  India      INR  ...          HCLTECH          India   \n",
       "1       209.41  India      INR  ...              KCP          India   \n",
       "2      1453.20  India      INR  ...         GLENMARK          India   \n",
       "3      1173.85  India      INR  ...       NATCOPHARM          India   \n",
       "4       685.50  India      INR  ...             STAR          India   \n",
       "\n",
       "   Market adj                                       Sector Name  \\\n",
       "0       India  Professional, Scientific, and Technical Services   \n",
       "1       India                                     Manufacturing   \n",
       "2       India                                     Manufacturing   \n",
       "3       India                                     Manufacturing   \n",
       "4       India                                     Manufacturing   \n",
       "\n",
       "                                     Subsector Name  \\\n",
       "0  Professional, Scientific, and Technical Services   \n",
       "1         Nonmetallic Mineral Product Manufacturing   \n",
       "2                            Chemical Manufacturing   \n",
       "3                            Chemical Manufacturing   \n",
       "4                            Chemical Manufacturing   \n",
       "\n",
       "                                   Sub Industry  Dividend Ex Date  \\\n",
       "0  Computer Systems Design and Related Services               NaN   \n",
       "1                          Cement Manufacturing               NaN   \n",
       "2     Pharmaceutical and Medicine Manufacturing               NaN   \n",
       "3     Pharmaceutical and Medicine Manufacturing               NaN   \n",
       "4     Pharmaceutical and Medicine Manufacturing               NaN   \n",
       "\n",
       "   Avg_Volume_Daily_USD  Ideal Portfolio  Cap_Weighting  \n",
       "0             83.743463         0.033333      Large Cap  \n",
       "1              0.688903              NaN      Micro Cap  \n",
       "2              6.229570         0.033333        Mid Cap  \n",
       "3              6.321135         0.033333      Small Cap  \n",
       "4              7.741922              NaN      Micro Cap  \n",
       "\n",
       "[5 rows x 48 columns]"
      ]
     },
     "execution_count": 96,
     "metadata": {},
     "output_type": "execute_result"
    }
   ],
   "source": [
    "dd2.head()"
   ]
  },
  {
   "cell_type": "code",
   "execution_count": null,
   "metadata": {},
   "outputs": [],
   "source": []
  },
  {
   "cell_type": "code",
   "execution_count": 97,
   "metadata": {},
   "outputs": [
    {
     "data": {
      "text/plain": [
       "(958, 49)"
      ]
     },
     "execution_count": 97,
     "metadata": {},
     "output_type": "execute_result"
    }
   ],
   "source": [
    "comb = pd.merge(dd2,cgsi,'left','IB Ticker') # left, outer\n",
    "comb.shape"
   ]
  },
  {
   "cell_type": "code",
   "execution_count": 98,
   "metadata": {},
   "outputs": [
    {
     "data": {
      "text/html": [
       "<div>\n",
       "<style scoped>\n",
       "    .dataframe tbody tr th:only-of-type {\n",
       "        vertical-align: middle;\n",
       "    }\n",
       "\n",
       "    .dataframe tbody tr th {\n",
       "        vertical-align: top;\n",
       "    }\n",
       "\n",
       "    .dataframe thead th {\n",
       "        text-align: right;\n",
       "    }\n",
       "</style>\n",
       "<table border=\"1\" class=\"dataframe\">\n",
       "  <thead>\n",
       "    <tr style=\"text-align: right;\">\n",
       "      <th></th>\n",
       "      <th>Tick | Curr</th>\n",
       "      <th>IB Ticker</th>\n",
       "      <th>Company Name</th>\n",
       "      <th>Industry</th>\n",
       "      <th>GICS Sector</th>\n",
       "      <th>Business Description</th>\n",
       "      <th>Mkt Cap mn USD</th>\n",
       "      <th>Stock Price</th>\n",
       "      <th>Market</th>\n",
       "      <th>Currency</th>\n",
       "      <th>...</th>\n",
       "      <th>Country of HQ</th>\n",
       "      <th>Market adj</th>\n",
       "      <th>Sector Name</th>\n",
       "      <th>Subsector Name</th>\n",
       "      <th>Sub Industry</th>\n",
       "      <th>Dividend Ex Date</th>\n",
       "      <th>Avg_Volume_Daily_USD</th>\n",
       "      <th>Ideal Portfolio</th>\n",
       "      <th>Cap_Weighting</th>\n",
       "      <th>Weight</th>\n",
       "    </tr>\n",
       "  </thead>\n",
       "  <tbody>\n",
       "    <tr>\n",
       "      <th>0</th>\n",
       "      <td>HCLTECH | INR</td>\n",
       "      <td>HCLTECH</td>\n",
       "      <td>HCL Technologies</td>\n",
       "      <td>IT Services</td>\n",
       "      <td>Information Technology</td>\n",
       "      <td>HCL Technologies Limited is a technology compa...</td>\n",
       "      <td>55011.151374</td>\n",
       "      <td>1725.45</td>\n",
       "      <td>India</td>\n",
       "      <td>INR</td>\n",
       "      <td>...</td>\n",
       "      <td>India</td>\n",
       "      <td>India</td>\n",
       "      <td>Professional, Scientific, and Technical Services</td>\n",
       "      <td>Professional, Scientific, and Technical Services</td>\n",
       "      <td>Computer Systems Design and Related Services</td>\n",
       "      <td>NaN</td>\n",
       "      <td>83.743463</td>\n",
       "      <td>0.033333</td>\n",
       "      <td>Large Cap</td>\n",
       "      <td>0.0325</td>\n",
       "    </tr>\n",
       "    <tr>\n",
       "      <th>1</th>\n",
       "      <td>KCP | INR</td>\n",
       "      <td>KCP</td>\n",
       "      <td>KCP</td>\n",
       "      <td>Construction Materials</td>\n",
       "      <td>Materials</td>\n",
       "      <td>The KCP Limited is an India-based company that...</td>\n",
       "      <td>317.583207</td>\n",
       "      <td>209.41</td>\n",
       "      <td>India</td>\n",
       "      <td>INR</td>\n",
       "      <td>...</td>\n",
       "      <td>India</td>\n",
       "      <td>India</td>\n",
       "      <td>Manufacturing</td>\n",
       "      <td>Nonmetallic Mineral Product Manufacturing</td>\n",
       "      <td>Cement Manufacturing</td>\n",
       "      <td>NaN</td>\n",
       "      <td>0.688903</td>\n",
       "      <td>NaN</td>\n",
       "      <td>Micro Cap</td>\n",
       "      <td>NaN</td>\n",
       "    </tr>\n",
       "    <tr>\n",
       "      <th>2</th>\n",
       "      <td>GLENMARK | INR</td>\n",
       "      <td>GLENMARK</td>\n",
       "      <td>Glenmark Pharmaceuticals</td>\n",
       "      <td>Pharmaceuticals</td>\n",
       "      <td>Health Care</td>\n",
       "      <td>Glenmark Pharmaceuticals Limited is an India-b...</td>\n",
       "      <td>4823.919807</td>\n",
       "      <td>1453.20</td>\n",
       "      <td>India</td>\n",
       "      <td>INR</td>\n",
       "      <td>...</td>\n",
       "      <td>India</td>\n",
       "      <td>India</td>\n",
       "      <td>Manufacturing</td>\n",
       "      <td>Chemical Manufacturing</td>\n",
       "      <td>Pharmaceutical and Medicine Manufacturing</td>\n",
       "      <td>NaN</td>\n",
       "      <td>6.229570</td>\n",
       "      <td>0.033333</td>\n",
       "      <td>Mid Cap</td>\n",
       "      <td>0.0290</td>\n",
       "    </tr>\n",
       "    <tr>\n",
       "      <th>3</th>\n",
       "      <td>NATCOPHARM | INR</td>\n",
       "      <td>NATCOPHARM</td>\n",
       "      <td>Natco Pharma</td>\n",
       "      <td>Pharmaceuticals</td>\n",
       "      <td>Health Care</td>\n",
       "      <td>Natco Pharma Limited is an India-based vertica...</td>\n",
       "      <td>2473.250079</td>\n",
       "      <td>1173.85</td>\n",
       "      <td>India</td>\n",
       "      <td>INR</td>\n",
       "      <td>...</td>\n",
       "      <td>India</td>\n",
       "      <td>India</td>\n",
       "      <td>Manufacturing</td>\n",
       "      <td>Chemical Manufacturing</td>\n",
       "      <td>Pharmaceutical and Medicine Manufacturing</td>\n",
       "      <td>NaN</td>\n",
       "      <td>6.321135</td>\n",
       "      <td>0.033333</td>\n",
       "      <td>Small Cap</td>\n",
       "      <td>0.0332</td>\n",
       "    </tr>\n",
       "    <tr>\n",
       "      <th>4</th>\n",
       "      <td>STAR | INR</td>\n",
       "      <td>STAR</td>\n",
       "      <td>Strides Pharma Science</td>\n",
       "      <td>Pharmaceuticals</td>\n",
       "      <td>Health Care</td>\n",
       "      <td>Strides Pharma Science Limited is an India-bas...</td>\n",
       "      <td>743.187888</td>\n",
       "      <td>685.50</td>\n",
       "      <td>India</td>\n",
       "      <td>INR</td>\n",
       "      <td>...</td>\n",
       "      <td>India</td>\n",
       "      <td>India</td>\n",
       "      <td>Manufacturing</td>\n",
       "      <td>Chemical Manufacturing</td>\n",
       "      <td>Pharmaceutical and Medicine Manufacturing</td>\n",
       "      <td>NaN</td>\n",
       "      <td>7.741922</td>\n",
       "      <td>NaN</td>\n",
       "      <td>Micro Cap</td>\n",
       "      <td>NaN</td>\n",
       "    </tr>\n",
       "  </tbody>\n",
       "</table>\n",
       "<p>5 rows × 49 columns</p>\n",
       "</div>"
      ],
      "text/plain": [
       "        Tick | Curr   IB Ticker              Company Name  \\\n",
       "0     HCLTECH | INR     HCLTECH          HCL Technologies   \n",
       "1         KCP | INR         KCP                       KCP   \n",
       "2    GLENMARK | INR    GLENMARK  Glenmark Pharmaceuticals   \n",
       "3  NATCOPHARM | INR  NATCOPHARM              Natco Pharma   \n",
       "4        STAR | INR        STAR    Strides Pharma Science   \n",
       "\n",
       "                 Industry             GICS Sector  \\\n",
       "0             IT Services  Information Technology   \n",
       "1  Construction Materials               Materials   \n",
       "2         Pharmaceuticals             Health Care   \n",
       "3         Pharmaceuticals             Health Care   \n",
       "4         Pharmaceuticals             Health Care   \n",
       "\n",
       "                                Business Description  Mkt Cap mn USD  \\\n",
       "0  HCL Technologies Limited is a technology compa...    55011.151374   \n",
       "1  The KCP Limited is an India-based company that...      317.583207   \n",
       "2  Glenmark Pharmaceuticals Limited is an India-b...     4823.919807   \n",
       "3  Natco Pharma Limited is an India-based vertica...     2473.250079   \n",
       "4  Strides Pharma Science Limited is an India-bas...      743.187888   \n",
       "\n",
       "   Stock Price Market Currency  ...  Country of HQ  Market adj  \\\n",
       "0      1725.45  India      INR  ...          India       India   \n",
       "1       209.41  India      INR  ...          India       India   \n",
       "2      1453.20  India      INR  ...          India       India   \n",
       "3      1173.85  India      INR  ...          India       India   \n",
       "4       685.50  India      INR  ...          India       India   \n",
       "\n",
       "                                        Sector Name  \\\n",
       "0  Professional, Scientific, and Technical Services   \n",
       "1                                     Manufacturing   \n",
       "2                                     Manufacturing   \n",
       "3                                     Manufacturing   \n",
       "4                                     Manufacturing   \n",
       "\n",
       "                                     Subsector Name  \\\n",
       "0  Professional, Scientific, and Technical Services   \n",
       "1         Nonmetallic Mineral Product Manufacturing   \n",
       "2                            Chemical Manufacturing   \n",
       "3                            Chemical Manufacturing   \n",
       "4                            Chemical Manufacturing   \n",
       "\n",
       "                                   Sub Industry  Dividend Ex Date  \\\n",
       "0  Computer Systems Design and Related Services               NaN   \n",
       "1                          Cement Manufacturing               NaN   \n",
       "2     Pharmaceutical and Medicine Manufacturing               NaN   \n",
       "3     Pharmaceutical and Medicine Manufacturing               NaN   \n",
       "4     Pharmaceutical and Medicine Manufacturing               NaN   \n",
       "\n",
       "   Avg_Volume_Daily_USD  Ideal Portfolio  Cap_Weighting  Weight  \n",
       "0             83.743463         0.033333      Large Cap  0.0325  \n",
       "1              0.688903              NaN      Micro Cap     NaN  \n",
       "2              6.229570         0.033333        Mid Cap  0.0290  \n",
       "3              6.321135         0.033333      Small Cap  0.0332  \n",
       "4              7.741922              NaN      Micro Cap     NaN  \n",
       "\n",
       "[5 rows x 49 columns]"
      ]
     },
     "execution_count": 98,
     "metadata": {},
     "output_type": "execute_result"
    }
   ],
   "source": [
    "comb.head()"
   ]
  },
  {
   "cell_type": "code",
   "execution_count": null,
   "metadata": {},
   "outputs": [],
   "source": []
  },
  {
   "cell_type": "code",
   "execution_count": 99,
   "metadata": {},
   "outputs": [
    {
     "name": "stdout",
     "output_type": "stream",
     "text": [
      "0.9988000000000002 , 0.9988000000000002 , 0.0\n"
     ]
    }
   ],
   "source": [
    "print(sum(comb['Weight'].dropna()),\",\",sum(cgsi['Weight']),\",\",sum(cgsi['Weight'])-sum(comb['Weight'].dropna())) "
   ]
  },
  {
   "cell_type": "code",
   "execution_count": 100,
   "metadata": {},
   "outputs": [
    {
     "data": {
      "text/plain": [
       "(958, 49)"
      ]
     },
     "execution_count": 100,
     "metadata": {},
     "output_type": "execute_result"
    }
   ],
   "source": [
    "comb.shape"
   ]
  },
  {
   "cell_type": "code",
   "execution_count": null,
   "metadata": {},
   "outputs": [],
   "source": []
  },
  {
   "cell_type": "code",
   "execution_count": 101,
   "metadata": {},
   "outputs": [],
   "source": [
    "comb.reset_index(drop=True,inplace=True)"
   ]
  },
  {
   "cell_type": "code",
   "execution_count": 102,
   "metadata": {},
   "outputs": [
    {
     "data": {
      "text/plain": [
       "(958, 49)"
      ]
     },
     "execution_count": 102,
     "metadata": {},
     "output_type": "execute_result"
    }
   ],
   "source": [
    "comb.shape"
   ]
  },
  {
   "cell_type": "code",
   "execution_count": 103,
   "metadata": {},
   "outputs": [],
   "source": [
    "comb = comb[~((comb['Cap_Weighting'] == 'Micro Cap') & (comb['Weight'].isna()))]"
   ]
  },
  {
   "cell_type": "code",
   "execution_count": 104,
   "metadata": {},
   "outputs": [],
   "source": [
    "comb.reset_index(drop=True,inplace=True)"
   ]
  },
  {
   "cell_type": "code",
   "execution_count": 105,
   "metadata": {},
   "outputs": [
    {
     "data": {
      "text/plain": [
       "(500, 49)"
      ]
     },
     "execution_count": 105,
     "metadata": {},
     "output_type": "execute_result"
    }
   ],
   "source": [
    "comb.shape"
   ]
  },
  {
   "cell_type": "code",
   "execution_count": null,
   "metadata": {},
   "outputs": [],
   "source": []
  },
  {
   "cell_type": "code",
   "execution_count": 106,
   "metadata": {},
   "outputs": [],
   "source": [
    "comb1=comb.copy()"
   ]
  },
  {
   "cell_type": "code",
   "execution_count": null,
   "metadata": {},
   "outputs": [],
   "source": []
  },
  {
   "cell_type": "code",
   "execution_count": 107,
   "metadata": {},
   "outputs": [
    {
     "name": "stdout",
     "output_type": "stream",
     "text": [
      "0.9988000000000002 , 0.9988000000000002 , 0.0\n"
     ]
    }
   ],
   "source": [
    "print(sum(comb1['Weight'].dropna()),\",\",sum(cgsi['Weight']),\",\",sum(cgsi['Weight'])-sum(comb1['Weight'].dropna())) "
   ]
  },
  {
   "cell_type": "code",
   "execution_count": null,
   "metadata": {},
   "outputs": [],
   "source": []
  },
  {
   "cell_type": "code",
   "execution_count": 108,
   "metadata": {},
   "outputs": [
    {
     "data": {
      "text/plain": [
       "(500, 49)"
      ]
     },
     "execution_count": 108,
     "metadata": {},
     "output_type": "execute_result"
    }
   ],
   "source": [
    "comb1.shape"
   ]
  },
  {
   "cell_type": "code",
   "execution_count": 109,
   "metadata": {},
   "outputs": [
    {
     "data": {
      "text/html": [
       "<div>\n",
       "<style scoped>\n",
       "    .dataframe tbody tr th:only-of-type {\n",
       "        vertical-align: middle;\n",
       "    }\n",
       "\n",
       "    .dataframe tbody tr th {\n",
       "        vertical-align: top;\n",
       "    }\n",
       "\n",
       "    .dataframe thead th {\n",
       "        text-align: right;\n",
       "    }\n",
       "</style>\n",
       "<table border=\"1\" class=\"dataframe\">\n",
       "  <thead>\n",
       "    <tr style=\"text-align: right;\">\n",
       "      <th></th>\n",
       "      <th>Tick | Curr</th>\n",
       "      <th>IB Ticker</th>\n",
       "      <th>Company Name</th>\n",
       "      <th>Industry</th>\n",
       "      <th>GICS Sector</th>\n",
       "      <th>Business Description</th>\n",
       "      <th>Mkt Cap mn USD</th>\n",
       "      <th>Stock Price</th>\n",
       "      <th>Market</th>\n",
       "      <th>Currency</th>\n",
       "      <th>...</th>\n",
       "      <th>Country of HQ</th>\n",
       "      <th>Market adj</th>\n",
       "      <th>Sector Name</th>\n",
       "      <th>Subsector Name</th>\n",
       "      <th>Sub Industry</th>\n",
       "      <th>Dividend Ex Date</th>\n",
       "      <th>Avg_Volume_Daily_USD</th>\n",
       "      <th>Ideal Portfolio</th>\n",
       "      <th>Cap_Weighting</th>\n",
       "      <th>Weight</th>\n",
       "    </tr>\n",
       "  </thead>\n",
       "  <tbody>\n",
       "    <tr>\n",
       "      <th>0</th>\n",
       "      <td>HCLTECH | INR</td>\n",
       "      <td>HCLTECH</td>\n",
       "      <td>HCL Technologies</td>\n",
       "      <td>IT Services</td>\n",
       "      <td>Information Technology</td>\n",
       "      <td>HCL Technologies Limited is a technology compa...</td>\n",
       "      <td>55011.151374</td>\n",
       "      <td>1725.45</td>\n",
       "      <td>India</td>\n",
       "      <td>INR</td>\n",
       "      <td>...</td>\n",
       "      <td>India</td>\n",
       "      <td>India</td>\n",
       "      <td>Professional, Scientific, and Technical Services</td>\n",
       "      <td>Professional, Scientific, and Technical Services</td>\n",
       "      <td>Computer Systems Design and Related Services</td>\n",
       "      <td>NaN</td>\n",
       "      <td>83.743463</td>\n",
       "      <td>0.033333</td>\n",
       "      <td>Large Cap</td>\n",
       "      <td>0.0325</td>\n",
       "    </tr>\n",
       "    <tr>\n",
       "      <th>1</th>\n",
       "      <td>GLENMARK | INR</td>\n",
       "      <td>GLENMARK</td>\n",
       "      <td>Glenmark Pharmaceuticals</td>\n",
       "      <td>Pharmaceuticals</td>\n",
       "      <td>Health Care</td>\n",
       "      <td>Glenmark Pharmaceuticals Limited is an India-b...</td>\n",
       "      <td>4823.919807</td>\n",
       "      <td>1453.20</td>\n",
       "      <td>India</td>\n",
       "      <td>INR</td>\n",
       "      <td>...</td>\n",
       "      <td>India</td>\n",
       "      <td>India</td>\n",
       "      <td>Manufacturing</td>\n",
       "      <td>Chemical Manufacturing</td>\n",
       "      <td>Pharmaceutical and Medicine Manufacturing</td>\n",
       "      <td>NaN</td>\n",
       "      <td>6.229570</td>\n",
       "      <td>0.033333</td>\n",
       "      <td>Mid Cap</td>\n",
       "      <td>0.0290</td>\n",
       "    </tr>\n",
       "    <tr>\n",
       "      <th>2</th>\n",
       "      <td>NATCOPHARM | INR</td>\n",
       "      <td>NATCOPHARM</td>\n",
       "      <td>Natco Pharma</td>\n",
       "      <td>Pharmaceuticals</td>\n",
       "      <td>Health Care</td>\n",
       "      <td>Natco Pharma Limited is an India-based vertica...</td>\n",
       "      <td>2473.250079</td>\n",
       "      <td>1173.85</td>\n",
       "      <td>India</td>\n",
       "      <td>INR</td>\n",
       "      <td>...</td>\n",
       "      <td>India</td>\n",
       "      <td>India</td>\n",
       "      <td>Manufacturing</td>\n",
       "      <td>Chemical Manufacturing</td>\n",
       "      <td>Pharmaceutical and Medicine Manufacturing</td>\n",
       "      <td>NaN</td>\n",
       "      <td>6.321135</td>\n",
       "      <td>0.033333</td>\n",
       "      <td>Small Cap</td>\n",
       "      <td>0.0332</td>\n",
       "    </tr>\n",
       "    <tr>\n",
       "      <th>3</th>\n",
       "      <td>VEDL | INR</td>\n",
       "      <td>VEDL</td>\n",
       "      <td>Vedanta</td>\n",
       "      <td>Metals &amp; Mining</td>\n",
       "      <td>Materials</td>\n",
       "      <td>Vedanta Limited is an India-based natural reso...</td>\n",
       "      <td>20281.599577</td>\n",
       "      <td>441.40</td>\n",
       "      <td>India</td>\n",
       "      <td>INR</td>\n",
       "      <td>...</td>\n",
       "      <td>India</td>\n",
       "      <td>India</td>\n",
       "      <td>Manufacturing</td>\n",
       "      <td>Primary Metal Manufacturing</td>\n",
       "      <td>Alumina and Aluminum Production and Processing</td>\n",
       "      <td>NaN</td>\n",
       "      <td>32.094392</td>\n",
       "      <td>0.033333</td>\n",
       "      <td>Large Cap</td>\n",
       "      <td>NaN</td>\n",
       "    </tr>\n",
       "    <tr>\n",
       "      <th>4</th>\n",
       "      <td>APLLTD | INR</td>\n",
       "      <td>APLLTD</td>\n",
       "      <td>Alembic Pharmaceuticals</td>\n",
       "      <td>Pharmaceuticals</td>\n",
       "      <td>Health Care</td>\n",
       "      <td>Alembic Pharmaceuticals Limited is an India-ba...</td>\n",
       "      <td>2127.632350</td>\n",
       "      <td>920.15</td>\n",
       "      <td>India</td>\n",
       "      <td>INR</td>\n",
       "      <td>...</td>\n",
       "      <td>India</td>\n",
       "      <td>India</td>\n",
       "      <td>Manufacturing</td>\n",
       "      <td>Chemical Manufacturing</td>\n",
       "      <td>Pharmaceutical and Medicine Manufacturing</td>\n",
       "      <td>NaN</td>\n",
       "      <td>2.170902</td>\n",
       "      <td>NaN</td>\n",
       "      <td>Small Cap</td>\n",
       "      <td>NaN</td>\n",
       "    </tr>\n",
       "  </tbody>\n",
       "</table>\n",
       "<p>5 rows × 49 columns</p>\n",
       "</div>"
      ],
      "text/plain": [
       "        Tick | Curr   IB Ticker              Company Name         Industry  \\\n",
       "0     HCLTECH | INR     HCLTECH          HCL Technologies      IT Services   \n",
       "1    GLENMARK | INR    GLENMARK  Glenmark Pharmaceuticals  Pharmaceuticals   \n",
       "2  NATCOPHARM | INR  NATCOPHARM              Natco Pharma  Pharmaceuticals   \n",
       "3        VEDL | INR        VEDL                   Vedanta  Metals & Mining   \n",
       "4      APLLTD | INR      APLLTD   Alembic Pharmaceuticals  Pharmaceuticals   \n",
       "\n",
       "              GICS Sector                               Business Description  \\\n",
       "0  Information Technology  HCL Technologies Limited is a technology compa...   \n",
       "1             Health Care  Glenmark Pharmaceuticals Limited is an India-b...   \n",
       "2             Health Care  Natco Pharma Limited is an India-based vertica...   \n",
       "3               Materials  Vedanta Limited is an India-based natural reso...   \n",
       "4             Health Care  Alembic Pharmaceuticals Limited is an India-ba...   \n",
       "\n",
       "   Mkt Cap mn USD  Stock Price Market Currency  ...  Country of HQ  \\\n",
       "0    55011.151374      1725.45  India      INR  ...          India   \n",
       "1     4823.919807      1453.20  India      INR  ...          India   \n",
       "2     2473.250079      1173.85  India      INR  ...          India   \n",
       "3    20281.599577       441.40  India      INR  ...          India   \n",
       "4     2127.632350       920.15  India      INR  ...          India   \n",
       "\n",
       "   Market adj                                       Sector Name  \\\n",
       "0       India  Professional, Scientific, and Technical Services   \n",
       "1       India                                     Manufacturing   \n",
       "2       India                                     Manufacturing   \n",
       "3       India                                     Manufacturing   \n",
       "4       India                                     Manufacturing   \n",
       "\n",
       "                                     Subsector Name  \\\n",
       "0  Professional, Scientific, and Technical Services   \n",
       "1                            Chemical Manufacturing   \n",
       "2                            Chemical Manufacturing   \n",
       "3                       Primary Metal Manufacturing   \n",
       "4                            Chemical Manufacturing   \n",
       "\n",
       "                                     Sub Industry  Dividend Ex Date  \\\n",
       "0    Computer Systems Design and Related Services               NaN   \n",
       "1       Pharmaceutical and Medicine Manufacturing               NaN   \n",
       "2       Pharmaceutical and Medicine Manufacturing               NaN   \n",
       "3  Alumina and Aluminum Production and Processing               NaN   \n",
       "4       Pharmaceutical and Medicine Manufacturing               NaN   \n",
       "\n",
       "   Avg_Volume_Daily_USD  Ideal Portfolio  Cap_Weighting  Weight  \n",
       "0             83.743463         0.033333      Large Cap  0.0325  \n",
       "1              6.229570         0.033333        Mid Cap  0.0290  \n",
       "2              6.321135         0.033333      Small Cap  0.0332  \n",
       "3             32.094392         0.033333      Large Cap     NaN  \n",
       "4              2.170902              NaN      Small Cap     NaN  \n",
       "\n",
       "[5 rows x 49 columns]"
      ]
     },
     "execution_count": 109,
     "metadata": {},
     "output_type": "execute_result"
    }
   ],
   "source": [
    "comb1.head()"
   ]
  },
  {
   "cell_type": "code",
   "execution_count": null,
   "metadata": {},
   "outputs": [],
   "source": []
  },
  {
   "cell_type": "code",
   "execution_count": 110,
   "metadata": {},
   "outputs": [],
   "source": [
    "comb1['Current_Weight'] = comb1['Weight']"
   ]
  },
  {
   "cell_type": "code",
   "execution_count": 111,
   "metadata": {},
   "outputs": [
    {
     "data": {
      "text/plain": [
       "(500, 50)"
      ]
     },
     "execution_count": 111,
     "metadata": {},
     "output_type": "execute_result"
    }
   ],
   "source": [
    "comb1.shape"
   ]
  },
  {
   "cell_type": "code",
   "execution_count": 112,
   "metadata": {},
   "outputs": [
    {
     "data": {
      "text/html": [
       "<div>\n",
       "<style scoped>\n",
       "    .dataframe tbody tr th:only-of-type {\n",
       "        vertical-align: middle;\n",
       "    }\n",
       "\n",
       "    .dataframe tbody tr th {\n",
       "        vertical-align: top;\n",
       "    }\n",
       "\n",
       "    .dataframe thead th {\n",
       "        text-align: right;\n",
       "    }\n",
       "</style>\n",
       "<table border=\"1\" class=\"dataframe\">\n",
       "  <thead>\n",
       "    <tr style=\"text-align: right;\">\n",
       "      <th></th>\n",
       "      <th>Tick | Curr</th>\n",
       "      <th>IB Ticker</th>\n",
       "      <th>Company Name</th>\n",
       "      <th>Industry</th>\n",
       "      <th>GICS Sector</th>\n",
       "      <th>Business Description</th>\n",
       "      <th>Mkt Cap mn USD</th>\n",
       "      <th>Stock Price</th>\n",
       "      <th>Market</th>\n",
       "      <th>Currency</th>\n",
       "      <th>...</th>\n",
       "      <th>Market adj</th>\n",
       "      <th>Sector Name</th>\n",
       "      <th>Subsector Name</th>\n",
       "      <th>Sub Industry</th>\n",
       "      <th>Dividend Ex Date</th>\n",
       "      <th>Avg_Volume_Daily_USD</th>\n",
       "      <th>Ideal Portfolio</th>\n",
       "      <th>Cap_Weighting</th>\n",
       "      <th>Weight</th>\n",
       "      <th>Current_Weight</th>\n",
       "    </tr>\n",
       "  </thead>\n",
       "  <tbody>\n",
       "    <tr>\n",
       "      <th>0</th>\n",
       "      <td>HCLTECH | INR</td>\n",
       "      <td>HCLTECH</td>\n",
       "      <td>HCL Technologies</td>\n",
       "      <td>IT Services</td>\n",
       "      <td>Information Technology</td>\n",
       "      <td>HCL Technologies Limited is a technology compa...</td>\n",
       "      <td>55011.151374</td>\n",
       "      <td>1725.45</td>\n",
       "      <td>India</td>\n",
       "      <td>INR</td>\n",
       "      <td>...</td>\n",
       "      <td>India</td>\n",
       "      <td>Professional, Scientific, and Technical Services</td>\n",
       "      <td>Professional, Scientific, and Technical Services</td>\n",
       "      <td>Computer Systems Design and Related Services</td>\n",
       "      <td>NaN</td>\n",
       "      <td>83.743463</td>\n",
       "      <td>0.033333</td>\n",
       "      <td>Large Cap</td>\n",
       "      <td>0.0325</td>\n",
       "      <td>0.0325</td>\n",
       "    </tr>\n",
       "    <tr>\n",
       "      <th>1</th>\n",
       "      <td>GLENMARK | INR</td>\n",
       "      <td>GLENMARK</td>\n",
       "      <td>Glenmark Pharmaceuticals</td>\n",
       "      <td>Pharmaceuticals</td>\n",
       "      <td>Health Care</td>\n",
       "      <td>Glenmark Pharmaceuticals Limited is an India-b...</td>\n",
       "      <td>4823.919807</td>\n",
       "      <td>1453.20</td>\n",
       "      <td>India</td>\n",
       "      <td>INR</td>\n",
       "      <td>...</td>\n",
       "      <td>India</td>\n",
       "      <td>Manufacturing</td>\n",
       "      <td>Chemical Manufacturing</td>\n",
       "      <td>Pharmaceutical and Medicine Manufacturing</td>\n",
       "      <td>NaN</td>\n",
       "      <td>6.229570</td>\n",
       "      <td>0.033333</td>\n",
       "      <td>Mid Cap</td>\n",
       "      <td>0.0290</td>\n",
       "      <td>0.0290</td>\n",
       "    </tr>\n",
       "    <tr>\n",
       "      <th>2</th>\n",
       "      <td>NATCOPHARM | INR</td>\n",
       "      <td>NATCOPHARM</td>\n",
       "      <td>Natco Pharma</td>\n",
       "      <td>Pharmaceuticals</td>\n",
       "      <td>Health Care</td>\n",
       "      <td>Natco Pharma Limited is an India-based vertica...</td>\n",
       "      <td>2473.250079</td>\n",
       "      <td>1173.85</td>\n",
       "      <td>India</td>\n",
       "      <td>INR</td>\n",
       "      <td>...</td>\n",
       "      <td>India</td>\n",
       "      <td>Manufacturing</td>\n",
       "      <td>Chemical Manufacturing</td>\n",
       "      <td>Pharmaceutical and Medicine Manufacturing</td>\n",
       "      <td>NaN</td>\n",
       "      <td>6.321135</td>\n",
       "      <td>0.033333</td>\n",
       "      <td>Small Cap</td>\n",
       "      <td>0.0332</td>\n",
       "      <td>0.0332</td>\n",
       "    </tr>\n",
       "    <tr>\n",
       "      <th>3</th>\n",
       "      <td>VEDL | INR</td>\n",
       "      <td>VEDL</td>\n",
       "      <td>Vedanta</td>\n",
       "      <td>Metals &amp; Mining</td>\n",
       "      <td>Materials</td>\n",
       "      <td>Vedanta Limited is an India-based natural reso...</td>\n",
       "      <td>20281.599577</td>\n",
       "      <td>441.40</td>\n",
       "      <td>India</td>\n",
       "      <td>INR</td>\n",
       "      <td>...</td>\n",
       "      <td>India</td>\n",
       "      <td>Manufacturing</td>\n",
       "      <td>Primary Metal Manufacturing</td>\n",
       "      <td>Alumina and Aluminum Production and Processing</td>\n",
       "      <td>NaN</td>\n",
       "      <td>32.094392</td>\n",
       "      <td>0.033333</td>\n",
       "      <td>Large Cap</td>\n",
       "      <td>NaN</td>\n",
       "      <td>NaN</td>\n",
       "    </tr>\n",
       "    <tr>\n",
       "      <th>4</th>\n",
       "      <td>APLLTD | INR</td>\n",
       "      <td>APLLTD</td>\n",
       "      <td>Alembic Pharmaceuticals</td>\n",
       "      <td>Pharmaceuticals</td>\n",
       "      <td>Health Care</td>\n",
       "      <td>Alembic Pharmaceuticals Limited is an India-ba...</td>\n",
       "      <td>2127.632350</td>\n",
       "      <td>920.15</td>\n",
       "      <td>India</td>\n",
       "      <td>INR</td>\n",
       "      <td>...</td>\n",
       "      <td>India</td>\n",
       "      <td>Manufacturing</td>\n",
       "      <td>Chemical Manufacturing</td>\n",
       "      <td>Pharmaceutical and Medicine Manufacturing</td>\n",
       "      <td>NaN</td>\n",
       "      <td>2.170902</td>\n",
       "      <td>NaN</td>\n",
       "      <td>Small Cap</td>\n",
       "      <td>NaN</td>\n",
       "      <td>NaN</td>\n",
       "    </tr>\n",
       "  </tbody>\n",
       "</table>\n",
       "<p>5 rows × 50 columns</p>\n",
       "</div>"
      ],
      "text/plain": [
       "        Tick | Curr   IB Ticker              Company Name         Industry  \\\n",
       "0     HCLTECH | INR     HCLTECH          HCL Technologies      IT Services   \n",
       "1    GLENMARK | INR    GLENMARK  Glenmark Pharmaceuticals  Pharmaceuticals   \n",
       "2  NATCOPHARM | INR  NATCOPHARM              Natco Pharma  Pharmaceuticals   \n",
       "3        VEDL | INR        VEDL                   Vedanta  Metals & Mining   \n",
       "4      APLLTD | INR      APLLTD   Alembic Pharmaceuticals  Pharmaceuticals   \n",
       "\n",
       "              GICS Sector                               Business Description  \\\n",
       "0  Information Technology  HCL Technologies Limited is a technology compa...   \n",
       "1             Health Care  Glenmark Pharmaceuticals Limited is an India-b...   \n",
       "2             Health Care  Natco Pharma Limited is an India-based vertica...   \n",
       "3               Materials  Vedanta Limited is an India-based natural reso...   \n",
       "4             Health Care  Alembic Pharmaceuticals Limited is an India-ba...   \n",
       "\n",
       "   Mkt Cap mn USD  Stock Price Market Currency  ...  Market adj  \\\n",
       "0    55011.151374      1725.45  India      INR  ...       India   \n",
       "1     4823.919807      1453.20  India      INR  ...       India   \n",
       "2     2473.250079      1173.85  India      INR  ...       India   \n",
       "3    20281.599577       441.40  India      INR  ...       India   \n",
       "4     2127.632350       920.15  India      INR  ...       India   \n",
       "\n",
       "                                        Sector Name  \\\n",
       "0  Professional, Scientific, and Technical Services   \n",
       "1                                     Manufacturing   \n",
       "2                                     Manufacturing   \n",
       "3                                     Manufacturing   \n",
       "4                                     Manufacturing   \n",
       "\n",
       "                                     Subsector Name  \\\n",
       "0  Professional, Scientific, and Technical Services   \n",
       "1                            Chemical Manufacturing   \n",
       "2                            Chemical Manufacturing   \n",
       "3                       Primary Metal Manufacturing   \n",
       "4                            Chemical Manufacturing   \n",
       "\n",
       "                                     Sub Industry  Dividend Ex Date  \\\n",
       "0    Computer Systems Design and Related Services               NaN   \n",
       "1       Pharmaceutical and Medicine Manufacturing               NaN   \n",
       "2       Pharmaceutical and Medicine Manufacturing               NaN   \n",
       "3  Alumina and Aluminum Production and Processing               NaN   \n",
       "4       Pharmaceutical and Medicine Manufacturing               NaN   \n",
       "\n",
       "   Avg_Volume_Daily_USD  Ideal Portfolio  Cap_Weighting  Weight  \\\n",
       "0             83.743463         0.033333      Large Cap  0.0325   \n",
       "1              6.229570         0.033333        Mid Cap  0.0290   \n",
       "2              6.321135         0.033333      Small Cap  0.0332   \n",
       "3             32.094392         0.033333      Large Cap     NaN   \n",
       "4              2.170902              NaN      Small Cap     NaN   \n",
       "\n",
       "   Current_Weight  \n",
       "0          0.0325  \n",
       "1          0.0290  \n",
       "2          0.0332  \n",
       "3             NaN  \n",
       "4             NaN  \n",
       "\n",
       "[5 rows x 50 columns]"
      ]
     },
     "execution_count": 112,
     "metadata": {},
     "output_type": "execute_result"
    }
   ],
   "source": [
    "comb1.head()"
   ]
  },
  {
   "cell_type": "code",
   "execution_count": 113,
   "metadata": {},
   "outputs": [],
   "source": [
    "comb1['Ideal_Weight'] = comb1['Ideal Portfolio']\n",
    "comb1['Proposed_Weight'] = comb1['Weight']"
   ]
  },
  {
   "cell_type": "code",
   "execution_count": 114,
   "metadata": {},
   "outputs": [
    {
     "data": {
      "text/plain": [
       "(500, 52)"
      ]
     },
     "execution_count": 114,
     "metadata": {},
     "output_type": "execute_result"
    }
   ],
   "source": [
    "comb1.shape"
   ]
  },
  {
   "cell_type": "code",
   "execution_count": 115,
   "metadata": {},
   "outputs": [
    {
     "data": {
      "text/plain": [
       "Index(['Tick | Curr', 'IB Ticker', 'Company Name', 'Industry', 'GICS Sector',\n",
       "       'Business Description', 'Mkt Cap mn USD', 'Stock Price', 'Market',\n",
       "       'Currency', 'fx', 'Total Score', 'Value', 'Momentum', 'Quality',\n",
       "       'Volatility', 'Proprietary', 'ESG Score', 'ESG Combined Score', 'P / S',\n",
       "       'P / BV', 'P / E', 'P / CF', 'ROE', 'ROA', 'DE', 'DA', 'Dividend Yield',\n",
       "       'FCF per Share', 'Islam Flag', 'kill size', 'kill liquidity',\n",
       "       'kill extr Value1', 'kill extr Value2', 'RIC', 'ISIN', 'Ticker',\n",
       "       'Ticker Symbol', 'Exchange Ticker', 'Country of HQ', 'Market adj',\n",
       "       'Sector Name', 'Subsector Name', 'Sub Industry', 'Dividend Ex Date',\n",
       "       'Avg_Volume_Daily_USD', 'Ideal Portfolio', 'Cap_Weighting', 'Weight',\n",
       "       'Current_Weight', 'Ideal_Weight', 'Proposed_Weight'],\n",
       "      dtype='object')"
      ]
     },
     "execution_count": 115,
     "metadata": {},
     "output_type": "execute_result"
    }
   ],
   "source": [
    "comb1.columns"
   ]
  },
  {
   "cell_type": "code",
   "execution_count": null,
   "metadata": {},
   "outputs": [],
   "source": []
  },
  {
   "cell_type": "code",
   "execution_count": 116,
   "metadata": {},
   "outputs": [],
   "source": [
    "comb2=comb1[['IB Ticker', 'Company Name', 'Industry', 'GICS Sector', 'Business Description', 'Total Score','Mkt Cap mn USD','Avg_Volume_Daily_USD',\n",
    "             'Stock Price', 'Current_Weight', 'Ideal_Weight','Proposed_Weight',\n",
    "             'Quality', 'Value','Momentum', 'Volatility','Proprietary', 'ESG Combined Score',\n",
    "             'P / S', 'P / BV', 'P / E', 'P / CF', 'ROE','ROA', 'DE', 'DA', 'Dividend Yield','Islam Flag',\n",
    "             'RIC', 'ISIN','Cap_Weighting']]"
   ]
  },
  {
   "cell_type": "code",
   "execution_count": 117,
   "metadata": {},
   "outputs": [
    {
     "data": {
      "text/plain": [
       "(500, 31)"
      ]
     },
     "execution_count": 117,
     "metadata": {},
     "output_type": "execute_result"
    }
   ],
   "source": [
    "comb2.shape"
   ]
  },
  {
   "cell_type": "code",
   "execution_count": 118,
   "metadata": {},
   "outputs": [],
   "source": [
    "##\n",
    "\n",
    "#comb2=comb2.set_index('IB Ticker')\n",
    "\n",
    "\n",
    "#comb2.to_csv('India_Port_Universe_2023-09-11.csv')"
   ]
  },
  {
   "cell_type": "code",
   "execution_count": null,
   "metadata": {},
   "outputs": [],
   "source": []
  },
  {
   "cell_type": "code",
   "execution_count": 119,
   "metadata": {},
   "outputs": [
    {
     "name": "stdout",
     "output_type": "stream",
     "text": [
      "1.0 , 30\n"
     ]
    }
   ],
   "source": [
    "print(comb2['Ideal_Weight'].sum(),\",\",comb2['Ideal_Weight'].count())"
   ]
  },
  {
   "cell_type": "code",
   "execution_count": 120,
   "metadata": {},
   "outputs": [],
   "source": [
    "#2024-05-17\n",
    "##\n",
    "\n",
    "\n",
    "index=pd.read_excel(r'C:\\Users\\Vedant Wanchoo\\Desktop\\CGS 2020\\India Fund\\India Proposal\\Portfolio Assembly India\\NIFTY_500_2025-02-07.xlsx')"
   ]
  },
  {
   "cell_type": "code",
   "execution_count": 121,
   "metadata": {},
   "outputs": [
    {
     "data": {
      "text/plain": [
       "(500, 2)"
      ]
     },
     "execution_count": 121,
     "metadata": {},
     "output_type": "execute_result"
    }
   ],
   "source": [
    "index.shape"
   ]
  },
  {
   "cell_type": "code",
   "execution_count": 122,
   "metadata": {},
   "outputs": [
    {
     "data": {
      "text/html": [
       "<div>\n",
       "<style scoped>\n",
       "    .dataframe tbody tr th:only-of-type {\n",
       "        vertical-align: middle;\n",
       "    }\n",
       "\n",
       "    .dataframe tbody tr th {\n",
       "        vertical-align: top;\n",
       "    }\n",
       "\n",
       "    .dataframe thead th {\n",
       "        text-align: right;\n",
       "    }\n",
       "</style>\n",
       "<table border=\"1\" class=\"dataframe\">\n",
       "  <thead>\n",
       "    <tr style=\"text-align: right;\">\n",
       "      <th></th>\n",
       "      <th>RIC</th>\n",
       "      <th>NIFTY_500_Weight</th>\n",
       "    </tr>\n",
       "  </thead>\n",
       "  <tbody>\n",
       "    <tr>\n",
       "      <th>0</th>\n",
       "      <td>HDBK.NS</td>\n",
       "      <td>0.073096</td>\n",
       "    </tr>\n",
       "    <tr>\n",
       "      <th>1</th>\n",
       "      <td>ICBK.NS</td>\n",
       "      <td>0.049033</td>\n",
       "    </tr>\n",
       "    <tr>\n",
       "      <th>2</th>\n",
       "      <td>RELI.NS</td>\n",
       "      <td>0.044738</td>\n",
       "    </tr>\n",
       "    <tr>\n",
       "      <th>3</th>\n",
       "      <td>INFY.NS</td>\n",
       "      <td>0.036717</td>\n",
       "    </tr>\n",
       "    <tr>\n",
       "      <th>4</th>\n",
       "      <td>ITC.NS</td>\n",
       "      <td>0.024382</td>\n",
       "    </tr>\n",
       "  </tbody>\n",
       "</table>\n",
       "</div>"
      ],
      "text/plain": [
       "       RIC  NIFTY_500_Weight\n",
       "0  HDBK.NS          0.073096\n",
       "1  ICBK.NS          0.049033\n",
       "2  RELI.NS          0.044738\n",
       "3  INFY.NS          0.036717\n",
       "4   ITC.NS          0.024382"
      ]
     },
     "execution_count": 122,
     "metadata": {},
     "output_type": "execute_result"
    }
   ],
   "source": [
    "index.head()"
   ]
  },
  {
   "cell_type": "code",
   "execution_count": 123,
   "metadata": {},
   "outputs": [
    {
     "data": {
      "text/plain": [
       "0.999975"
      ]
     },
     "execution_count": 123,
     "metadata": {},
     "output_type": "execute_result"
    }
   ],
   "source": [
    "index['NIFTY_500_Weight'].sum()"
   ]
  },
  {
   "cell_type": "code",
   "execution_count": null,
   "metadata": {},
   "outputs": [],
   "source": []
  },
  {
   "cell_type": "code",
   "execution_count": 124,
   "metadata": {},
   "outputs": [
    {
     "data": {
      "text/plain": [
       "(500, 31)"
      ]
     },
     "execution_count": 124,
     "metadata": {},
     "output_type": "execute_result"
    }
   ],
   "source": [
    "comb2.shape"
   ]
  },
  {
   "cell_type": "code",
   "execution_count": 125,
   "metadata": {},
   "outputs": [
    {
     "data": {
      "text/plain": [
       "(500, 32)"
      ]
     },
     "execution_count": 125,
     "metadata": {},
     "output_type": "execute_result"
    }
   ],
   "source": [
    "comb3 = pd.merge(comb2,index,'left','RIC') # left, outer\n",
    "comb3.shape"
   ]
  },
  {
   "cell_type": "code",
   "execution_count": 126,
   "metadata": {},
   "outputs": [
    {
     "data": {
      "text/html": [
       "<div>\n",
       "<style scoped>\n",
       "    .dataframe tbody tr th:only-of-type {\n",
       "        vertical-align: middle;\n",
       "    }\n",
       "\n",
       "    .dataframe tbody tr th {\n",
       "        vertical-align: top;\n",
       "    }\n",
       "\n",
       "    .dataframe thead th {\n",
       "        text-align: right;\n",
       "    }\n",
       "</style>\n",
       "<table border=\"1\" class=\"dataframe\">\n",
       "  <thead>\n",
       "    <tr style=\"text-align: right;\">\n",
       "      <th></th>\n",
       "      <th>IB Ticker</th>\n",
       "      <th>Company Name</th>\n",
       "      <th>Industry</th>\n",
       "      <th>GICS Sector</th>\n",
       "      <th>Business Description</th>\n",
       "      <th>Total Score</th>\n",
       "      <th>Mkt Cap mn USD</th>\n",
       "      <th>Avg_Volume_Daily_USD</th>\n",
       "      <th>Stock Price</th>\n",
       "      <th>Current_Weight</th>\n",
       "      <th>...</th>\n",
       "      <th>ROE</th>\n",
       "      <th>ROA</th>\n",
       "      <th>DE</th>\n",
       "      <th>DA</th>\n",
       "      <th>Dividend Yield</th>\n",
       "      <th>Islam Flag</th>\n",
       "      <th>RIC</th>\n",
       "      <th>ISIN</th>\n",
       "      <th>Cap_Weighting</th>\n",
       "      <th>NIFTY_500_Weight</th>\n",
       "    </tr>\n",
       "  </thead>\n",
       "  <tbody>\n",
       "    <tr>\n",
       "      <th>0</th>\n",
       "      <td>HCLTECH</td>\n",
       "      <td>HCL Technologies</td>\n",
       "      <td>IT Services</td>\n",
       "      <td>Information Technology</td>\n",
       "      <td>HCL Technologies Limited is a technology compa...</td>\n",
       "      <td>43.0</td>\n",
       "      <td>55011.151374</td>\n",
       "      <td>83.743463</td>\n",
       "      <td>1725.45</td>\n",
       "      <td>0.0325</td>\n",
       "      <td>...</td>\n",
       "      <td>NaN</td>\n",
       "      <td>NaN</td>\n",
       "      <td>0.084311</td>\n",
       "      <td>0.057689</td>\n",
       "      <td>0.031296</td>\n",
       "      <td>NaN</td>\n",
       "      <td>HCLT.NS</td>\n",
       "      <td>NaN</td>\n",
       "      <td>Large Cap</td>\n",
       "      <td>0.011005</td>\n",
       "    </tr>\n",
       "    <tr>\n",
       "      <th>1</th>\n",
       "      <td>GLENMARK</td>\n",
       "      <td>Glenmark Pharmaceuticals</td>\n",
       "      <td>Pharmaceuticals</td>\n",
       "      <td>Health Care</td>\n",
       "      <td>Glenmark Pharmaceuticals Limited is an India-b...</td>\n",
       "      <td>42.0</td>\n",
       "      <td>4823.919807</td>\n",
       "      <td>6.229570</td>\n",
       "      <td>1453.20</td>\n",
       "      <td>0.0290</td>\n",
       "      <td>...</td>\n",
       "      <td>-0.114593</td>\n",
       "      <td>-0.056382</td>\n",
       "      <td>0.156855</td>\n",
       "      <td>0.085728</td>\n",
       "      <td>0.001720</td>\n",
       "      <td>1.0</td>\n",
       "      <td>GLEN.NS</td>\n",
       "      <td>INE935A01035</td>\n",
       "      <td>Mid Cap</td>\n",
       "      <td>0.001313</td>\n",
       "    </tr>\n",
       "    <tr>\n",
       "      <th>2</th>\n",
       "      <td>NATCOPHARM</td>\n",
       "      <td>Natco Pharma</td>\n",
       "      <td>Pharmaceuticals</td>\n",
       "      <td>Health Care</td>\n",
       "      <td>Natco Pharma Limited is an India-based vertica...</td>\n",
       "      <td>42.0</td>\n",
       "      <td>2473.250079</td>\n",
       "      <td>6.321135</td>\n",
       "      <td>1173.85</td>\n",
       "      <td>0.0332</td>\n",
       "      <td>...</td>\n",
       "      <td>0.312583</td>\n",
       "      <td>0.268162</td>\n",
       "      <td>0.063419</td>\n",
       "      <td>0.053748</td>\n",
       "      <td>0.004898</td>\n",
       "      <td>1.0</td>\n",
       "      <td>NATP.NS</td>\n",
       "      <td>INE987B01026</td>\n",
       "      <td>Small Cap</td>\n",
       "      <td>0.000671</td>\n",
       "    </tr>\n",
       "    <tr>\n",
       "      <th>3</th>\n",
       "      <td>VEDL</td>\n",
       "      <td>Vedanta</td>\n",
       "      <td>Metals &amp; Mining</td>\n",
       "      <td>Materials</td>\n",
       "      <td>Vedanta Limited is an India-based natural reso...</td>\n",
       "      <td>41.0</td>\n",
       "      <td>20281.599577</td>\n",
       "      <td>32.094392</td>\n",
       "      <td>441.40</td>\n",
       "      <td>NaN</td>\n",
       "      <td>...</td>\n",
       "      <td>NaN</td>\n",
       "      <td>NaN</td>\n",
       "      <td>1.572509</td>\n",
       "      <td>0.381385</td>\n",
       "      <td>0.106857</td>\n",
       "      <td>NaN</td>\n",
       "      <td>VDAN.NS</td>\n",
       "      <td>NaN</td>\n",
       "      <td>Large Cap</td>\n",
       "      <td>0.004085</td>\n",
       "    </tr>\n",
       "    <tr>\n",
       "      <th>4</th>\n",
       "      <td>APLLTD</td>\n",
       "      <td>Alembic Pharmaceuticals</td>\n",
       "      <td>Pharmaceuticals</td>\n",
       "      <td>Health Care</td>\n",
       "      <td>Alembic Pharmaceuticals Limited is an India-ba...</td>\n",
       "      <td>41.0</td>\n",
       "      <td>2127.632350</td>\n",
       "      <td>2.170902</td>\n",
       "      <td>920.15</td>\n",
       "      <td>NaN</td>\n",
       "      <td>...</td>\n",
       "      <td>0.138229</td>\n",
       "      <td>0.094456</td>\n",
       "      <td>0.106504</td>\n",
       "      <td>0.079614</td>\n",
       "      <td>0.011955</td>\n",
       "      <td>1.0</td>\n",
       "      <td>ALEM.NS</td>\n",
       "      <td>INE901L01018</td>\n",
       "      <td>Small Cap</td>\n",
       "      <td>0.000323</td>\n",
       "    </tr>\n",
       "  </tbody>\n",
       "</table>\n",
       "<p>5 rows × 32 columns</p>\n",
       "</div>"
      ],
      "text/plain": [
       "    IB Ticker              Company Name         Industry  \\\n",
       "0     HCLTECH          HCL Technologies      IT Services   \n",
       "1    GLENMARK  Glenmark Pharmaceuticals  Pharmaceuticals   \n",
       "2  NATCOPHARM              Natco Pharma  Pharmaceuticals   \n",
       "3        VEDL                   Vedanta  Metals & Mining   \n",
       "4      APLLTD   Alembic Pharmaceuticals  Pharmaceuticals   \n",
       "\n",
       "              GICS Sector                               Business Description  \\\n",
       "0  Information Technology  HCL Technologies Limited is a technology compa...   \n",
       "1             Health Care  Glenmark Pharmaceuticals Limited is an India-b...   \n",
       "2             Health Care  Natco Pharma Limited is an India-based vertica...   \n",
       "3               Materials  Vedanta Limited is an India-based natural reso...   \n",
       "4             Health Care  Alembic Pharmaceuticals Limited is an India-ba...   \n",
       "\n",
       "   Total Score  Mkt Cap mn USD  Avg_Volume_Daily_USD  Stock Price  \\\n",
       "0         43.0    55011.151374             83.743463      1725.45   \n",
       "1         42.0     4823.919807              6.229570      1453.20   \n",
       "2         42.0     2473.250079              6.321135      1173.85   \n",
       "3         41.0    20281.599577             32.094392       441.40   \n",
       "4         41.0     2127.632350              2.170902       920.15   \n",
       "\n",
       "   Current_Weight  ...       ROE       ROA        DE        DA  \\\n",
       "0          0.0325  ...       NaN       NaN  0.084311  0.057689   \n",
       "1          0.0290  ... -0.114593 -0.056382  0.156855  0.085728   \n",
       "2          0.0332  ...  0.312583  0.268162  0.063419  0.053748   \n",
       "3             NaN  ...       NaN       NaN  1.572509  0.381385   \n",
       "4             NaN  ...  0.138229  0.094456  0.106504  0.079614   \n",
       "\n",
       "   Dividend Yield  Islam Flag      RIC          ISIN  Cap_Weighting  \\\n",
       "0        0.031296         NaN  HCLT.NS           NaN      Large Cap   \n",
       "1        0.001720         1.0  GLEN.NS  INE935A01035        Mid Cap   \n",
       "2        0.004898         1.0  NATP.NS  INE987B01026      Small Cap   \n",
       "3        0.106857         NaN  VDAN.NS           NaN      Large Cap   \n",
       "4        0.011955         1.0  ALEM.NS  INE901L01018      Small Cap   \n",
       "\n",
       "   NIFTY_500_Weight  \n",
       "0          0.011005  \n",
       "1          0.001313  \n",
       "2          0.000671  \n",
       "3          0.004085  \n",
       "4          0.000323  \n",
       "\n",
       "[5 rows x 32 columns]"
      ]
     },
     "execution_count": 126,
     "metadata": {},
     "output_type": "execute_result"
    }
   ],
   "source": [
    "comb3.head()"
   ]
  },
  {
   "cell_type": "code",
   "execution_count": 127,
   "metadata": {},
   "outputs": [],
   "source": [
    "comb3.insert(12, 'NIFTY_500_Weight',comb3.pop('NIFTY_500_Weight'))"
   ]
  },
  {
   "cell_type": "code",
   "execution_count": null,
   "metadata": {},
   "outputs": [],
   "source": []
  },
  {
   "cell_type": "code",
   "execution_count": 128,
   "metadata": {},
   "outputs": [
    {
     "data": {
      "text/plain": [
       "0.9820230000000001"
      ]
     },
     "execution_count": 128,
     "metadata": {},
     "output_type": "execute_result"
    }
   ],
   "source": [
    "comb3['NIFTY_500_Weight'].sum()"
   ]
  },
  {
   "cell_type": "code",
   "execution_count": 129,
   "metadata": {},
   "outputs": [],
   "source": [
    "comb3['NIFTY_500_Weight'].fillna(0, inplace=True)\n",
    "\n",
    "nifty_500_weight_sum = comb3['NIFTY_500_Weight'].sum()\n",
    "\n",
    "comb3['NIFTY_500_Weight'] = comb3['NIFTY_500_Weight'] / nifty_500_weight_sum\n",
    "\n",
    "comb3['NIFTY_500_Weight'].replace(0, np.nan, inplace=True)"
   ]
  },
  {
   "cell_type": "code",
   "execution_count": 130,
   "metadata": {},
   "outputs": [
    {
     "data": {
      "text/plain": [
       "0.9999999999999999"
      ]
     },
     "execution_count": 130,
     "metadata": {},
     "output_type": "execute_result"
    }
   ],
   "source": [
    "comb3['NIFTY_500_Weight'].sum()"
   ]
  },
  {
   "cell_type": "code",
   "execution_count": null,
   "metadata": {},
   "outputs": [],
   "source": []
  },
  {
   "cell_type": "code",
   "execution_count": 131,
   "metadata": {},
   "outputs": [],
   "source": [
    "##\n",
    "\n",
    "comb4=comb3.set_index('IB Ticker')\n",
    "\n",
    "\n",
    "comb4.to_csv('India_Port_Universe_SmallCase_2025-02-07.csv')"
   ]
  },
  {
   "cell_type": "code",
   "execution_count": null,
   "metadata": {},
   "outputs": [],
   "source": []
  }
 ],
 "metadata": {
  "kernelspec": {
   "display_name": "Python 3 (ipykernel)",
   "language": "python",
   "name": "python3"
  },
  "language_info": {
   "codemirror_mode": {
    "name": "ipython",
    "version": 3
   },
   "file_extension": ".py",
   "mimetype": "text/x-python",
   "name": "python",
   "nbconvert_exporter": "python",
   "pygments_lexer": "ipython3",
   "version": "3.12.3"
  }
 },
 "nbformat": 4,
 "nbformat_minor": 2
}
